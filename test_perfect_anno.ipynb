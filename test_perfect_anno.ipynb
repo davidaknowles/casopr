{
 "cells": [
  {
   "cell_type": "code",
   "execution_count": 25,
   "id": "8c1cd1ed",
   "metadata": {},
   "outputs": [],
   "source": [
    "import os\n",
    "import sys\n",
    "import getopt\n",
    "\n",
    "import parse_genet\n",
    "import vi\n",
    "\n",
    "import importlib\n",
    "\n",
    "import simulate\n",
    "import torch\n",
    "import matplotlib.pyplot as plt\n",
    "import numpy as np\n",
    "\n",
    "import pyro.distributions as dist\n",
    "\n",
    "import scipy.stats\n",
    "\n",
    "import pandas as pd\n",
    "import numpy as np\n",
    "import string\n",
    "import random\n",
    "import time\n",
    "import datetime\n",
    "import PRScs"
   ]
  },
  {
   "cell_type": "markdown",
   "id": "56b1ba0b-8ea4-4d86-bdc8-f2225d64763e",
   "metadata": {},
   "source": [
    "purpose: \n",
    "* test the beta"
   ]
  },
  {
   "cell_type": "code",
   "execution_count": 2,
   "id": "07813759-6ae6-4d10-a27b-454cb52237f8",
   "metadata": {},
   "outputs": [],
   "source": [
    "sim_dict = {\n",
    "    'ref_dir' : '/gpfs/commons/groups/knowles_lab/data/ADSP_reguloML/LD_PRScs/ldblk_ukbb_eur', ## add my path\n",
    "    'bim_prefix' : \"test_data/test\",\n",
    "    'sst_file' : \"test_data/sumstats.txt\",\n",
    "    'n_gwas' : 200000, \n",
    "    'out_dir' : \"test_data\",\n",
    "    \"seed\" : 42, \n",
    "    \"beta_std\" : \"False\",     \n",
    "    \"n_iter\" : 1000, \n",
    "    'anno_path': False,\n",
    "    'save_fig_name':'1000SNP'      \n",
    "}\n",
    "\n",
    "chr22_dict =  {\n",
    "    'ref_dir' : '/gpfs/commons/groups/knowles_lab/data/ADSP_reguloML/LD_PRScs/ldblk_ukbb_eur', ## add my path\n",
    "    'bim_prefix' : \"test_data/ibd_qc_chr22\",\n",
    "    'sst_file' : \"test_data/wightman_chr22.tsv\",\n",
    "    'n_gwas' : 200000, \n",
    "    'out_dir' : \"test_data\",\n",
    "    \"seed\" : 42, \n",
    "    \"beta_std\" : \"False\", \n",
    "    \"n_iter\" : 1000, \n",
    "    'anno_path': False,\n",
    "    'save_fig_name':'chr22'      \n",
    "}"
   ]
  },
  {
   "cell_type": "code",
   "execution_count": 33,
   "id": "0d0abc22-881a-42c6-9ade-db169bb1f7a1",
   "metadata": {},
   "outputs": [],
   "source": [
    "import test_simulation, parse_genet"
   ]
  },
  {
   "cell_type": "code",
   "execution_count": 48,
   "id": "5381f43c-7c15-40bf-bd08-6b67e3d44656",
   "metadata": {},
   "outputs": [
    {
     "name": "stdout",
     "output_type": "stream",
     "text": [
      "running on chr22\n",
      "fig will be saved in /gpfs/commons/home/tlin/pic/casioPR/simulation/1025/prop_nz_0.05_chr22_original_fixed_iter1_v70_\n",
      "... parse reference file: /gpfs/commons/groups/knowles_lab/data/ADSP_reguloML/LD_PRScs/ldblk_ukbb_eur/snpinfo_ukbb_hm3 ...\n",
      "... parse sumstats file: test_data/wightman_chr22.tsv ...\n",
      "... 14014 common SNPs in the reference, sumstats, and validation set ...\n",
      "There are 24 ld_block. \n",
      "\n",
      "using annotations from None\n",
      "... parse annotations ...\n",
      "No annotation used\n",
      "start VI...\n",
      "Re-train the model 1 time(s)\n",
      "... Starting SVI ...\n",
      "Degenerate LD mat (min eigenvalue=-9.060e-04), fixing to 1.000e-03\n",
      "Degenerate LD mat (min eigenvalue=-2.416e-03), fixing to 1.000e-03\n",
      "Degenerate LD mat (min eigenvalue=-2.087e-02), fixing to 1.000e-03\n",
      "Degenerate LD mat (min eigenvalue=-5.386e-03), fixing to 1.000e-03\n",
      "Degenerate LD mat (min eigenvalue=-1.032e-02), fixing to 1.000e-03\n",
      "Degenerate LD mat (min eigenvalue=-3.347e-03), fixing to 1.000e-03\n",
      "Degenerate LD mat (min eigenvalue=-4.880e-03), fixing to 1.000e-03\n",
      "Degenerate LD mat (min eigenvalue=-2.507e-03), fixing to 1.000e-03\n",
      "Degenerate LD mat (min eigenvalue=-3.624e-03), fixing to 1.000e-03\n",
      "Degenerate LD mat (min eigenvalue=-6.262e-03), fixing to 1.000e-03\n",
      "Degenerate LD mat (min eigenvalue=-7.922e-03), fixing to 1.000e-03\n",
      "Degenerate LD mat (min eigenvalue=-1.371e-02), fixing to 1.000e-03\n",
      "Degenerate LD mat (min eigenvalue=-4.004e-03), fixing to 1.000e-03\n",
      "Degenerate LD mat (min eigenvalue=-1.255e-02), fixing to 1.000e-03\n",
      "Degenerate LD mat (min eigenvalue=-8.230e-04), fixing to 1.000e-03\n",
      "Degenerate LD mat (min eigenvalue=-3.125e-03), fixing to 1.000e-03\n",
      "Degenerate LD mat (min eigenvalue=-1.344e-02), fixing to 1.000e-03\n",
      "Degenerate LD mat (min eigenvalue=-2.544e-03), fixing to 1.000e-03\n",
      "Degenerate LD mat (min eigenvalue=-3.674e-02), fixing to 1.000e-03\n",
      "Degenerate LD mat (min eigenvalue=-1.538e-02), fixing to 1.000e-03\n",
      "Degenerate LD mat (min eigenvalue=-8.091e-03), fixing to 1.000e-03\n",
      "Degenerate LD mat (min eigenvalue=-3.074e-03), fixing to 1.000e-03\n",
      "Degenerate LD mat (min eigenvalue=-3.699e-03), fixing to 1.000e-03\n",
      "Degenerate LD mat (min eigenvalue=-6.810e-03), fixing to 1.000e-03\n",
      "Done after 236 iterations. Increasing num_particles to 2.\n",
      "Done after 74 iterations. Increasing num_particles to 4.\n",
      "Done after 342 iterations. Increasing num_particles to 8.\n",
      "Done in 1463.05 seconds \n",
      "\n",
      "phi_prior True\n",
      "constrain_sigma True\n"
     ]
    },
    {
     "ename": "KeyError",
     "evalue": "'annotation_weights'",
     "output_type": "error",
     "traceback": [
      "\u001b[0;31m---------------------------------------------------------------------------\u001b[0m",
      "\u001b[0;31mKeyError\u001b[0m                                  Traceback (most recent call last)",
      "\u001b[0;32m<ipython-input-48-b483b0208bae>\u001b[0m in \u001b[0;36m<module>\u001b[0;34m\u001b[0m\n\u001b[1;32m      1\u001b[0m \u001b[0mimportlib\u001b[0m\u001b[0;34m.\u001b[0m\u001b[0mreload\u001b[0m\u001b[0;34m(\u001b[0m\u001b[0mparse_genet\u001b[0m\u001b[0;34m)\u001b[0m\u001b[0;34m\u001b[0m\u001b[0;34m\u001b[0m\u001b[0m\n\u001b[1;32m      2\u001b[0m \u001b[0mimportlib\u001b[0m\u001b[0;34m.\u001b[0m\u001b[0mreload\u001b[0m\u001b[0;34m(\u001b[0m\u001b[0mtest_simulation\u001b[0m\u001b[0;34m)\u001b[0m\u001b[0;34m\u001b[0m\u001b[0;34m\u001b[0m\u001b[0m\n\u001b[0;32m----> 3\u001b[0;31m \u001b[0mtest_simulation\u001b[0m\u001b[0;34m.\u001b[0m\u001b[0mcheck_sim_result\u001b[0m\u001b[0;34m(\u001b[0m\u001b[0;34m'prop_nz_0.05_chr22_original_fixed'\u001b[0m\u001b[0;34m,\u001b[0m\u001b[0;34m'None'\u001b[0m\u001b[0;34m,\u001b[0m \u001b[0;34m'chr22'\u001b[0m\u001b[0;34m,\u001b[0m \u001b[0mprop_nz\u001b[0m \u001b[0;34m=\u001b[0m \u001b[0;36m0.05\u001b[0m\u001b[0;34m)\u001b[0m\u001b[0;34m\u001b[0m\u001b[0;34m\u001b[0m\u001b[0m\n\u001b[0m",
      "\u001b[0;32m~/script/casopr/test_simulation.py\u001b[0m in \u001b[0;36mcheck_sim_result\u001b[0;34m(save_fig_name, anno_path, test, refit_time, prop_nz, phi_as_prior, constrain_sigma, lr, chrom, prscs_file)\u001b[0m\n\u001b[1;32m    141\u001b[0m     \u001b[0;31m#     beta_true, beta_mrg, annotations, anno_names = simulate.simulate_sumstats(ld_blk, blk_size, param_dict['n_gwas'], len(sst_dict), sst_dict,anno_path = param_dict['anno_path'], chrom=chrom,prop_nz = prop_nz)\u001b[0m\u001b[0;34m\u001b[0m\u001b[0;34m\u001b[0m\u001b[0;34m\u001b[0m\u001b[0m\n\u001b[1;32m    142\u001b[0m     \u001b[0;31m#     sst_dict[\"BETA\"] = beta_mrg\u001b[0m\u001b[0;34m\u001b[0m\u001b[0;34m\u001b[0m\u001b[0;34m\u001b[0m\u001b[0m\n\u001b[0;32m--> 143\u001b[0;31m     \u001b[0;31m# else: ## real case doesn't need simulated betas\u001b[0m\u001b[0;34m\u001b[0m\u001b[0;34m\u001b[0m\u001b[0;34m\u001b[0m\u001b[0m\n\u001b[0m\u001b[1;32m    144\u001b[0m     \u001b[0;31m#     prscs_beta = pd.read_csv(prscs_file, sep = '\\t', header = None, names = ['CHR','SNP','BP','A1','A2','PRSCS_beta'])\u001b[0m\u001b[0;34m\u001b[0m\u001b[0;34m\u001b[0m\u001b[0;34m\u001b[0m\u001b[0m\n\u001b[1;32m    145\u001b[0m     \u001b[0;31m#     sst_dict = sst_dict.merge( prscs_beta[['SNP','PRSCS_beta']], on = 'SNP')\u001b[0m\u001b[0;34m\u001b[0m\u001b[0;34m\u001b[0m\u001b[0;34m\u001b[0m\u001b[0m\n",
      "\u001b[0;31mKeyError\u001b[0m: 'annotation_weights'"
     ]
    },
    {
     "data": {
      "image/png": "[encoded data removed]",
      "text/plain": [
       "<Figure size 432x288 with 1 Axes>"
      ]
     },
     "metadata": {
      "needs_background": "light"
     },
     "output_type": "display_data"
    }
   ],
   "source": [
    "importlib.reload(parse_genet)\n",
    "importlib.reload(test_simulation)\n",
    "test_simulation.check_sim_result('prop_nz_0.05_chr22_original_fixed','None', 'chr22', prop_nz = 0.05)"
   ]
  },
  {
   "cell_type": "markdown",
   "id": "4a379126-1d63-416c-84a1-b83d303d8e3c",
   "metadata": {},
   "source": [
    "## manually testing the function\n",
    "* adding P value to sst"
   ]
  },
  {
   "cell_type": "code",
   "execution_count": 3,
   "id": "d91fc39c-b557-4bd9-965a-cfc079985f5f",
   "metadata": {},
   "outputs": [
    {
     "name": "stdout",
     "output_type": "stream",
     "text": [
      "... parse reference file: /gpfs/commons/groups/knowles_lab/data/ADSP_reguloML/LD_PRScs/ldblk_ukbb_eur/snpinfo_ukbb_hm3 ...\n",
      "... parse sumstats file: test_data/wightman_chr22.tsv ...\n",
      "... 13669 common SNPs in the reference, sumstats, and validation set ...\n"
     ]
    }
   ],
   "source": [
    "param_dict = chr22_dict\n",
    "chrom=22\n",
    "importlib.reload(parse_genet)\n",
    "ref_df = parse_genet.parse_ref(param_dict['ref_dir'] + '/snpinfo_ukbb_hm3')\n",
    "ref_df = ref_df[ref_df.CHR == chrom]\n",
    "vld_df = parse_genet.parse_bim(param_dict['bim_prefix'] + \".bim\")\n",
    "vld_df = vld_df[vld_df.CHR == chrom]\n",
    "sst_dict = parse_genet.parse_sumstats(ref_df, vld_df, param_dict['sst_file'], param_dict['n_gwas'])"
   ]
  },
  {
   "cell_type": "code",
   "execution_count": 5,
   "id": "f268ca4a-7885-427c-a823-5cc00b58f0d8",
   "metadata": {},
   "outputs": [
    {
     "data": {
      "text/html": [
       "<div>\n",
       "<style scoped>\n",
       "    .dataframe tbody tr th:only-of-type {\n",
       "        vertical-align: middle;\n",
       "    }\n",
       "\n",
       "    .dataframe tbody tr th {\n",
       "        vertical-align: top;\n",
       "    }\n",
       "\n",
       "    .dataframe thead th {\n",
       "        text-align: right;\n",
       "    }\n",
       "</style>\n",
       "<table border=\"1\" class=\"dataframe\">\n",
       "  <thead>\n",
       "    <tr style=\"text-align: right;\">\n",
       "      <th></th>\n",
       "      <th>CHR</th>\n",
       "      <th>SNP</th>\n",
       "      <th>BP</th>\n",
       "      <th>A1</th>\n",
       "      <th>A2</th>\n",
       "      <th>MAF</th>\n",
       "      <th>BETA</th>\n",
       "      <th>FLP</th>\n",
       "      <th>P</th>\n",
       "    </tr>\n",
       "  </thead>\n",
       "  <tbody>\n",
       "    <tr>\n",
       "      <th>0</th>\n",
       "      <td>22</td>\n",
       "      <td>rs5747620</td>\n",
       "      <td>17032698</td>\n",
       "      <td>C</td>\n",
       "      <td>T</td>\n",
       "      <td>0.40470</td>\n",
       "      <td>0.000351</td>\n",
       "      <td>1</td>\n",
       "      <td>0.875318</td>\n",
       "    </tr>\n",
       "    <tr>\n",
       "      <th>1</th>\n",
       "      <td>22</td>\n",
       "      <td>rs9605903</td>\n",
       "      <td>17054720</td>\n",
       "      <td>C</td>\n",
       "      <td>T</td>\n",
       "      <td>0.27760</td>\n",
       "      <td>-0.000424</td>\n",
       "      <td>1</td>\n",
       "      <td>0.849729</td>\n",
       "    </tr>\n",
       "    <tr>\n",
       "      <th>2</th>\n",
       "      <td>22</td>\n",
       "      <td>rs5747940</td>\n",
       "      <td>17056415</td>\n",
       "      <td>C</td>\n",
       "      <td>T</td>\n",
       "      <td>0.50930</td>\n",
       "      <td>-0.000238</td>\n",
       "      <td>-1</td>\n",
       "      <td>0.915255</td>\n",
       "    </tr>\n",
       "    <tr>\n",
       "      <th>3</th>\n",
       "      <td>22</td>\n",
       "      <td>rs5746647</td>\n",
       "      <td>17057138</td>\n",
       "      <td>G</td>\n",
       "      <td>T</td>\n",
       "      <td>0.05351</td>\n",
       "      <td>0.000470</td>\n",
       "      <td>1</td>\n",
       "      <td>0.833665</td>\n",
       "    </tr>\n",
       "    <tr>\n",
       "      <th>4</th>\n",
       "      <td>22</td>\n",
       "      <td>rs9605927</td>\n",
       "      <td>17067005</td>\n",
       "      <td>C</td>\n",
       "      <td>T</td>\n",
       "      <td>0.02690</td>\n",
       "      <td>0.002485</td>\n",
       "      <td>1</td>\n",
       "      <td>0.266396</td>\n",
       "    </tr>\n",
       "    <tr>\n",
       "      <th>...</th>\n",
       "      <td>...</td>\n",
       "      <td>...</td>\n",
       "      <td>...</td>\n",
       "      <td>...</td>\n",
       "      <td>...</td>\n",
       "      <td>...</td>\n",
       "      <td>...</td>\n",
       "      <td>...</td>\n",
       "      <td>...</td>\n",
       "    </tr>\n",
       "    <tr>\n",
       "      <th>13664</th>\n",
       "      <td>22</td>\n",
       "      <td>rs8137951</td>\n",
       "      <td>51165664</td>\n",
       "      <td>A</td>\n",
       "      <td>G</td>\n",
       "      <td>0.30180</td>\n",
       "      <td>-0.002093</td>\n",
       "      <td>1</td>\n",
       "      <td>0.349264</td>\n",
       "    </tr>\n",
       "    <tr>\n",
       "      <th>13665</th>\n",
       "      <td>22</td>\n",
       "      <td>rs756638</td>\n",
       "      <td>51171693</td>\n",
       "      <td>A</td>\n",
       "      <td>G</td>\n",
       "      <td>0.26720</td>\n",
       "      <td>-0.003855</td>\n",
       "      <td>1</td>\n",
       "      <td>0.084673</td>\n",
       "    </tr>\n",
       "    <tr>\n",
       "      <th>13666</th>\n",
       "      <td>22</td>\n",
       "      <td>rs3810648</td>\n",
       "      <td>51175626</td>\n",
       "      <td>G</td>\n",
       "      <td>A</td>\n",
       "      <td>0.06118</td>\n",
       "      <td>0.001402</td>\n",
       "      <td>1</td>\n",
       "      <td>0.530803</td>\n",
       "    </tr>\n",
       "    <tr>\n",
       "      <th>13667</th>\n",
       "      <td>22</td>\n",
       "      <td>rs2285395</td>\n",
       "      <td>51178090</td>\n",
       "      <td>A</td>\n",
       "      <td>G</td>\n",
       "      <td>0.05199</td>\n",
       "      <td>0.002135</td>\n",
       "      <td>1</td>\n",
       "      <td>0.339751</td>\n",
       "    </tr>\n",
       "    <tr>\n",
       "      <th>13668</th>\n",
       "      <td>22</td>\n",
       "      <td>rs28729663</td>\n",
       "      <td>51219006</td>\n",
       "      <td>A</td>\n",
       "      <td>G</td>\n",
       "      <td>0.13050</td>\n",
       "      <td>-0.000299</td>\n",
       "      <td>1</td>\n",
       "      <td>0.893535</td>\n",
       "    </tr>\n",
       "  </tbody>\n",
       "</table>\n",
       "<p>13669 rows × 9 columns</p>\n",
       "</div>"
      ],
      "text/plain": [
       "       CHR         SNP        BP A1 A2      MAF      BETA  FLP         P\n",
       "0       22   rs5747620  17032698  C  T  0.40470  0.000351    1  0.875318\n",
       "1       22   rs9605903  17054720  C  T  0.27760 -0.000424    1  0.849729\n",
       "2       22   rs5747940  17056415  C  T  0.50930 -0.000238   -1  0.915255\n",
       "3       22   rs5746647  17057138  G  T  0.05351  0.000470    1  0.833665\n",
       "4       22   rs9605927  17067005  C  T  0.02690  0.002485    1  0.266396\n",
       "...    ...         ...       ... .. ..      ...       ...  ...       ...\n",
       "13664   22   rs8137951  51165664  A  G  0.30180 -0.002093    1  0.349264\n",
       "13665   22    rs756638  51171693  A  G  0.26720 -0.003855    1  0.084673\n",
       "13666   22   rs3810648  51175626  G  A  0.06118  0.001402    1  0.530803\n",
       "13667   22   rs2285395  51178090  A  G  0.05199  0.002135    1  0.339751\n",
       "13668   22  rs28729663  51219006  A  G  0.13050 -0.000299    1  0.893535\n",
       "\n",
       "[13669 rows x 9 columns]"
      ]
     },
     "execution_count": 5,
     "metadata": {},
     "output_type": "execute_result"
    }
   ],
   "source": [
    "param_dict['anno_path'] ==None:\n",
    "    losses, beta, phi_est, stats = vi.vi(sst_dict, param_dict['n_gwas'], ld_blk, blk_size, device = device, annotations = None, max_iterations = param_dict['n_iter'], min_particles = 1, max_particles=4, desired_min_eig = 1e-3, min_iterations = 200, stall_window = 30, phi_as_prior = False, lr = 0.03, constrain_sigma = True)\n",
    "        "
   ]
  },
  {
   "cell_type": "code",
   "execution_count": 4,
   "id": "af3650e6-d044-4cf4-95ac-09f64b14a74b",
   "metadata": {},
   "outputs": [
    {
     "name": "stdout",
     "output_type": "stream",
     "text": [
      "There are 24 ld_block. \n",
      "\n"
     ]
    }
   ],
   "source": [
    "prscs_file = 'test_data/ibd_wightman_pst_eff_a1_b0.5_phi1e-02_chr22.txt'\n",
    "prscs_beta = pd.read_csv(prscs_file, sep = '\\t', header = None, names = ['CHR','SNP','BP','A1','A2','PRSCS_beta'])\n",
    "sst_dict = sst_dict.merge( prscs_beta[['SNP','PRSCS_beta']], on = 'SNP') \n",
    "ld_blk, ld_blk_sym, blk_size = parse_genet.parse_ldblk(param_dict['ref_dir'], sst_dict, chrom)        \n",
    "print(\"There are %s ld_block. \\n\" %(len(ld_blk)))"
   ]
  },
  {
   "cell_type": "code",
   "execution_count": 14,
   "id": "7a72b9de-4138-4c6c-aad2-cb49c38ced0d",
   "metadata": {},
   "outputs": [
    {
     "name": "stdout",
     "output_type": "stream",
     "text": [
      "Empty DataFrame\n",
      "Columns: [CHR, SNP, BP, A1, A2, MAF, BETA, FLP, P, PRSCS_beta]\n",
      "Index: []\n",
      "count    13669.000000\n",
      "mean         0.464943\n",
      "std          0.288359\n",
      "min          0.000048\n",
      "25%          0.211653\n",
      "50%          0.451779\n",
      "75%          0.708509\n",
      "max          0.999988\n",
      "Name: P, dtype: float64\n"
     ]
    },
    {
     "data": {
      "text/plain": [
       "<matplotlib.lines.Line2D at 0x7feb83429278>"
      ]
     },
     "execution_count": 14,
     "metadata": {},
     "output_type": "execute_result"
    },
    {
     "data": {
      "image/png": "[encoded data removed]",
      "text/plain": [
       "<Figure size 432x288 with 1 Axes>"
      ]
     },
     "metadata": {
      "needs_background": "light"
     },
     "output_type": "display_data"
    }
   ],
   "source": [
    "print(sst_dict[sst_dict['P']<0])\n",
    "print((sst_dict['P']).describe())\n",
    "sst_dict['P'].plot.kde(title='P value in chr22 wightman', color='y')\n",
    "\n",
    "plt.axvline(0.2, color='r', linestyle='--', label='0.2')\n",
    "plt.axvline(0.05, color='g', linestyle='--', label='0.05')"
   ]
  },
  {
   "cell_type": "code",
   "execution_count": 15,
   "id": "667276de-da2f-42a7-93aa-b29b9d6db649",
   "metadata": {},
   "outputs": [
    {
     "name": "stdout",
     "output_type": "stream",
     "text": [
      "tensor(3221)\n",
      "tensor([False, False, False,  ..., False, False, False])\n"
     ]
    }
   ],
   "source": [
    "nz = torch.tensor(sst_dict['P'] < 0.2)\n",
    "print(nz.sum())\n",
    "print(nz)"
   ]
  },
  {
   "cell_type": "code",
   "execution_count": 16,
   "id": "120e62fd-5707-43bd-bea9-5a1c2c288a6b",
   "metadata": {},
   "outputs": [
    {
     "data": {
      "text/plain": [
       "tensor(912)"
      ]
     },
     "execution_count": 16,
     "metadata": {},
     "output_type": "execute_result"
    }
   ],
   "source": [
    "torch.tensor(sst_dict['P'] < 0.05).sum()"
   ]
  },
  {
   "cell_type": "code",
   "execution_count": 8,
   "id": "7bbf1f24-3b14-4886-9648-25160776ede2",
   "metadata": {},
   "outputs": [
    {
     "data": {
      "text/plain": [
       "tensor([[ 1.0000,  0.0000, -1.1128],\n",
       "        [ 1.0000,  0.0000, -1.0757],\n",
       "        [ 1.0000,  0.0000, -1.2305],\n",
       "        [ 1.0000,  0.0000,  0.9635],\n",
       "        [ 1.0000,  0.0000,  0.8631],\n",
       "        [ 1.0000,  0.0000,  0.1742],\n",
       "        [ 1.0000,  0.0000, -0.8930],\n",
       "        [ 1.0000,  0.0000, -0.5476],\n",
       "        [ 1.0000,  0.0000,  0.0609],\n",
       "        [ 1.0000,  0.0000, -0.1098]])"
      ]
     },
     "execution_count": 8,
     "metadata": {},
     "output_type": "execute_result"
    }
   ],
   "source": [
    "simulate.simulate_perfect_anno(sst_dict, 0.05)[0][:10]"
   ]
  },
  {
   "cell_type": "code",
   "execution_count": 19,
   "id": "f70ab243-baa5-47a2-8bbe-dff2d9efa789",
   "metadata": {},
   "outputs": [
    {
     "data": {
      "text/plain": [
       "6.672031604360231"
      ]
     },
     "execution_count": 19,
     "metadata": {},
     "output_type": "execute_result"
    }
   ],
   "source": [
    "(sst_dict['P'] < 0.05).sum()*100/sst_dict.shape[0]"
   ]
  },
  {
   "cell_type": "code",
   "execution_count": 12,
   "id": "6d54c490-48e2-451e-aeef-6f2dd3531015",
   "metadata": {},
   "outputs": [
    {
     "data": {
      "text/plain": [
       "23.56426951496086"
      ]
     },
     "execution_count": 12,
     "metadata": {},
     "output_type": "execute_result"
    }
   ],
   "source": [
    "(sst_dict['P'] < 0.2).sum()*100/sst_dict.shape[0]"
   ]
  },
  {
   "cell_type": "code",
   "execution_count": 18,
   "id": "7c54e675-ec6a-4a58-a721-8b2e24704fb6",
   "metadata": {},
   "outputs": [
    {
     "data": {
      "text/html": [
       "<div>\n",
       "<style scoped>\n",
       "    .dataframe tbody tr th:only-of-type {\n",
       "        vertical-align: middle;\n",
       "    }\n",
       "\n",
       "    .dataframe tbody tr th {\n",
       "        vertical-align: top;\n",
       "    }\n",
       "\n",
       "    .dataframe thead th {\n",
       "        text-align: right;\n",
       "    }\n",
       "</style>\n",
       "<table border=\"1\" class=\"dataframe\">\n",
       "  <thead>\n",
       "    <tr style=\"text-align: right;\">\n",
       "      <th></th>\n",
       "      <th>CHR</th>\n",
       "      <th>SNP</th>\n",
       "      <th>BP</th>\n",
       "      <th>A1</th>\n",
       "      <th>A2</th>\n",
       "      <th>MAF</th>\n",
       "      <th>BETA</th>\n",
       "      <th>FLP</th>\n",
       "      <th>P</th>\n",
       "      <th>PRSCS_beta</th>\n",
       "    </tr>\n",
       "  </thead>\n",
       "  <tbody>\n",
       "    <tr>\n",
       "      <th>0</th>\n",
       "      <td>22</td>\n",
       "      <td>rs5747620</td>\n",
       "      <td>17032698</td>\n",
       "      <td>C</td>\n",
       "      <td>T</td>\n",
       "      <td>0.40470</td>\n",
       "      <td>0.000351</td>\n",
       "      <td>1</td>\n",
       "      <td>0.875318</td>\n",
       "      <td>0.000034</td>\n",
       "    </tr>\n",
       "    <tr>\n",
       "      <th>1</th>\n",
       "      <td>22</td>\n",
       "      <td>rs9605903</td>\n",
       "      <td>17054720</td>\n",
       "      <td>C</td>\n",
       "      <td>T</td>\n",
       "      <td>0.27760</td>\n",
       "      <td>-0.000424</td>\n",
       "      <td>1</td>\n",
       "      <td>0.849729</td>\n",
       "      <td>-0.000012</td>\n",
       "    </tr>\n",
       "    <tr>\n",
       "      <th>2</th>\n",
       "      <td>22</td>\n",
       "      <td>rs5747940</td>\n",
       "      <td>17056415</td>\n",
       "      <td>C</td>\n",
       "      <td>T</td>\n",
       "      <td>0.50930</td>\n",
       "      <td>-0.000238</td>\n",
       "      <td>-1</td>\n",
       "      <td>0.915255</td>\n",
       "      <td>-0.000049</td>\n",
       "    </tr>\n",
       "    <tr>\n",
       "      <th>3</th>\n",
       "      <td>22</td>\n",
       "      <td>rs5746647</td>\n",
       "      <td>17057138</td>\n",
       "      <td>G</td>\n",
       "      <td>T</td>\n",
       "      <td>0.05351</td>\n",
       "      <td>0.000470</td>\n",
       "      <td>1</td>\n",
       "      <td>0.833665</td>\n",
       "      <td>-0.000002</td>\n",
       "    </tr>\n",
       "    <tr>\n",
       "      <th>4</th>\n",
       "      <td>22</td>\n",
       "      <td>rs9605927</td>\n",
       "      <td>17067005</td>\n",
       "      <td>C</td>\n",
       "      <td>T</td>\n",
       "      <td>0.02690</td>\n",
       "      <td>0.002485</td>\n",
       "      <td>1</td>\n",
       "      <td>0.266396</td>\n",
       "      <td>0.000359</td>\n",
       "    </tr>\n",
       "    <tr>\n",
       "      <th>5</th>\n",
       "      <td>22</td>\n",
       "      <td>rs5747968</td>\n",
       "      <td>17067504</td>\n",
       "      <td>G</td>\n",
       "      <td>T</td>\n",
       "      <td>0.33850</td>\n",
       "      <td>-0.003233</td>\n",
       "      <td>1</td>\n",
       "      <td>0.148164</td>\n",
       "      <td>-0.000265</td>\n",
       "    </tr>\n",
       "    <tr>\n",
       "      <th>6</th>\n",
       "      <td>22</td>\n",
       "      <td>rs5746664</td>\n",
       "      <td>17074622</td>\n",
       "      <td>A</td>\n",
       "      <td>C</td>\n",
       "      <td>0.05891</td>\n",
       "      <td>0.000031</td>\n",
       "      <td>1</td>\n",
       "      <td>0.988860</td>\n",
       "      <td>-0.000028</td>\n",
       "    </tr>\n",
       "    <tr>\n",
       "      <th>7</th>\n",
       "      <td>22</td>\n",
       "      <td>rs5747999</td>\n",
       "      <td>17075353</td>\n",
       "      <td>C</td>\n",
       "      <td>A</td>\n",
       "      <td>0.16130</td>\n",
       "      <td>0.000096</td>\n",
       "      <td>1</td>\n",
       "      <td>0.965586</td>\n",
       "      <td>-0.000018</td>\n",
       "    </tr>\n",
       "    <tr>\n",
       "      <th>8</th>\n",
       "      <td>22</td>\n",
       "      <td>rs2070501</td>\n",
       "      <td>17084609</td>\n",
       "      <td>A</td>\n",
       "      <td>G</td>\n",
       "      <td>0.37280</td>\n",
       "      <td>0.001694</td>\n",
       "      <td>1</td>\n",
       "      <td>0.448765</td>\n",
       "      <td>0.000137</td>\n",
       "    </tr>\n",
       "    <tr>\n",
       "      <th>9</th>\n",
       "      <td>22</td>\n",
       "      <td>rs2154615</td>\n",
       "      <td>17100497</td>\n",
       "      <td>T</td>\n",
       "      <td>C</td>\n",
       "      <td>0.14430</td>\n",
       "      <td>0.000266</td>\n",
       "      <td>1</td>\n",
       "      <td>0.905444</td>\n",
       "      <td>0.000046</td>\n",
       "    </tr>\n",
       "  </tbody>\n",
       "</table>\n",
       "</div>"
      ],
      "text/plain": [
       "   CHR        SNP        BP A1 A2      MAF      BETA  FLP         P  \\\n",
       "0   22  rs5747620  17032698  C  T  0.40470  0.000351    1  0.875318   \n",
       "1   22  rs9605903  17054720  C  T  0.27760 -0.000424    1  0.849729   \n",
       "2   22  rs5747940  17056415  C  T  0.50930 -0.000238   -1  0.915255   \n",
       "3   22  rs5746647  17057138  G  T  0.05351  0.000470    1  0.833665   \n",
       "4   22  rs9605927  17067005  C  T  0.02690  0.002485    1  0.266396   \n",
       "5   22  rs5747968  17067504  G  T  0.33850 -0.003233    1  0.148164   \n",
       "6   22  rs5746664  17074622  A  C  0.05891  0.000031    1  0.988860   \n",
       "7   22  rs5747999  17075353  C  A  0.16130  0.000096    1  0.965586   \n",
       "8   22  rs2070501  17084609  A  G  0.37280  0.001694    1  0.448765   \n",
       "9   22  rs2154615  17100497  T  C  0.14430  0.000266    1  0.905444   \n",
       "\n",
       "   PRSCS_beta  \n",
       "0    0.000034  \n",
       "1   -0.000012  \n",
       "2   -0.000049  \n",
       "3   -0.000002  \n",
       "4    0.000359  \n",
       "5   -0.000265  \n",
       "6   -0.000028  \n",
       "7   -0.000018  \n",
       "8    0.000137  \n",
       "9    0.000046  "
      ]
     },
     "execution_count": 18,
     "metadata": {},
     "output_type": "execute_result"
    }
   ],
   "source": [
    "sst_dict[:10]"
   ]
  },
  {
   "cell_type": "code",
   "execution_count": 20,
   "id": "d18cd279-14a5-4902-bff5-bb8db1a29b7a",
   "metadata": {},
   "outputs": [
    {
     "data": {
      "text/plain": [
       "tensor([[ 1.0000,  0.0000, -1.5935],\n",
       "        [ 1.0000,  0.0000, -0.4884],\n",
       "        [ 1.0000,  0.0000, -1.7526],\n",
       "        [ 1.0000,  0.0000,  1.7011],\n",
       "        [ 1.0000,  0.0000, -1.1033],\n",
       "        [ 1.0000,  1.0000, -1.1790],\n",
       "        [ 1.0000,  0.0000,  0.5492],\n",
       "        [ 1.0000,  0.0000, -0.2581],\n",
       "        [ 1.0000,  0.0000,  1.1030],\n",
       "        [ 1.0000,  0.0000,  0.0593]])"
      ]
     },
     "execution_count": 20,
     "metadata": {},
     "output_type": "execute_result"
    }
   ],
   "source": [
    "simulate.simulate_perfect_anno(sst_dict, 0.2)[0][:10]"
   ]
  },
  {
   "cell_type": "code",
   "execution_count": 39,
   "id": "1e31a551-71a7-410f-af87-75eba8c9a070",
   "metadata": {},
   "outputs": [
    {
     "name": "stderr",
     "output_type": "stream",
     "text": [
      "/gpfs/commons/home/tlin/.conda/envs/polyfun/lib/python3.6/site-packages/ipykernel_launcher.py:9: MatplotlibDeprecationWarning: Adding an axes using the same arguments as a previous axes currently reuses the earlier instance.  In a future version, a new instance will always be created and returned.  Meanwhile, this warning can be suppressed, and the future behavior ensured, by passing a unique label to each axes instance.\n",
      "  if __name__ == '__main__':\n"
     ]
    },
    {
     "data": {
      "text/plain": [
       "Text(0.5, 1.0, 'pearson r for betas in every iteration')"
      ]
     },
     "execution_count": 39,
     "metadata": {},
     "output_type": "execute_result"
    },
    {
     "data": {
      "image/png": "[encoded data removed]",
      "text/plain": [
       "<Figure size 1224x576 with 1 Axes>"
      ]
     },
     "metadata": {
      "needs_background": "light"
     },
     "output_type": "display_data"
    }
   ],
   "source": [
    "refit_time = 30\n",
    "\n",
    "rand_list = []\n",
    "for i in range(refit_time):\n",
    "    rand_list.append(random())\n",
    "    \n",
    "plt.figure(num=None, figsize=(17, 8))\n",
    "plt.plot(range(refit_time),rand_list, marker='o', linestyle='--', color='c')\n",
    "ax = plt.axes()\n",
    "    #ax.set_ylim(0.5, 1)\n",
    "plt.xticks(list(range(refit_time)),list(range(1,refit_time+1)))\n",
    "plt.title('pearson r for betas in every iteration')\n"
   ]
  },
  {
   "cell_type": "code",
   "execution_count": 24,
   "id": "321ef71e-481c-4ecf-af96-67abef8a4ee4",
   "metadata": {},
   "outputs": [
    {
     "name": "stdout",
     "output_type": "stream",
     "text": [
      "tensor([[ 1.0000,  0.0000, -1.2050],\n",
      "        [ 1.0000,  0.0000, -0.9391],\n",
      "        [ 1.0000,  0.0000,  0.7318],\n",
      "        [ 1.0000,  0.0000, -1.1613],\n",
      "        [ 1.0000,  0.0000, -0.1122],\n",
      "        [ 1.0000,  1.0000,  0.0504],\n",
      "        [ 1.0000,  0.0000, -0.3033],\n",
      "        [ 1.0000,  0.0000, -0.9861],\n",
      "        [ 1.0000,  0.0000, -0.9300],\n",
      "        [ 1.0000,  0.0000, -0.4760]])\n"
     ]
    }
   ],
   "source": [
    "#p = 13669\n",
    "print(torch.stack([torch.ones(p),nz,torch.randn(p)]).T [:10])"
   ]
  },
  {
   "cell_type": "code",
   "execution_count": 14,
   "id": "781592d9-9edf-46e0-93f6-e56c3a932a6d",
   "metadata": {},
   "outputs": [
    {
     "name": "stdout",
     "output_type": "stream",
     "text": [
      "prop_nz = 0.200000\n",
      "simulating anno...\n",
      "using real betas from sumstats ...\n"
     ]
    }
   ],
   "source": [
    "beta_true, beta_mrg, annotations, anno_names = simulate.simulate_sumstats(ld_blk, blk_size, param_dict['n_gwas'], len(sst_dict), sst_dict,anno_path = param_dict['anno_path'], chrom=chrom,prop_nz = 0.2)\n"
   ]
  },
  {
   "cell_type": "code",
   "execution_count": 54,
   "id": "bd85a310-19e2-42f0-a690-3cd63d96a352",
   "metadata": {},
   "outputs": [
    {
     "name": "stdout",
     "output_type": "stream",
     "text": [
      "sim 1k SNP\n",
      "fig will be saved in /gpfs/commons/home/tlin/pic/casioPR/simulation/1019/test_iter2_614_\n",
      "... parse reference file: /gpfs/commons/groups/knowles_lab/data/ADSP_reguloML/LD_PRScs/ldblk_ukbb_eur/snpinfo_ukbb_hm3 ...\n",
      "... parse sumstats file: test_data/sumstats.txt ...\n",
      "... 991 common SNPs in the reference, sumstats, and validation set ...\n",
      "There are 4 ld_block. \n",
      "\n",
      "prop_nz = 0.200000\n",
      "simulating anno...\n",
      "simulating betas...\n",
      "start VI...\n",
      "Re-train the model 1 time(s)\n",
      "... Starting SVI ...\n",
      "Degenerate LD mat (min eigenvalue=-4.234e-04), fixing to 1.000e-03\n",
      "Degenerate LD mat (min eigenvalue=-1.678e-03), fixing to 1.000e-03\n",
      "Degenerate LD mat (min eigenvalue=-2.295e-02), fixing to 1.000e-03\n",
      "Degenerate LD mat (min eigenvalue=-8.785e-04), fixing to 1.000e-03\n",
      "Done after 352 iterations. Increasing num_particles to 2.\n",
      "Done after 222 iterations. Increasing num_particles to 4.\n",
      "Done after 90 iterations. Increasing num_particles to 8.\n",
      "Done in 466.26 seconds \n",
      "\n",
      "phi_prior True\n",
      "constrain_sigma True\n",
      "Re-train the model 2 time(s)\n",
      "... Starting SVI ...\n",
      "Degenerate LD mat (min eigenvalue=-4.234e-04), fixing to 1.000e-03\n",
      "Degenerate LD mat (min eigenvalue=-1.678e-03), fixing to 1.000e-03\n",
      "Degenerate LD mat (min eigenvalue=-2.295e-02), fixing to 1.000e-03\n",
      "Degenerate LD mat (min eigenvalue=-8.785e-04), fixing to 1.000e-03\n",
      "Done after 220 iterations. Increasing num_particles to 2.\n",
      "Done after 145 iterations. Increasing num_particles to 4.\n",
      "Done after 115 iterations. Increasing num_particles to 8.\n",
      "Done in 383.23 seconds \n",
      "\n",
      "phi_prior True\n",
      "constrain_sigma True\n"
     ]
    },
    {
     "data": {
      "image/png": "[encoded data removed]",
      "text/plain": [
       "<Figure size 432x288 with 1 Axes>"
      ]
     },
     "metadata": {
      "needs_background": "light"
     },
     "output_type": "display_data"
    },
    {
     "data": {
      "image/png": "[encoded data removed]",
      "text/plain": [
       "<Figure size 432x288 with 1 Axes>"
      ]
     },
     "metadata": {
      "needs_background": "light"
     },
     "output_type": "display_data"
    },
    {
     "name": "stderr",
     "output_type": "stream",
     "text": [
      "/gpfs/commons/home/tlin/.conda/envs/polyfun/lib/python3.6/site-packages/seaborn/_decorators.py:43: FutureWarning: Pass the following variables as keyword args: x, y. From version 0.12, the only valid positional argument will be `data`, and passing other arguments without an explicit keyword will result in an error or misinterpretation.\n",
      "  FutureWarning\n"
     ]
    },
    {
     "data": {
      "image/png": "[encoded data removed]",
      "text/plain": [
       "<Figure size 432x288 with 1 Axes>"
      ]
     },
     "metadata": {
      "needs_background": "light"
     },
     "output_type": "display_data"
    },
    {
     "name": "stderr",
     "output_type": "stream",
     "text": [
      "/gpfs/commons/home/tlin/script/casopr/test_simulation.py:151: MatplotlibDeprecationWarning: Adding an axes using the same arguments as a previous axes currently reuses the earlier instance.  In a future version, a new instance will always be created and returned.  Meanwhile, this warning can be suppressed, and the future behavior ensured, by passing a unique label to each axes instance.\n",
      "  ax = plt.axes()\n"
     ]
    },
    {
     "data": {
      "image/png": "[encoded data removed]",
      "text/plain": [
       "<Figure size 432x288 with 1 Axes>"
      ]
     },
     "metadata": {
      "needs_background": "light"
     },
     "output_type": "display_data"
    },
    {
     "name": "stdout",
     "output_type": "stream",
     "text": [
      "anno_weight\n",
      "          0         1         2\n",
      "0 -0.025942  0.308532 -0.016267\n",
      "1 -0.020035  0.306262 -0.025097\n",
      "\n",
      "\n",
      "person R list\n",
      "[0.5268450659324301, 0.5274965716224363]\n"
     ]
    },
    {
     "data": {
      "text/plain": [
       "(          0         1         2\n",
       " 0 -0.025942  0.308532 -0.016267\n",
       " 1 -0.020035  0.306262 -0.025097,\n",
       " [0.5268450659324301, 0.5274965716224363])"
      ]
     },
     "execution_count": 54,
     "metadata": {},
     "output_type": "execute_result"
    }
   ],
   "source": [
    "#import test_simulation\n",
    "test_simulation.check_sim_result(\"test\", False, test= 'sim',refit_time = 2)"
   ]
  },
  {
   "cell_type": "code",
   "execution_count": 50,
   "id": "421adb93-4660-4454-82b1-da04fb091d55",
   "metadata": {},
   "outputs": [
    {
     "name": "stdout",
     "output_type": "stream",
     "text": [
      "fig will be saved in /gpfs/commons/home/tlin/pic/casioPR/simulation/1019/chr22_iter5_3t3_\n",
      "... parse reference file: /gpfs/commons/groups/knowles_lab/data/ADSP_reguloML/LD_PRScs/ldblk_ukbb_eur/snpinfo_ukbb_hm3 ...\n",
      "... parse sumstats file: test_data/wightman_chr22.tsv ...\n",
      "... 13669 common SNPs in the reference, sumstats, and validation set ...\n",
      "There are 24 ld_block. \n",
      "\n",
      "prop_nz = 0.200000\n",
      "simulating anno...\n",
      "using real betas from sumstats ...\n",
      "start VI...\n",
      "Fitting model 1 time(s)\n",
      "... Starting SVI ...\n",
      "Degenerate LD mat (min eigenvalue=-9.060e-04), fixing to 1.000e-03\n",
      "Degenerate LD mat (min eigenvalue=-2.416e-03), fixing to 1.000e-03\n",
      "Degenerate LD mat (min eigenvalue=-2.087e-02), fixing to 1.000e-03\n",
      "Degenerate LD mat (min eigenvalue=-5.386e-03), fixing to 1.000e-03\n",
      "Degenerate LD mat (min eigenvalue=-1.032e-02), fixing to 1.000e-03\n",
      "Degenerate LD mat (min eigenvalue=-3.347e-03), fixing to 1.000e-03\n",
      "Degenerate LD mat (min eigenvalue=-4.880e-03), fixing to 1.000e-03\n",
      "Degenerate LD mat (min eigenvalue=-2.507e-03), fixing to 1.000e-03\n",
      "Degenerate LD mat (min eigenvalue=-3.624e-03), fixing to 1.000e-03\n",
      "Degenerate LD mat (min eigenvalue=-6.262e-03), fixing to 1.000e-03\n",
      "Degenerate LD mat (min eigenvalue=-7.922e-03), fixing to 1.000e-03\n",
      "Degenerate LD mat (min eigenvalue=-1.371e-02), fixing to 1.000e-03\n",
      "Degenerate LD mat (min eigenvalue=-4.004e-03), fixing to 1.000e-03\n",
      "Degenerate LD mat (min eigenvalue=-1.255e-02), fixing to 1.000e-03\n",
      "Degenerate LD mat (min eigenvalue=-8.230e-04), fixing to 1.000e-03\n",
      "Degenerate LD mat (min eigenvalue=-3.125e-03), fixing to 1.000e-03\n",
      "Degenerate LD mat (min eigenvalue=-1.344e-02), fixing to 1.000e-03\n",
      "Degenerate LD mat (min eigenvalue=-2.544e-03), fixing to 1.000e-03\n",
      "Degenerate LD mat (min eigenvalue=-3.674e-02), fixing to 1.000e-03\n",
      "Degenerate LD mat (min eigenvalue=-1.538e-02), fixing to 1.000e-03\n",
      "Degenerate LD mat (min eigenvalue=-8.091e-03), fixing to 1.000e-03\n",
      "Degenerate LD mat (min eigenvalue=-3.074e-03), fixing to 1.000e-03\n",
      "Degenerate LD mat (min eigenvalue=-3.699e-03), fixing to 1.000e-03\n",
      "Degenerate LD mat (min eigenvalue=-6.810e-03), fixing to 1.000e-03\n",
      "Done after 206 iterations. Increasing num_particles to 2.\n",
      "Done after 147 iterations. Increasing num_particles to 4.\n",
      "Done after 304 iterations. Increasing num_particles to 8.\n",
      "Done in 548.70 seconds \n",
      "\n",
      "Fitting model 2 time(s)\n",
      "... Starting SVI ...\n",
      "Degenerate LD mat (min eigenvalue=-9.060e-04), fixing to 1.000e-03\n",
      "Degenerate LD mat (min eigenvalue=-2.416e-03), fixing to 1.000e-03\n",
      "Degenerate LD mat (min eigenvalue=-2.087e-02), fixing to 1.000e-03\n",
      "Degenerate LD mat (min eigenvalue=-5.386e-03), fixing to 1.000e-03\n",
      "Degenerate LD mat (min eigenvalue=-1.032e-02), fixing to 1.000e-03\n",
      "Degenerate LD mat (min eigenvalue=-3.347e-03), fixing to 1.000e-03\n",
      "Degenerate LD mat (min eigenvalue=-4.880e-03), fixing to 1.000e-03\n",
      "Degenerate LD mat (min eigenvalue=-2.507e-03), fixing to 1.000e-03\n",
      "Degenerate LD mat (min eigenvalue=-3.624e-03), fixing to 1.000e-03\n",
      "Degenerate LD mat (min eigenvalue=-6.262e-03), fixing to 1.000e-03\n",
      "Degenerate LD mat (min eigenvalue=-7.922e-03), fixing to 1.000e-03\n",
      "Degenerate LD mat (min eigenvalue=-1.371e-02), fixing to 1.000e-03\n",
      "Degenerate LD mat (min eigenvalue=-4.004e-03), fixing to 1.000e-03\n",
      "Degenerate LD mat (min eigenvalue=-1.255e-02), fixing to 1.000e-03\n",
      "Degenerate LD mat (min eigenvalue=-8.230e-04), fixing to 1.000e-03\n",
      "Degenerate LD mat (min eigenvalue=-3.125e-03), fixing to 1.000e-03\n",
      "Degenerate LD mat (min eigenvalue=-1.344e-02), fixing to 1.000e-03\n",
      "Degenerate LD mat (min eigenvalue=-2.544e-03), fixing to 1.000e-03\n",
      "Degenerate LD mat (min eigenvalue=-3.674e-02), fixing to 1.000e-03\n",
      "Degenerate LD mat (min eigenvalue=-1.538e-02), fixing to 1.000e-03\n",
      "Degenerate LD mat (min eigenvalue=-8.091e-03), fixing to 1.000e-03\n",
      "Degenerate LD mat (min eigenvalue=-3.074e-03), fixing to 1.000e-03\n",
      "Degenerate LD mat (min eigenvalue=-3.699e-03), fixing to 1.000e-03\n",
      "Degenerate LD mat (min eigenvalue=-6.810e-03), fixing to 1.000e-03\n",
      "Done after 215 iterations. Increasing num_particles to 2.\n",
      "Done after 32 iterations. Increasing num_particles to 4.\n",
      "Done after 79 iterations. Increasing num_particles to 8.\n",
      "Done in 217.30 seconds \n",
      "\n",
      "Fitting model 3 time(s)\n",
      "... Starting SVI ...\n",
      "Degenerate LD mat (min eigenvalue=-9.060e-04), fixing to 1.000e-03\n",
      "Degenerate LD mat (min eigenvalue=-2.416e-03), fixing to 1.000e-03\n",
      "Degenerate LD mat (min eigenvalue=-2.087e-02), fixing to 1.000e-03\n",
      "Degenerate LD mat (min eigenvalue=-5.386e-03), fixing to 1.000e-03\n",
      "Degenerate LD mat (min eigenvalue=-1.032e-02), fixing to 1.000e-03\n",
      "Degenerate LD mat (min eigenvalue=-3.347e-03), fixing to 1.000e-03\n",
      "Degenerate LD mat (min eigenvalue=-4.880e-03), fixing to 1.000e-03\n",
      "Degenerate LD mat (min eigenvalue=-2.507e-03), fixing to 1.000e-03\n",
      "Degenerate LD mat (min eigenvalue=-3.624e-03), fixing to 1.000e-03\n",
      "Degenerate LD mat (min eigenvalue=-6.262e-03), fixing to 1.000e-03\n",
      "Degenerate LD mat (min eigenvalue=-7.922e-03), fixing to 1.000e-03\n",
      "Degenerate LD mat (min eigenvalue=-1.371e-02), fixing to 1.000e-03\n",
      "Degenerate LD mat (min eigenvalue=-4.004e-03), fixing to 1.000e-03\n",
      "Degenerate LD mat (min eigenvalue=-1.255e-02), fixing to 1.000e-03\n",
      "Degenerate LD mat (min eigenvalue=-8.230e-04), fixing to 1.000e-03\n",
      "Degenerate LD mat (min eigenvalue=-3.125e-03), fixing to 1.000e-03\n",
      "Degenerate LD mat (min eigenvalue=-1.344e-02), fixing to 1.000e-03\n",
      "Degenerate LD mat (min eigenvalue=-2.544e-03), fixing to 1.000e-03\n",
      "Degenerate LD mat (min eigenvalue=-3.674e-02), fixing to 1.000e-03\n",
      "Degenerate LD mat (min eigenvalue=-1.538e-02), fixing to 1.000e-03\n",
      "Degenerate LD mat (min eigenvalue=-8.091e-03), fixing to 1.000e-03\n",
      "Degenerate LD mat (min eigenvalue=-3.074e-03), fixing to 1.000e-03\n",
      "Degenerate LD mat (min eigenvalue=-3.699e-03), fixing to 1.000e-03\n",
      "Degenerate LD mat (min eigenvalue=-6.810e-03), fixing to 1.000e-03\n",
      "Done after 219 iterations. Increasing num_particles to 2.\n",
      "Done after 88 iterations. Increasing num_particles to 4.\n",
      "Done after 134 iterations. Increasing num_particles to 8.\n",
      "Done in 335.78 seconds \n",
      "\n",
      "Fitting model 4 time(s)\n",
      "... Starting SVI ...\n",
      "Degenerate LD mat (min eigenvalue=-9.060e-04), fixing to 1.000e-03\n",
      "Degenerate LD mat (min eigenvalue=-2.416e-03), fixing to 1.000e-03\n",
      "Degenerate LD mat (min eigenvalue=-2.087e-02), fixing to 1.000e-03\n",
      "Degenerate LD mat (min eigenvalue=-5.386e-03), fixing to 1.000e-03\n",
      "Degenerate LD mat (min eigenvalue=-1.032e-02), fixing to 1.000e-03\n",
      "Degenerate LD mat (min eigenvalue=-3.347e-03), fixing to 1.000e-03\n",
      "Degenerate LD mat (min eigenvalue=-4.880e-03), fixing to 1.000e-03\n",
      "Degenerate LD mat (min eigenvalue=-2.507e-03), fixing to 1.000e-03\n",
      "Degenerate LD mat (min eigenvalue=-3.624e-03), fixing to 1.000e-03\n",
      "Degenerate LD mat (min eigenvalue=-6.262e-03), fixing to 1.000e-03\n",
      "Degenerate LD mat (min eigenvalue=-7.922e-03), fixing to 1.000e-03\n",
      "Degenerate LD mat (min eigenvalue=-1.371e-02), fixing to 1.000e-03\n",
      "Degenerate LD mat (min eigenvalue=-4.004e-03), fixing to 1.000e-03\n",
      "Degenerate LD mat (min eigenvalue=-1.255e-02), fixing to 1.000e-03\n",
      "Degenerate LD mat (min eigenvalue=-8.230e-04), fixing to 1.000e-03\n",
      "Degenerate LD mat (min eigenvalue=-3.125e-03), fixing to 1.000e-03\n",
      "Degenerate LD mat (min eigenvalue=-1.344e-02), fixing to 1.000e-03\n",
      "Degenerate LD mat (min eigenvalue=-2.544e-03), fixing to 1.000e-03\n",
      "Degenerate LD mat (min eigenvalue=-3.674e-02), fixing to 1.000e-03\n",
      "Degenerate LD mat (min eigenvalue=-1.538e-02), fixing to 1.000e-03\n",
      "Degenerate LD mat (min eigenvalue=-8.091e-03), fixing to 1.000e-03\n",
      "Degenerate LD mat (min eigenvalue=-3.074e-03), fixing to 1.000e-03\n",
      "Degenerate LD mat (min eigenvalue=-3.699e-03), fixing to 1.000e-03\n",
      "Degenerate LD mat (min eigenvalue=-6.810e-03), fixing to 1.000e-03\n",
      "Done after 202 iterations. Increasing num_particles to 2.\n",
      "Done after 211 iterations. Increasing num_particles to 4.\n",
      "Done after 169 iterations. Increasing num_particles to 8.\n",
      "Done in 433.02 seconds \n",
      "\n",
      "Fitting model 5 time(s)\n",
      "... Starting SVI ...\n",
      "Degenerate LD mat (min eigenvalue=-9.060e-04), fixing to 1.000e-03\n",
      "Degenerate LD mat (min eigenvalue=-2.416e-03), fixing to 1.000e-03\n",
      "Degenerate LD mat (min eigenvalue=-2.087e-02), fixing to 1.000e-03\n",
      "Degenerate LD mat (min eigenvalue=-5.386e-03), fixing to 1.000e-03\n",
      "Degenerate LD mat (min eigenvalue=-1.032e-02), fixing to 1.000e-03\n",
      "Degenerate LD mat (min eigenvalue=-3.347e-03), fixing to 1.000e-03\n",
      "Degenerate LD mat (min eigenvalue=-4.880e-03), fixing to 1.000e-03\n",
      "Degenerate LD mat (min eigenvalue=-2.507e-03), fixing to 1.000e-03\n",
      "Degenerate LD mat (min eigenvalue=-3.624e-03), fixing to 1.000e-03\n",
      "Degenerate LD mat (min eigenvalue=-6.262e-03), fixing to 1.000e-03\n",
      "Degenerate LD mat (min eigenvalue=-7.922e-03), fixing to 1.000e-03\n",
      "Degenerate LD mat (min eigenvalue=-1.371e-02), fixing to 1.000e-03\n",
      "Degenerate LD mat (min eigenvalue=-4.004e-03), fixing to 1.000e-03\n",
      "Degenerate LD mat (min eigenvalue=-1.255e-02), fixing to 1.000e-03\n",
      "Degenerate LD mat (min eigenvalue=-8.230e-04), fixing to 1.000e-03\n",
      "Degenerate LD mat (min eigenvalue=-3.125e-03), fixing to 1.000e-03\n",
      "Degenerate LD mat (min eigenvalue=-1.344e-02), fixing to 1.000e-03\n",
      "Degenerate LD mat (min eigenvalue=-2.544e-03), fixing to 1.000e-03\n",
      "Degenerate LD mat (min eigenvalue=-3.674e-02), fixing to 1.000e-03\n",
      "Degenerate LD mat (min eigenvalue=-1.538e-02), fixing to 1.000e-03\n",
      "Degenerate LD mat (min eigenvalue=-8.091e-03), fixing to 1.000e-03\n",
      "Degenerate LD mat (min eigenvalue=-3.074e-03), fixing to 1.000e-03\n",
      "Degenerate LD mat (min eigenvalue=-3.699e-03), fixing to 1.000e-03\n",
      "Degenerate LD mat (min eigenvalue=-6.810e-03), fixing to 1.000e-03\n",
      "Done after 202 iterations. Increasing num_particles to 2.\n",
      "Done after 145 iterations. Increasing num_particles to 4.\n",
      "Done after 97 iterations. Increasing num_particles to 8.\n",
      "Done in 304.36 seconds \n",
      "\n"
     ]
    },
    {
     "data": {
      "image/png": "[encoded data removed]",
      "text/plain": [
       "<Figure size 432x288 with 1 Axes>"
      ]
     },
     "metadata": {
      "needs_background": "light"
     },
     "output_type": "display_data"
    },
    {
     "data": {
      "image/png": "[encoded data removed]",
      "text/plain": [
       "<Figure size 432x288 with 1 Axes>"
      ]
     },
     "metadata": {
      "needs_background": "light"
     },
     "output_type": "display_data"
    },
    {
     "data": {
      "image/png": "[encoded data removed]",
      "text/plain": [
       "<Figure size 432x288 with 1 Axes>"
      ]
     },
     "metadata": {
      "needs_background": "light"
     },
     "output_type": "display_data"
    },
    {
     "name": "stderr",
     "output_type": "stream",
     "text": [
      "/gpfs/commons/home/tlin/.conda/envs/polyfun/lib/python3.6/site-packages/ipykernel_launcher.py:84: MatplotlibDeprecationWarning: Adding an axes using the same arguments as a previous axes currently reuses the earlier instance.  In a future version, a new instance will always be created and returned.  Meanwhile, this warning can be suppressed, and the future behavior ensured, by passing a unique label to each axes instance.\n"
     ]
    },
    {
     "data": {
      "image/png": "[encoded data removed]",
      "text/plain": [
       "<Figure size 432x288 with 1 Axes>"
      ]
     },
     "metadata": {
      "needs_background": "light"
     },
     "output_type": "display_data"
    },
    {
     "name": "stdout",
     "output_type": "stream",
     "text": [
      "anno_weight\n",
      "          0         1         2\n",
      "0  1.070448  1.304388  0.303840\n",
      "1  1.739533 -1.096399 -0.949032\n",
      "2  1.076671  0.722528 -0.344146\n",
      "3 -0.616623  1.901384 -0.865009\n",
      "4  1.126230 -1.098776  1.106869\n",
      "\n",
      "\n",
      "person R list\n",
      "[0.7475040883744885, 0.7686679771741901, 0.7402036284649993, 0.7499553661458432, 0.7465255389783307]\n"
     ]
    },
    {
     "data": {
      "text/plain": [
       "(          0         1         2\n",
       " 0  1.070448  1.304388  0.303840\n",
       " 1  1.739533 -1.096399 -0.949032\n",
       " 2  1.076671  0.722528 -0.344146\n",
       " 3 -0.616623  1.901384 -0.865009\n",
       " 4  1.126230 -1.098776  1.106869,\n",
       " [0.7475040883744885,\n",
       "  0.7686679771741901,\n",
       "  0.7402036284649993,\n",
       "  0.7499553661458432,\n",
       "  0.7465255389783307])"
      ]
     },
     "execution_count": 50,
     "metadata": {},
     "output_type": "execute_result"
    }
   ],
   "source": [
    "check_sim_result(chr22_dict, refit_time=5)"
   ]
  },
  {
   "cell_type": "code",
   "execution_count": 47,
   "id": "2a8bd604-4b8f-409a-8dbb-0d089b079151",
   "metadata": {
    "tags": []
   },
   "outputs": [],
   "source": [
    "importlib.reload(simulate)\n",
    "importlib.reload(parse_genet)\n",
    "## add annotations, add iteration. add path for saving the plot\n",
    "## can still run if you want to simulate anno\n",
    "def check_sim_result(param_dict,  chrom=22, refit_time=1,prop_nz = 0.2, prscs_file = 'test_data/prscs_wightman_ADSP_ibd_36k.txt'):\n",
    "    \n",
    "    ## handling the pic saving repo\n",
    "    random_name = ''.join(random.choices(string.ascii_lowercase +string.digits, k=3))\n",
    "    date = pd.Timestamp(datetime.date.today()).strftime(\"%m%d\")\n",
    "    save_dir = '/gpfs/commons/home/tlin/pic/casioPR/simulation/' + date\n",
    "    \n",
    "    if not os.path.isdir(save_dir):\n",
    "        os.mkdir(save_dir)\n",
    "\n",
    "    path= save_dir + '/' + param_dict['save_fig_name'] + '_' + 'iter%d'%refit_time +'_'+random_name +'_'\n",
    "    print(\"fig will be saved in %s\"%path)\n",
    "    \n",
    "    if '1kg' in os.path.basename(param_dict['ref_dir']):\n",
    "        ref_df = parse_genet.parse_ref(param_dict['ref_dir'] + '/snpinfo_1kg_hm3')\n",
    "    elif 'ukbb' in os.path.basename(param_dict['ref_dir']):\n",
    "        ref_df = parse_genet.parse_ref(param_dict['ref_dir'] + '/snpinfo_ukbb_hm3')\n",
    "\n",
    "    ref_df = ref_df[ref_df.CHR == chrom]\n",
    "    vld_df = parse_genet.parse_bim(param_dict['bim_prefix'] + \".bim\")\n",
    "    vld_df = vld_df[vld_df.CHR == chrom]\n",
    "    sst_dict = parse_genet.parse_sumstats(ref_df, vld_df, param_dict['sst_file'], param_dict['n_gwas'])\n",
    "                                                                                                                                                                  \n",
    "    if param_dict['anno_path'] == False:  ## This will be sim\n",
    "        ld_blk, ld_blk_sym, blk_size = parse_genet.parse_ldblk(param_dict['ref_dir'], sst_dict, chrom)\n",
    "        print(\"There are %s ld_block. \\n\" %(len(ld_blk)))\n",
    "        beta_true, beta_mrg, annotations, anno_names = simulate.simulate_sumstats(ld_blk, blk_size, param_dict['n_gwas'], len(sst_dict), sst_dict,anno_path = param_dict['anno_path'], chrom=chrom,prop_nz = prop_nz)\n",
    "        sst_dict[\"BETA\"] = beta_mrg\n",
    "    else: ## real case doesn't need simulated betas   \n",
    "        prscs_beta = pd.read_csv(prscs_file, sep = '\\t', header = None, names = ['CHR','SNP','BP','A1','A2','PRSCS_beta'])\n",
    "        sst_dict = sst_dict.merge( prscs_beta[['SNP','PRSCS_beta']], on = 'SNP') \n",
    "        ld_blk, ld_blk_sym, blk_size = parse_genet.parse_ldblk(param_dict['ref_dir'], sst_dict, chrom)        \n",
    "        print(\"There are %s ld_block. \\n\" %(len(ld_blk)))\n",
    "        annotations, anno_names =  parse_genet.parse_anno(param_dict[\"anno_path\"], sst_dict, chrom = chrom)\n",
    "        beta_true = sst_dict['PRSCS_beta']\n",
    "\n",
    "    device = torch.device(\"cuda:0\" if torch.cuda.is_available() else \"cpu\")\n",
    "    anno_names.insert(0,'intercept')\n",
    "    print(\"start VI...\")\n",
    "    importlib.reload(vi)\n",
    "    #one = torch.tensor(1., device=device)\n",
    "    \n",
    "    pearsonr_list=[]\n",
    "    anno_list=pd.DataFrame()\n",
    "\n",
    "    for i in range(refit_time):\n",
    "        print('Fitting model %d time(s)'% (i+1))\n",
    "        losses, beta, phi_est, stats = vi.vi(sst_dict, param_dict['n_gwas'], ld_blk, blk_size, device = device, annotations = annotations, max_iterations = param_dict['n_iter'], max_particles=4, desired_min_eig = 1e-3, min_iterations = 200, stall_window = 30, phi_as_prior = False, lr = 0.03, constrain_sigma = True)\n",
    "        plt.plot(losses);plt.title('losses');#plt.savefig(save_dir + '/loss/'+ param_dict['save_fig_name'] + '_' + 'iter%d'%refit_time +'_'+random_name +'_' +'loss_%s.png'%i);\n",
    "        \n",
    "        if i == refit_time-1:\n",
    "            plt.savefig(path+'loss.pdf',format ='pdf',bbox_inches='tight');plt.show()\n",
    "            \n",
    "        r=scipy.stats.pearsonr(beta_true,beta)[0]\n",
    "        pearsonr_list.append(r)\n",
    "\n",
    "        ## check anno\n",
    "        anno_df = pd.DataFrame.from_dict(stats[\"annotation_weights\"] )\n",
    "        anno_list = anno_list.append(anno_df[\"mean\"].to_frame().T, ignore_index=True)  \n",
    "    \n",
    "    ## plot anno  \n",
    "    plt.bar(anno_list.mean().index, anno_list.mean(), yerr=anno_list.std(), capsize=3, color='turquoise')\n",
    "    plt.xticks(anno_list.mean().index, anno_names, rotation=90)\n",
    "    plt.ylabel('weight')\n",
    "    plt.title('iterate %d times'%(refit_time))\n",
    "    plt.savefig(path+'anno_weight.pdf',format ='pdf',bbox_inches='tight');plt.show()\n",
    "    #print(stats[\"annotation_weights\"]) # ideally should show large positive value for second entry, and close to 0 for third (noise)\n",
    "    \n",
    "    ## only_for_perfect_anno\n",
    "    if param_dict[\"anno_path\"] == False:\n",
    "        plt.figure()\n",
    "        plt.plot(anno_list.iloc[:][1],anno_list.iloc[:][2], marker='X', linestyle='None', color='y')\n",
    "        plt.xlabel('perfect anno')\n",
    "        plt.ylabel('random anno')\n",
    "        plt.title('annotation weights')\n",
    "        plt.savefig(path+'anno_weight_scatter.pdf',format ='pdf');plt.show()   \n",
    "\n",
    "    ## plot r\n",
    "    plt.plot(range(refit_time), pearsonr_list, marker='o', linestyle='--', color='c')\n",
    "    ax = plt.axes()\n",
    "    #ax.set_ylim(0.5, 1)\n",
    "    plt.xticks(list(range(refit_time)),list(range(1,refit_time+1)))\n",
    "    plt.title('pearson r for betas in every iteration')\n",
    "    plt.savefig(path+'betas.pdf',format ='pdf');plt.show()   \n",
    "    \n",
    "    print('anno_weight')\n",
    "    print(anno_list)\n",
    "    \n",
    "    print('\\n')\n",
    "    print('person R list')\n",
    "    print(pearsonr_list)\n",
    "    return(anno_list,pearsonr_list)        "
   ]
  },
  {
   "cell_type": "code",
   "execution_count": null,
   "id": "b39ded48-f77e-482f-9551-658ef5e03181",
   "metadata": {},
   "outputs": [],
   "source": []
  },
  {
   "cell_type": "code",
   "execution_count": 27,
   "id": "05d5bef0",
   "metadata": {
    "collapsed": true,
    "jupyter": {
     "outputs_hidden": true
    },
    "tags": []
   },
   "outputs": [
    {
     "data": {
      "text/plain": [
       "{'ref_dir': '/gpfs/commons/groups/knowles_lab/data/ADSP_reguloML/LD_PRScs/ldblk_ukbb_eur',\n",
       " 'bim_prefix': 'test_data/test',\n",
       " 'sst_file': 'test_data/sumstats.txt',\n",
       " 'n_gwas': 200000,\n",
       " 'out_dir': 'test_data',\n",
       " 'seed': 42,\n",
       " 'beta_std': 'False',\n",
       " 'n_iter': 1000,\n",
       " 'anno_path': False,\n",
       " 'save_fig_name': 'perfect_anno_1kSNP_prop_nz_0.1'}"
      ]
     },
     "execution_count": 27,
     "metadata": {},
     "output_type": "execute_result"
    }
   ],
   "source": [
    "sim_dict.update(save_fig_name = 'perfect_anno_1kSNP_prop_nz_0.1')\n",
    "sim_dict"
   ]
  },
  {
   "cell_type": "code",
   "execution_count": 28,
   "id": "f10477e3-e508-4ed4-8155-a2dc8e5aa19e",
   "metadata": {
    "collapsed": true,
    "jupyter": {
     "outputs_hidden": true
    },
    "tags": []
   },
   "outputs": [
    {
     "name": "stdout",
     "output_type": "stream",
     "text": [
      "fig will be saved in /gpfs/commons/home/tlin/pic/casioPR/simulation/09_26/perfect_anno_1kSNP_prop_nz_0.1_iter20_mgc_\n",
      "... parse reference file: /gpfs/commons/groups/knowles_lab/data/ADSP_reguloML/LD_PRScs/ldblk_ukbb_eur/snpinfo_ukbb_hm3 ...\n",
      "... parse sumstats file: test_data/sumstats.txt ...\n",
      "... 991 common SNPs in the reference, sumstats, and validation set ...\n",
      "There are 4 ld_block. \n",
      "\n",
      "prop_nz = 0.100000\n",
      "simulating anno...\n",
      "start VI...\n",
      "Fitting model 1 time(s)\n",
      "... Starting SVI ...\n",
      "Degenerate LD mat (min eigenvalue=-4.233e-04), fixing to 1.000e-03\n",
      "Degenerate LD mat (min eigenvalue=-1.678e-03), fixing to 1.000e-03\n",
      "Degenerate LD mat (min eigenvalue=-2.295e-02), fixing to 1.000e-03\n",
      "Degenerate LD mat (min eigenvalue=-8.785e-04), fixing to 1.000e-03\n",
      "Done after 217 iterations. Increasing num_particles to 2.\n",
      "Done after 141 iterations. Increasing num_particles to 4.\n",
      "Done after 99 iterations. Increasing num_particles to 8.\n",
      "Done in 170.65 seconds \n",
      "\n",
      "Fitting model 2 time(s)\n",
      "... Starting SVI ...\n",
      "Degenerate LD mat (min eigenvalue=-4.233e-04), fixing to 1.000e-03\n",
      "Degenerate LD mat (min eigenvalue=-1.678e-03), fixing to 1.000e-03\n",
      "Degenerate LD mat (min eigenvalue=-2.295e-02), fixing to 1.000e-03\n",
      "Degenerate LD mat (min eigenvalue=-8.785e-04), fixing to 1.000e-03\n",
      "Done after 224 iterations. Increasing num_particles to 2.\n",
      "Done after 125 iterations. Increasing num_particles to 4.\n",
      "Done after 90 iterations. Increasing num_particles to 8.\n",
      "Done in 167.46 seconds \n",
      "\n",
      "Fitting model 3 time(s)\n",
      "... Starting SVI ...\n",
      "Degenerate LD mat (min eigenvalue=-4.233e-04), fixing to 1.000e-03\n",
      "Degenerate LD mat (min eigenvalue=-1.678e-03), fixing to 1.000e-03\n",
      "Degenerate LD mat (min eigenvalue=-2.295e-02), fixing to 1.000e-03\n",
      "Degenerate LD mat (min eigenvalue=-8.785e-04), fixing to 1.000e-03\n",
      "Done after 204 iterations. Increasing num_particles to 2.\n",
      "Done after 50 iterations. Increasing num_particles to 4.\n",
      "Done after 144 iterations. Increasing num_particles to 8.\n",
      "Done in 167.22 seconds \n",
      "\n",
      "Fitting model 4 time(s)\n",
      "... Starting SVI ...\n",
      "Degenerate LD mat (min eigenvalue=-4.233e-04), fixing to 1.000e-03\n",
      "Degenerate LD mat (min eigenvalue=-1.678e-03), fixing to 1.000e-03\n",
      "Degenerate LD mat (min eigenvalue=-2.295e-02), fixing to 1.000e-03\n",
      "Degenerate LD mat (min eigenvalue=-8.785e-04), fixing to 1.000e-03\n",
      "Done after 214 iterations. Increasing num_particles to 2.\n",
      "Done after 76 iterations. Increasing num_particles to 4.\n",
      "Done after 73 iterations. Increasing num_particles to 8.\n",
      "Done in 131.14 seconds \n",
      "\n",
      "Fitting model 5 time(s)\n",
      "... Starting SVI ...\n",
      "Degenerate LD mat (min eigenvalue=-4.233e-04), fixing to 1.000e-03\n",
      "Degenerate LD mat (min eigenvalue=-1.678e-03), fixing to 1.000e-03\n",
      "Degenerate LD mat (min eigenvalue=-2.295e-02), fixing to 1.000e-03\n",
      "Degenerate LD mat (min eigenvalue=-8.785e-04), fixing to 1.000e-03\n",
      "Done after 228 iterations. Increasing num_particles to 2.\n",
      "Done after 62 iterations. Increasing num_particles to 4.\n",
      "Done after 318 iterations. Increasing num_particles to 8.\n",
      "Done in 316.41 seconds \n",
      "\n",
      "Fitting model 6 time(s)\n",
      "... Starting SVI ...\n",
      "Degenerate LD mat (min eigenvalue=-4.233e-04), fixing to 1.000e-03\n",
      "Degenerate LD mat (min eigenvalue=-1.678e-03), fixing to 1.000e-03\n",
      "Degenerate LD mat (min eigenvalue=-2.295e-02), fixing to 1.000e-03\n",
      "Degenerate LD mat (min eigenvalue=-8.785e-04), fixing to 1.000e-03\n",
      "Done after 230 iterations. Increasing num_particles to 2.\n",
      "Done after 40 iterations. Increasing num_particles to 4.\n",
      "Done after 186 iterations. Increasing num_particles to 8.\n",
      "Done in 199.22 seconds \n",
      "\n",
      "Fitting model 7 time(s)\n",
      "... Starting SVI ...\n",
      "Degenerate LD mat (min eigenvalue=-4.233e-04), fixing to 1.000e-03\n",
      "Degenerate LD mat (min eigenvalue=-1.678e-03), fixing to 1.000e-03\n",
      "Degenerate LD mat (min eigenvalue=-2.295e-02), fixing to 1.000e-03\n",
      "Degenerate LD mat (min eigenvalue=-8.785e-04), fixing to 1.000e-03\n",
      "Done after 218 iterations. Increasing num_particles to 2.\n",
      "Done after 122 iterations. Increasing num_particles to 4.\n",
      "Done after 68 iterations. Increasing num_particles to 8.\n",
      "Done in 143.56 seconds \n",
      "\n",
      "Fitting model 8 time(s)\n",
      "... Starting SVI ...\n",
      "Degenerate LD mat (min eigenvalue=-4.233e-04), fixing to 1.000e-03\n",
      "Degenerate LD mat (min eigenvalue=-1.678e-03), fixing to 1.000e-03\n",
      "Degenerate LD mat (min eigenvalue=-2.295e-02), fixing to 1.000e-03\n",
      "Degenerate LD mat (min eigenvalue=-8.785e-04), fixing to 1.000e-03\n",
      "Done after 203 iterations. Increasing num_particles to 2.\n",
      "Done after 147 iterations. Increasing num_particles to 4.\n",
      "Done after 148 iterations. Increasing num_particles to 8.\n",
      "Done in 206.92 seconds \n",
      "\n",
      "Fitting model 9 time(s)\n",
      "... Starting SVI ...\n",
      "Degenerate LD mat (min eigenvalue=-4.233e-04), fixing to 1.000e-03\n",
      "Degenerate LD mat (min eigenvalue=-1.678e-03), fixing to 1.000e-03\n",
      "Degenerate LD mat (min eigenvalue=-2.295e-02), fixing to 1.000e-03\n",
      "Degenerate LD mat (min eigenvalue=-8.785e-04), fixing to 1.000e-03\n",
      "Done after 217 iterations. Increasing num_particles to 2.\n",
      "Done after 109 iterations. Increasing num_particles to 4.\n",
      "Done after 170 iterations. Increasing num_particles to 8.\n",
      "Done in 216.22 seconds \n",
      "\n",
      "Fitting model 10 time(s)\n",
      "... Starting SVI ...\n",
      "Degenerate LD mat (min eigenvalue=-4.233e-04), fixing to 1.000e-03\n",
      "Degenerate LD mat (min eigenvalue=-1.678e-03), fixing to 1.000e-03\n",
      "Degenerate LD mat (min eigenvalue=-2.295e-02), fixing to 1.000e-03\n",
      "Degenerate LD mat (min eigenvalue=-8.785e-04), fixing to 1.000e-03\n",
      "Done after 287 iterations. Increasing num_particles to 2.\n",
      "Done after 46 iterations. Increasing num_particles to 4.\n",
      "Done after 170 iterations. Increasing num_particles to 8.\n",
      "Done in 208.04 seconds \n",
      "\n",
      "Fitting model 11 time(s)\n",
      "... Starting SVI ...\n",
      "Degenerate LD mat (min eigenvalue=-4.233e-04), fixing to 1.000e-03\n",
      "Degenerate LD mat (min eigenvalue=-1.678e-03), fixing to 1.000e-03\n",
      "Degenerate LD mat (min eigenvalue=-2.295e-02), fixing to 1.000e-03\n",
      "Degenerate LD mat (min eigenvalue=-8.785e-04), fixing to 1.000e-03\n",
      "Done after 213 iterations. Increasing num_particles to 2.\n",
      "Done after 44 iterations. Increasing num_particles to 4.\n",
      "Done after 88 iterations. Increasing num_particles to 8.\n",
      "Done in 131.30 seconds \n",
      "\n",
      "Fitting model 12 time(s)\n",
      "... Starting SVI ...\n",
      "Degenerate LD mat (min eigenvalue=-4.233e-04), fixing to 1.000e-03\n",
      "Degenerate LD mat (min eigenvalue=-1.678e-03), fixing to 1.000e-03\n",
      "Degenerate LD mat (min eigenvalue=-2.295e-02), fixing to 1.000e-03\n",
      "Degenerate LD mat (min eigenvalue=-8.785e-04), fixing to 1.000e-03\n",
      "Done after 231 iterations. Increasing num_particles to 2.\n",
      "Done after 85 iterations. Increasing num_particles to 4.\n",
      "Done after 202 iterations. Increasing num_particles to 8.\n",
      "Done in 233.09 seconds \n",
      "\n",
      "Fitting model 13 time(s)\n",
      "... Starting SVI ...\n",
      "Degenerate LD mat (min eigenvalue=-4.233e-04), fixing to 1.000e-03\n",
      "Degenerate LD mat (min eigenvalue=-1.678e-03), fixing to 1.000e-03\n",
      "Degenerate LD mat (min eigenvalue=-2.295e-02), fixing to 1.000e-03\n",
      "Degenerate LD mat (min eigenvalue=-8.785e-04), fixing to 1.000e-03\n",
      "Done after 270 iterations. Increasing num_particles to 2.\n",
      "Done after 76 iterations. Increasing num_particles to 4.\n",
      "Done after 73 iterations. Increasing num_particles to 8.\n",
      "Done in 140.86 seconds \n",
      "\n",
      "Fitting model 14 time(s)\n",
      "... Starting SVI ...\n",
      "Degenerate LD mat (min eigenvalue=-4.233e-04), fixing to 1.000e-03\n",
      "Degenerate LD mat (min eigenvalue=-1.678e-03), fixing to 1.000e-03\n",
      "Degenerate LD mat (min eigenvalue=-2.295e-02), fixing to 1.000e-03\n",
      "Degenerate LD mat (min eigenvalue=-8.785e-04), fixing to 1.000e-03\n",
      "Done after 208 iterations. Increasing num_particles to 2.\n",
      "Done after 48 iterations. Increasing num_particles to 4.\n",
      "Done after 42 iterations. Increasing num_particles to 8.\n",
      "Done in 94.56 seconds \n",
      "\n",
      "Fitting model 15 time(s)\n",
      "... Starting SVI ...\n",
      "Degenerate LD mat (min eigenvalue=-4.233e-04), fixing to 1.000e-03\n",
      "Degenerate LD mat (min eigenvalue=-1.678e-03), fixing to 1.000e-03\n",
      "Degenerate LD mat (min eigenvalue=-2.295e-02), fixing to 1.000e-03\n",
      "Degenerate LD mat (min eigenvalue=-8.785e-04), fixing to 1.000e-03\n",
      "Done after 204 iterations. Increasing num_particles to 2.\n",
      "Done after 76 iterations. Increasing num_particles to 4.\n",
      "Done after 200 iterations. Increasing num_particles to 8.\n",
      "Done in 215.37 seconds \n",
      "\n",
      "Fitting model 16 time(s)\n",
      "... Starting SVI ...\n",
      "Degenerate LD mat (min eigenvalue=-4.233e-04), fixing to 1.000e-03\n",
      "Degenerate LD mat (min eigenvalue=-1.678e-03), fixing to 1.000e-03\n",
      "Degenerate LD mat (min eigenvalue=-2.295e-02), fixing to 1.000e-03\n",
      "Degenerate LD mat (min eigenvalue=-8.785e-04), fixing to 1.000e-03\n",
      "Done after 219 iterations. Increasing num_particles to 2.\n",
      "Done after 53 iterations. Increasing num_particles to 4.\n",
      "Done after 94 iterations. Increasing num_particles to 8.\n",
      "Done in 133.61 seconds \n",
      "\n",
      "Fitting model 17 time(s)\n",
      "... Starting SVI ...\n",
      "Degenerate LD mat (min eigenvalue=-4.233e-04), fixing to 1.000e-03\n",
      "Degenerate LD mat (min eigenvalue=-1.678e-03), fixing to 1.000e-03\n",
      "Degenerate LD mat (min eigenvalue=-2.295e-02), fixing to 1.000e-03\n",
      "Degenerate LD mat (min eigenvalue=-8.785e-04), fixing to 1.000e-03\n",
      "Done after 202 iterations. Increasing num_particles to 2.\n",
      "Done after 43 iterations. Increasing num_particles to 4.\n",
      "Done after 80 iterations. Increasing num_particles to 8.\n",
      "Done in 121.76 seconds \n",
      "\n",
      "Fitting model 18 time(s)\n",
      "... Starting SVI ...\n",
      "Degenerate LD mat (min eigenvalue=-4.233e-04), fixing to 1.000e-03\n",
      "Degenerate LD mat (min eigenvalue=-1.678e-03), fixing to 1.000e-03\n",
      "Degenerate LD mat (min eigenvalue=-2.295e-02), fixing to 1.000e-03\n",
      "Degenerate LD mat (min eigenvalue=-8.785e-04), fixing to 1.000e-03\n",
      "Done after 203 iterations. Increasing num_particles to 2.\n",
      "Done after 104 iterations. Increasing num_particles to 4.\n",
      "Done after 82 iterations. Increasing num_particles to 8.\n",
      "Done in 143.47 seconds \n",
      "\n",
      "Fitting model 19 time(s)\n",
      "... Starting SVI ...\n",
      "Degenerate LD mat (min eigenvalue=-4.233e-04), fixing to 1.000e-03\n",
      "Degenerate LD mat (min eigenvalue=-1.678e-03), fixing to 1.000e-03\n",
      "Degenerate LD mat (min eigenvalue=-2.295e-02), fixing to 1.000e-03\n",
      "Degenerate LD mat (min eigenvalue=-8.785e-04), fixing to 1.000e-03\n",
      "Done after 216 iterations. Increasing num_particles to 2.\n",
      "Done after 47 iterations. Increasing num_particles to 4.\n",
      "Done after 84 iterations. Increasing num_particles to 8.\n",
      "Done in 124.65 seconds \n",
      "\n",
      "Fitting model 20 time(s)\n",
      "... Starting SVI ...\n",
      "Degenerate LD mat (min eigenvalue=-4.233e-04), fixing to 1.000e-03\n",
      "Degenerate LD mat (min eigenvalue=-1.678e-03), fixing to 1.000e-03\n",
      "Degenerate LD mat (min eigenvalue=-2.295e-02), fixing to 1.000e-03\n",
      "Degenerate LD mat (min eigenvalue=-8.785e-04), fixing to 1.000e-03\n",
      "Done after 287 iterations. Increasing num_particles to 2.\n",
      "Done after 89 iterations. Increasing num_particles to 4.\n",
      "Done after 183 iterations. Increasing num_particles to 8.\n",
      "Done in 228.41 seconds \n",
      "\n"
     ]
    },
    {
     "data": {
      "image/png": "[encoded data removed]",
      "text/plain": [
       "<Figure size 432x288 with 1 Axes>"
      ]
     },
     "metadata": {
      "needs_background": "light"
     },
     "output_type": "display_data"
    },
    {
     "data": {
      "image/png": "[encoded data removed]",
      "text/plain": [
       "<Figure size 432x288 with 1 Axes>"
      ]
     },
     "metadata": {
      "needs_background": "light"
     },
     "output_type": "display_data"
    },
    {
     "name": "stderr",
     "output_type": "stream",
     "text": [
      "/gpfs/commons/home/tlin/.conda/envs/polyfun/lib/python3.6/site-packages/ipykernel_launcher.py:67: MatplotlibDeprecationWarning: Adding an axes using the same arguments as a previous axes currently reuses the earlier instance.  In a future version, a new instance will always be created and returned.  Meanwhile, this warning can be suppressed, and the future behavior ensured, by passing a unique label to each axes instance.\n"
     ]
    },
    {
     "data": {
      "image/png": "[encoded data removed]",
      "text/plain": [
       "<Figure size 432x288 with 1 Axes>"
      ]
     },
     "metadata": {
      "needs_background": "light"
     },
     "output_type": "display_data"
    },
    {
     "name": "stdout",
     "output_type": "stream",
     "text": [
      "anno_weight\n",
      "           0         1         2\n",
      "0   0.477210  0.195098  1.064405\n",
      "1   0.451540  0.033658 -1.270331\n",
      "2   0.067783 -0.732207  1.397358\n",
      "3   0.437854  1.136169  1.021282\n",
      "4   0.254296  1.701143 -0.958210\n",
      "5  -0.797951 -0.451852  1.631523\n",
      "6  -1.156494 -0.462057  1.654085\n",
      "7   0.229240  0.770584 -1.168949\n",
      "8   0.717061 -0.123557 -0.803604\n",
      "9   1.444456 -0.223713 -0.864543\n",
      "10 -0.307100 -0.520524 -1.340132\n",
      "11  0.027244  1.035960 -0.973780\n",
      "12  0.354528  0.368033  1.178714\n",
      "13  0.305156  0.525511  1.201790\n",
      "14  1.071155  1.020517 -0.812941\n",
      "15  0.608864 -0.299105 -1.305261\n",
      "16 -0.432242  2.055393  1.065881\n",
      "17 -0.397972  2.159701  1.201543\n",
      "18  0.223443  0.074532  1.128617\n",
      "19  0.429454  0.023194 -1.111142\n",
      "\n",
      "\n",
      "person R list\n",
      "[0.6678537222135957, 0.6802276124255157, 0.692593938074104, 0.6175492179418067, 0.6926272005005416, 0.6991597120434098, 0.6846352484384597, 0.6593244371428565, 0.6781626570002225, 0.6965772313859562, 0.6894331877338741, 0.643889033018534, 0.6767537891343961, 0.6546642798240038, 0.6735340173339521, 0.69708168561459, 0.6974358003299955, 0.7300755419498103, 0.6529568250325659, 0.6916609924447824]\n"
     ]
    },
    {
     "data": {
      "text/plain": [
       "(           0         1         2\n",
       " 0   0.477210  0.195098  1.064405\n",
       " 1   0.451540  0.033658 -1.270331\n",
       " 2   0.067783 -0.732207  1.397358\n",
       " 3   0.437854  1.136169  1.021282\n",
       " 4   0.254296  1.701143 -0.958210\n",
       " 5  -0.797951 -0.451852  1.631523\n",
       " 6  -1.156494 -0.462057  1.654085\n",
       " 7   0.229240  0.770584 -1.168949\n",
       " 8   0.717061 -0.123557 -0.803604\n",
       " 9   1.444456 -0.223713 -0.864543\n",
       " 10 -0.307100 -0.520524 -1.340132\n",
       " 11  0.027244  1.035960 -0.973780\n",
       " 12  0.354528  0.368033  1.178714\n",
       " 13  0.305156  0.525511  1.201790\n",
       " 14  1.071155  1.020517 -0.812941\n",
       " 15  0.608864 -0.299105 -1.305261\n",
       " 16 -0.432242  2.055393  1.065881\n",
       " 17 -0.397972  2.159701  1.201543\n",
       " 18  0.223443  0.074532  1.128617\n",
       " 19  0.429454  0.023194 -1.111142,\n",
       " [0.6678537222135957,\n",
       "  0.6802276124255157,\n",
       "  0.692593938074104,\n",
       "  0.6175492179418067,\n",
       "  0.6926272005005416,\n",
       "  0.6991597120434098,\n",
       "  0.6846352484384597,\n",
       "  0.6593244371428565,\n",
       "  0.6781626570002225,\n",
       "  0.6965772313859562,\n",
       "  0.6894331877338741,\n",
       "  0.643889033018534,\n",
       "  0.6767537891343961,\n",
       "  0.6546642798240038,\n",
       "  0.6735340173339521,\n",
       "  0.69708168561459,\n",
       "  0.6974358003299955,\n",
       "  0.7300755419498103,\n",
       "  0.6529568250325659,\n",
       "  0.6916609924447824])"
      ]
     },
     "execution_count": 28,
     "metadata": {},
     "output_type": "execute_result"
    }
   ],
   "source": [
    "check_sim_result(sim_dict,  chrom=22, refit_time=20, prop_nz = 0.1)"
   ]
  },
  {
   "cell_type": "code",
   "execution_count": 7,
   "id": "87659cde-3a3a-450e-bc5b-94765d04253c",
   "metadata": {
    "tags": []
   },
   "outputs": [
    {
     "data": {
      "text/plain": [
       "{'ref_dir': '/gpfs/commons/groups/knowles_lab/data/ADSP_reguloML/LD_PRScs/ldblk_ukbb_eur',\n",
       " 'bim_prefix': 'test_data/ADSP_qc_chr22',\n",
       " 'sst_file': 'test_data/wightman_chr22.tsv',\n",
       " 'n_gwas': 200000,\n",
       " 'out_dir': 'test_data',\n",
       " 'seed': 42,\n",
       " 'beta_std': 'False',\n",
       " 'n_iter': 1000,\n",
       " 'anno_path': False,\n",
       " 'save_fig_name': 'perfect_anno_chr22_prop_nz_0.1'}"
      ]
     },
     "execution_count": 7,
     "metadata": {},
     "output_type": "execute_result"
    }
   ],
   "source": [
    "chr22_dict.update(save_fig_name = 'perfect_anno_chr22_prop_nz_0.1')\n",
    "chr22_dict"
   ]
  },
  {
   "cell_type": "code",
   "execution_count": 6,
   "id": "a2a83acf-73fb-41c8-922b-8be4b6cb37fa",
   "metadata": {
    "tags": []
   },
   "outputs": [
    {
     "name": "stdout",
     "output_type": "stream",
     "text": [
      "fig will be saved in /gpfs/commons/home/tlin/pic/casioPR/simulation/0928/chr22_iter1_j9m_\n",
      "... parse reference file: /gpfs/commons/groups/knowles_lab/data/ADSP_reguloML/LD_PRScs/ldblk_ukbb_eur/snpinfo_ukbb_hm3 ...\n",
      "... parse sumstats file: test_data/wightman_chr22.tsv ...\n",
      "... 14014 common SNPs in the reference, sumstats, and validation set ...\n",
      "There are 24 ld_block. \n",
      "\n",
      "prop_nz = 0.100000\n",
      "simulating anno...\n",
      "start VI...\n",
      "Fitting model 1 time(s)\n",
      "... Starting SVI ...\n",
      "Degenerate LD mat (min eigenvalue=-9.351e-04), fixing to 1.000e-03\n",
      "Degenerate LD mat (min eigenvalue=-2.456e-03), fixing to 1.000e-03\n",
      "Degenerate LD mat (min eigenvalue=-2.087e-02), fixing to 1.000e-03\n",
      "Degenerate LD mat (min eigenvalue=-5.423e-03), fixing to 1.000e-03\n",
      "Degenerate LD mat (min eigenvalue=-1.136e-02), fixing to 1.000e-03\n",
      "Degenerate LD mat (min eigenvalue=-3.357e-03), fixing to 1.000e-03\n",
      "Degenerate LD mat (min eigenvalue=-5.320e-03), fixing to 1.000e-03\n",
      "Degenerate LD mat (min eigenvalue=-2.546e-03), fixing to 1.000e-03\n",
      "Degenerate LD mat (min eigenvalue=-3.650e-03), fixing to 1.000e-03\n",
      "Degenerate LD mat (min eigenvalue=-6.476e-03), fixing to 1.000e-03\n",
      "Degenerate LD mat (min eigenvalue=-1.174e-02), fixing to 1.000e-03\n",
      "Degenerate LD mat (min eigenvalue=-1.371e-02), fixing to 1.000e-03\n",
      "Degenerate LD mat (min eigenvalue=-4.008e-03), fixing to 1.000e-03\n",
      "Degenerate LD mat (min eigenvalue=-1.265e-02), fixing to 1.000e-03\n",
      "Degenerate LD mat (min eigenvalue=-1.096e-03), fixing to 1.000e-03\n",
      "Degenerate LD mat (min eigenvalue=-3.126e-03), fixing to 1.000e-03\n",
      "Degenerate LD mat (min eigenvalue=-1.397e-02), fixing to 1.000e-03\n",
      "Degenerate LD mat (min eigenvalue=-2.549e-03), fixing to 1.000e-03\n",
      "Degenerate LD mat (min eigenvalue=-3.676e-02), fixing to 1.000e-03\n",
      "Degenerate LD mat (min eigenvalue=-1.538e-02), fixing to 1.000e-03\n",
      "Degenerate LD mat (min eigenvalue=-8.095e-03), fixing to 1.000e-03\n",
      "Degenerate LD mat (min eigenvalue=-4.668e-03), fixing to 1.000e-03\n",
      "Degenerate LD mat (min eigenvalue=-3.716e-03), fixing to 1.000e-03\n",
      "Degenerate LD mat (min eigenvalue=-6.841e-03), fixing to 1.000e-03\n",
      "Done after 239 iterations. Increasing num_particles to 2.\n",
      "Done after 71 iterations. Increasing num_particles to 4.\n",
      "Done after 232 iterations. Increasing num_particles to 8.\n",
      "Done in 1508.59 seconds \n",
      "\n"
     ]
    },
    {
     "data": {
      "image/png": "[encoded data removed]",
      "text/plain": [
       "<Figure size 432x288 with 1 Axes>"
      ]
     },
     "metadata": {
      "needs_background": "light"
     },
     "output_type": "display_data"
    },
    {
     "name": "stderr",
     "output_type": "stream",
     "text": [
      "/gpfs/commons/home/tlin/.conda/envs/polyfun/lib/python3.6/site-packages/numpy/core/_asarray.py:83: UserWarning: Warning: converting a masked element to nan.\n",
      "  return array(a, dtype, copy=False, order=order)\n"
     ]
    },
    {
     "data": {
      "image/png": "[encoded data removed]",
      "text/plain": [
       "<Figure size 432x288 with 1 Axes>"
      ]
     },
     "metadata": {
      "needs_background": "light"
     },
     "output_type": "display_data"
    },
    {
     "name": "stderr",
     "output_type": "stream",
     "text": [
      "/gpfs/commons/home/tlin/.conda/envs/polyfun/lib/python3.6/site-packages/ipykernel_launcher.py:67: MatplotlibDeprecationWarning: Adding an axes using the same arguments as a previous axes currently reuses the earlier instance.  In a future version, a new instance will always be created and returned.  Meanwhile, this warning can be suppressed, and the future behavior ensured, by passing a unique label to each axes instance.\n"
     ]
    },
    {
     "data": {
      "image/png": "[encoded data removed]",
      "text/plain": [
       "<Figure size 432x288 with 1 Axes>"
      ]
     },
     "metadata": {
      "needs_background": "light"
     },
     "output_type": "display_data"
    },
    {
     "name": "stdout",
     "output_type": "stream",
     "text": [
      "anno_weight\n",
      "          0         1         2\n",
      "0 -1.018717 -0.624669  1.409911\n",
      "\n",
      "\n",
      "person R list\n",
      "[0.715173266517596]\n"
     ]
    },
    {
     "data": {
      "text/plain": [
       "(          0         1         2\n",
       " 0 -1.018717 -0.624669  1.409911,\n",
       " [0.715173266517596])"
      ]
     },
     "execution_count": 6,
     "metadata": {},
     "output_type": "execute_result"
    }
   ],
   "source": [
    "check_sim_result(chr22_dict,  chrom=22, refit_time = 1, prop_nz = 0.1)"
   ]
  },
  {
   "cell_type": "code",
   "execution_count": 7,
   "id": "05a5abf4-5dad-4c78-af46-a52449e095e3",
   "metadata": {},
   "outputs": [
    {
     "name": "stdout",
     "output_type": "stream",
     "text": [
      "... parse reference file: /gpfs/commons/groups/knowles_lab/data/ADSP_reguloML/LD_PRScs/ldblk_ukbb_eur/snpinfo_ukbb_hm3 ...\n",
      "... parse sumstats file: test_data/wightman_chr22.tsv ...\n",
      "... 14014 common SNPs in the reference, sumstats, and validation set ...\n"
     ]
    }
   ],
   "source": [
    "chrom=22\n",
    "ref_df = parse_genet.parse_ref(chr22_dict['ref_dir'] + '/snpinfo_ukbb_hm3')\n",
    "ref_df = ref_df[ref_df.CHR == chrom]\n",
    "vld_df = parse_genet.parse_bim(chr22_dict['bim_prefix'] + \".bim\")\n",
    "vld_df = vld_df[vld_df.CHR == chrom]\n",
    "sst_dict = parse_genet.parse_sumstats(ref_df, vld_df, chr22_dict['sst_file'], chr22_dict['n_gwas'])\n",
    "ld_blk, ld_blk_sym, blk_size = parse_genet.parse_ldblk(chr22_dict['ref_dir'], sst_dict, chrom)   "
   ]
  },
  {
   "cell_type": "code",
   "execution_count": 8,
   "id": "68d57aec-6ffa-453b-b23b-d81963d71d81",
   "metadata": {},
   "outputs": [
    {
     "name": "stdout",
     "output_type": "stream",
     "text": [
      "prop_nz = 0.200000\n",
      "2830\n"
     ]
    }
   ],
   "source": [
    "## get beta_true, beta_mrg, annotations, anno_names when nz = 0.2\n",
    "n_gwas = 200000\n",
    "sigma_noise = 1.\n",
    "prop_nz = 0.2\n",
    "beta_sd = 0.1\n",
    "p = len(sst_dict)\n",
    "sigma_over_sqrt_n = sigma_noise / torch.sqrt(torch.tensor(n_gwas))\n",
    "print('prop_nz = %f'%prop_nz) \n",
    "nz = torch.rand(p) < prop_nz\n",
    "beta_true = torch.where(nz, beta_sd * torch.randn(p), torch.zeros(p))\n",
    "annotations_02 = torch.stack([torch.ones(p),nz,torch.randn(p)]).T\n",
    "print(torch.sum(nz).item())\n",
    "beta_mrg = torch.zeros(p)\n",
    "anno_names = [\"perfect anno\",'random anno']\n",
    "\n",
    "mm = 0\n",
    "for kk in range(len(ld_blk)):\n",
    "    idx_blk = torch.arange(mm,mm+blk_size[kk])\n",
    "    ld_torch = torch.tensor(ld_blk[kk], dtype = torch.float)\n",
    "    L, V = torch.linalg.eigh(ld_torch)\n",
    "    L[L < 0.] = 0.\n",
    "\n",
    "    beta_mrg[idx_blk] = ld_torch @ beta_true[idx_blk] + sigma_over_sqrt_n * (V @ torch.diag(L.sqrt())) @ torch.randn(blk_size[kk])\n",
    "    mm += blk_size[kk]\n",
    "    "
   ]
  },
  {
   "cell_type": "code",
   "execution_count": 10,
   "id": "e6e3a99f-0ce1-4666-a7ac-99e03cb4adc2",
   "metadata": {},
   "outputs": [
    {
     "name": "stdout",
     "output_type": "stream",
     "text": [
      "prop_nz = 0.050000\n",
      "670\n"
     ]
    }
   ],
   "source": [
    "prop_nz= 0.05\n",
    "print('prop_nz = %f'%prop_nz) \n",
    "nz = torch.rand(p) < prop_nz\n",
    "beta_true_005 = torch.where(nz, beta_sd * torch.randn(p), torch.zeros(p))\n",
    "annotations_005 = torch.stack([torch.ones(p),nz,torch.randn(p)]).T\n",
    "print(torch.sum(nz).item())\n",
    "beta_mrg_005 = torch.zeros(p)\n",
    "anno_names_005 = [\"perfect anno\",'random anno']\n",
    "\n",
    "mm = 0\n",
    "for kk in range(len(ld_blk)):\n",
    "    idx_blk = torch.arange(mm,mm+blk_size[kk])\n",
    "    ld_torch = torch.tensor(ld_blk[kk], dtype = torch.float)\n",
    "    L, V = torch.linalg.eigh(ld_torch)\n",
    "    L[L < 0.] = 0.\n",
    "\n",
    "    beta_mrg_005[idx_blk] = ld_torch @ beta_true_005[idx_blk] + sigma_over_sqrt_n * (V @ torch.diag(L.sqrt())) @ torch.randn(blk_size[kk])\n",
    "    mm += blk_size[kk]"
   ]
  },
  {
   "cell_type": "code",
   "execution_count": 13,
   "id": "6af91aa4-ad23-4862-88b5-0105fdd2a9e4",
   "metadata": {},
   "outputs": [
    {
     "name": "stdout",
     "output_type": "stream",
     "text": [
      "43.67596435546875\n",
      "29.166034698486328\n"
     ]
    }
   ],
   "source": [
    "print(torch.sum(beta_mrg_005).item())\n",
    "print(torch.sum(beta_mrg).item())\n"
   ]
  },
  {
   "cell_type": "code",
   "execution_count": 20,
   "id": "6b2613de-2715-4376-aa30-a2e29abe9402",
   "metadata": {},
   "outputs": [
    {
     "name": "stdout",
     "output_type": "stream",
     "text": [
      "670.0\n",
      "2830.0\n"
     ]
    }
   ],
   "source": [
    "print(torch.sum(annotations_005[:,1]).item())\n",
    "print(torch.sum(annotations_02[:,1]).item())"
   ]
  },
  {
   "cell_type": "code",
   "execution_count": 50,
   "id": "633f3868-191e-49d1-bc8a-b8e24a3e55f4",
   "metadata": {},
   "outputs": [
    {
     "name": "stdout",
     "output_type": "stream",
     "text": [
      "start VI...\n"
     ]
    },
    {
     "data": {
      "text/plain": [
       "<module 'vi' from '/gpfs/commons/home/tlin/script/casopr/vi.py'>"
      ]
     },
     "execution_count": 50,
     "metadata": {},
     "output_type": "execute_result"
    }
   ],
   "source": [
    "sst_dict[\"BETA\"] = beta_mrg\n",
    "device = torch.device(\"cuda:0\" if torch.cuda.is_available() else \"cpu\")\n",
    "anno_names.insert(0,'intercept')\n",
    "print(\"start VI...\")\n",
    "importlib.reload(vi)"
   ]
  },
  {
   "cell_type": "code",
   "execution_count": 58,
   "id": "a608ecd6-68fa-4cad-8e26-3ba42157a0aa",
   "metadata": {},
   "outputs": [
    {
     "name": "stdout",
     "output_type": "stream",
     "text": [
      "... Starting SVI ...\n",
      "Degenerate LD mat (min eigenvalue=-9.352e-04), fixing to 1.000e-03\n",
      "Degenerate LD mat (min eigenvalue=-2.456e-03), fixing to 1.000e-03\n",
      "Degenerate LD mat (min eigenvalue=-2.087e-02), fixing to 1.000e-03\n",
      "Degenerate LD mat (min eigenvalue=-5.423e-03), fixing to 1.000e-03\n",
      "Degenerate LD mat (min eigenvalue=-1.136e-02), fixing to 1.000e-03\n",
      "Degenerate LD mat (min eigenvalue=-3.357e-03), fixing to 1.000e-03\n",
      "Degenerate LD mat (min eigenvalue=-5.320e-03), fixing to 1.000e-03\n",
      "Degenerate LD mat (min eigenvalue=-2.545e-03), fixing to 1.000e-03\n",
      "Degenerate LD mat (min eigenvalue=-3.650e-03), fixing to 1.000e-03\n",
      "Degenerate LD mat (min eigenvalue=-6.476e-03), fixing to 1.000e-03\n",
      "Degenerate LD mat (min eigenvalue=-1.174e-02), fixing to 1.000e-03\n",
      "Degenerate LD mat (min eigenvalue=-1.371e-02), fixing to 1.000e-03\n",
      "Degenerate LD mat (min eigenvalue=-4.008e-03), fixing to 1.000e-03\n",
      "Degenerate LD mat (min eigenvalue=-1.265e-02), fixing to 1.000e-03\n",
      "Degenerate LD mat (min eigenvalue=-1.096e-03), fixing to 1.000e-03\n",
      "Degenerate LD mat (min eigenvalue=-3.126e-03), fixing to 1.000e-03\n",
      "Degenerate LD mat (min eigenvalue=-1.397e-02), fixing to 1.000e-03\n",
      "Degenerate LD mat (min eigenvalue=-2.549e-03), fixing to 1.000e-03\n",
      "Degenerate LD mat (min eigenvalue=-3.676e-02), fixing to 1.000e-03\n",
      "Degenerate LD mat (min eigenvalue=-1.538e-02), fixing to 1.000e-03\n",
      "Degenerate LD mat (min eigenvalue=-8.095e-03), fixing to 1.000e-03\n",
      "Degenerate LD mat (min eigenvalue=-4.668e-03), fixing to 1.000e-03\n",
      "Degenerate LD mat (min eigenvalue=-3.716e-03), fixing to 1.000e-03\n",
      "Degenerate LD mat (min eigenvalue=-6.841e-03), fixing to 1.000e-03\n",
      "Done after 217 iterations. Increasing num_particles to 2.\n",
      "Done after 105 iterations. Increasing num_particles to 4.\n",
      "Done after 155 iterations. Increasing num_particles to 8.\n",
      "Done in 1717.54 seconds \n",
      "\n"
     ]
    },
    {
     "data": {
      "image/png": "[encoded data removed]",
      "text/plain": [
       "<Figure size 432x288 with 1 Axes>"
      ]
     },
     "metadata": {
      "needs_background": "light"
     },
     "output_type": "display_data"
    }
   ],
   "source": [
    "pearsonr_list=[]\n",
    "anno_list=pd.DataFrame()\n",
    "refit_time=1\n",
    "\n",
    "losses, beta, phi_est, stats = vi.vi(sst_dict, chr22_dict['n_gwas'], ld_blk, blk_size, device = device, annotations = annotations, max_iterations = chr22_dict['n_iter'], max_particles=4, desired_min_eig = 1e-3, min_iterations = 200, stall_window = 30, phi_as_prior = False, lr = 0.03, constrain_sigma = True)\n",
    "plt.plot(losses);plt.title('losses');#plt.savefig(save_dir + '/loss/'+ param_dict['save_fig_name'] + '_' + 'iter%d'%refit_time +'_'+random_name +'_' +'loss_%s.png'%i);\n",
    "plt.show()\n",
    "            \n",
    "            \n",
    "r=scipy.stats.pearsonr(beta_true,beta)[0]\n",
    "pearsonr_list.append(r)\n",
    "\n",
    "## check anno\n",
    "anno_df = pd.DataFrame.from_dict(stats[\"annotation_weights\"] )\n",
    "anno_list = anno_list.append(anno_df[\"mean\"].to_frame().T, ignore_index=True)  \n",
    "    \n",
    "    "
   ]
  },
  {
   "cell_type": "code",
   "execution_count": 59,
   "id": "42f54019-4b07-4f46-9f63-894c887c99a1",
   "metadata": {},
   "outputs": [
    {
     "data": {
      "text/html": [
       "<div>\n",
       "<style scoped>\n",
       "    .dataframe tbody tr th:only-of-type {\n",
       "        vertical-align: middle;\n",
       "    }\n",
       "\n",
       "    .dataframe tbody tr th {\n",
       "        vertical-align: top;\n",
       "    }\n",
       "\n",
       "    .dataframe thead th {\n",
       "        text-align: right;\n",
       "    }\n",
       "</style>\n",
       "<table border=\"1\" class=\"dataframe\">\n",
       "  <thead>\n",
       "    <tr style=\"text-align: right;\">\n",
       "      <th></th>\n",
       "      <th>0</th>\n",
       "      <th>1</th>\n",
       "      <th>2</th>\n",
       "    </tr>\n",
       "  </thead>\n",
       "  <tbody>\n",
       "    <tr>\n",
       "      <th>0</th>\n",
       "      <td>0.579539</td>\n",
       "      <td>0.506434</td>\n",
       "      <td>0.956915</td>\n",
       "    </tr>\n",
       "  </tbody>\n",
       "</table>\n",
       "</div>"
      ],
      "text/plain": [
       "          0         1         2\n",
       "0  0.579539  0.506434  0.956915"
      ]
     },
     "execution_count": 59,
     "metadata": {},
     "output_type": "execute_result"
    }
   ],
   "source": [
    "anno_list"
   ]
  },
  {
   "cell_type": "code",
   "execution_count": 38,
   "id": "57c897c7-4bdd-4640-9736-81a59c291973",
   "metadata": {},
   "outputs": [
    {
     "name": "stdout",
     "output_type": "stream",
     "text": [
      "prop_nz = 0.050000\n",
      "749\n"
     ]
    }
   ],
   "source": [
    "n_gwas = 200000\n",
    "sigma_noise = 1.\n",
    "prop_nz = 0.05\n",
    "beta_sd = 0.1\n",
    "p = len(sst_dict)\n",
    "sigma_over_sqrt_n = sigma_noise / torch.sqrt(torch.tensor(n_gwas))\n",
    "print('prop_nz = %f'%prop_nz) \n",
    "nz = torch.rand(p) < prop_nz\n",
    "beta_true = torch.where(nz, beta_sd * torch.randn(p), torch.zeros(p))\n",
    "annotations_005 = torch.stack([torch.ones(p),nz,torch.randn(p)]).T\n",
    "print(torch.sum(nz).item())"
   ]
  },
  {
   "cell_type": "code",
   "execution_count": 39,
   "id": "144b5bb0-4c17-43de-baf2-64ca476b0187",
   "metadata": {},
   "outputs": [
    {
     "data": {
      "text/plain": [
       "False"
      ]
     },
     "execution_count": 39,
     "metadata": {},
     "output_type": "execute_result"
    }
   ],
   "source": [
    "torch.equal(annotations_02, annotations_005)"
   ]
  },
  {
   "cell_type": "code",
   "execution_count": 40,
   "id": "3d3d3bdc-fd76-46bf-b04b-7e8f247a7084",
   "metadata": {},
   "outputs": [
    {
     "data": {
      "text/plain": [
       "tensor([0.0521, 0.9808, 0.9768,  ..., 0.2160, 0.3149, 0.5086])"
      ]
     },
     "execution_count": 40,
     "metadata": {},
     "output_type": "execute_result"
    }
   ],
   "source": [
    "torch.rand(p)"
   ]
  },
  {
   "cell_type": "code",
   "execution_count": null,
   "id": "7edc3ef4-db9b-4e3b-a6db-5503bb2d0c63",
   "metadata": {},
   "outputs": [],
   "source": []
  }
 ],
 "metadata": {
  "kernelspec": {
   "display_name": "polyfun",
   "language": "python",
   "name": "polyfun"
  },
  "language_info": {
   "codemirror_mode": {
    "name": "ipython",
    "version": 3
   },
   "file_extension": ".py",
   "mimetype": "text/x-python",
   "name": "python",
   "nbconvert_exporter": "python",
   "pygments_lexer": "ipython3",
   "version": "3.6.13"
  }
 },
 "nbformat": 4,
 "nbformat_minor": 5
}
