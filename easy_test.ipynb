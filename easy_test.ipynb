{
 "cells": [
  {
   "cell_type": "code",
   "execution_count": 1,
   "id": "c5739859-9c50-4131-881d-e6339c2a5e16",
   "metadata": {},
   "outputs": [],
   "source": [
    "import parse_genet, simulate, test_simulation, mcmc_gtb\n",
    "import os\n",
    "import sys\n",
    "import getopt\n",
    "import vi\n",
    "import importlib\n",
    "import torch\n",
    "import matplotlib.pyplot as plt\n",
    "import numpy as np\n",
    "import pyro.distributions as dist\n",
    "import scipy.stats\n",
    "import pandas as pd\n",
    "import numpy as np\n",
    "import pyro\n",
    "from tqdm import tqdm"
   ]
  },
  {
   "cell_type": "markdown",
   "id": "3f59ee1f-be6b-406f-9621-df2051b8f624",
   "metadata": {},
   "source": [
    "## loading data\n"
   ]
  },
  {
   "cell_type": "markdown",
   "id": "47c5edc7-abac-4b29-b001-604920f60141",
   "metadata": {},
   "source": [
    "### for the simulated 1000 SNPs from PRSCS, run this"
   ]
  },
  {
   "cell_type": "code",
   "execution_count": 12,
   "id": "d78b9fbc-cda3-4da0-af02-a62d73e4303d",
   "metadata": {},
   "outputs": [],
   "source": [
    "param_dict = {\n",
    "    'ref_dir' : '/gpfs/commons/groups/knowles_lab/data/ADSP_reguloML/LD_PRScs/ldblk_ukbb_eur', ## add my path\n",
    "    'bim_prefix' : \"test_data/test\",\n",
    "    'sst_file' : \"test_data/sumstats.txt\",\n",
    "    'n_gwas' : 200000, \n",
    "    'out_dir' : \"test_data\",\n",
    "    'seed' : 42, \n",
    "    'beta_std' : \"False\", \n",
    "    'n_iter' : 1000,\n",
    "    'chrom':22\n",
    "}"
   ]
  },
  {
   "cell_type": "markdown",
   "id": "52cfdda7-f8fb-48f5-afb4-d409ee4d9dbf",
   "metadata": {},
   "source": [
    "### for chr22 data(wightman + ADSP bim file), run this instead"
   ]
  },
  {
   "cell_type": "code",
   "execution_count": 2,
   "id": "e1c3f327-241f-4a81-83e7-42492f19f2e6",
   "metadata": {},
   "outputs": [],
   "source": [
    "param_dict = {\n",
    "    'ref_dir' : '/gpfs/commons/groups/knowles_lab/data/ADSP_reguloML/LD_PRScs/ldblk_ukbb_eur', ## add my path\n",
    "    'bim_prefix' : 'test_data/ADSP_qc_chr22',\n",
    "    'sst_file' : 'test_data/wightman_chr22.tsv',\n",
    "    'n_gwas' : 762971,\n",
    "    'out_dir' : \"test_data\",\n",
    "    'seed' : 42, \n",
    "    'beta_std' : \"False\", \n",
    "    'n_iter' : 1000,\n",
    "    'chrom':22\n",
    "}"
   ]
  },
  {
   "cell_type": "markdown",
   "id": "48480add-e5e2-47bb-9c7a-0fab5a6a51fb",
   "metadata": {},
   "source": [
    "### loading other data"
   ]
  },
  {
   "cell_type": "code",
   "execution_count": 3,
   "id": "6c18c581-2163-4b05-9ff9-901ac3074092",
   "metadata": {},
   "outputs": [
    {
     "name": "stdout",
     "output_type": "stream",
     "text": [
      "... parse reference file: /gpfs/commons/groups/knowles_lab/data/ADSP_reguloML/LD_PRScs/ldblk_ukbb_eur/snpinfo_ukbb_hm3 ...\n",
      "... parse sumstats file: test_data/wightman_chr22.tsv ...\n",
      "Found 14014 common SNPs in the reference, sumstats, and validation set \n",
      "\n",
      "... parse reference LD on chromosome 22 ...\n",
      "There are 24 ld_blocks. \n",
      "\n"
     ]
    }
   ],
   "source": [
    "importlib.reload(parse_genet)\n",
    "chrom = param_dict['chrom']\n",
    "ref_df = parse_genet.parse_ref(param_dict['ref_dir'] + '/snpinfo_ukbb_hm3')\n",
    "ref_df = ref_df[ref_df.CHR == chrom]\n",
    "vld_df = parse_genet.parse_bim(param_dict['bim_prefix'] + \".bim\")\n",
    "vld_df = vld_df[vld_df.CHR == chrom]\n",
    "sst_dict = parse_genet.parse_sumstats(ref_df, vld_df, param_dict['sst_file'], param_dict['n_gwas']) ## take the interception SNP of sumstat, ref_ld, validate df\n",
    "ld_blk, ld_blk_sym, blk_size = parse_genet.parse_ldblk(param_dict['ref_dir'], sst_dict, chrom) ## ld_blk & ld_blk_sym are the equal here.\n",
    "print(\"There are %s ld_blocks. \\n\" %(len(ld_blk)))"
   ]
  },
  {
   "cell_type": "markdown",
   "id": "fbb3caf4-ed6b-4117-b2a6-f66512ad227f",
   "metadata": {},
   "source": [
    "# simulating data\n",
    "## change variables in the following chuck for testing\n",
    "\n",
    "```\n",
    "anno_path(bool or string):  \n",
    "    If no annotation wanted: anno_path = None (default)\n",
    "    If easy annotations wanted (intercept, perfect_anno, random_anno): anno_path = False\n",
    "    If specific annotation wanted, just leave the absolute path. (Could take multiple ones, seperate with \",\"): anno_path = path1,path2,....\n",
    "\n",
    "noise_size(float):  How much noise to add to the perfect annotation. Could be set to zero.\n",
    "run_prscs(bool): If you want to run PRSCS\n",
    "refit_time(int): how many time to refit the same simulated data. (result will be saved every refit)\n",
    "lr (float):Learning rate for the optimization\n",
    "gaussian_anno_weight(bool): If false, 1/3 of anno_weight will be set to 0, other 2/3 will be dirichlet distributed \n",
    "path(string): Will save output here, but all the pics will be shown in the interactive mode\n",
    "```"
   ]
  },
  {
   "cell_type": "code",
   "execution_count": 11,
   "id": "f77b2084-6bac-4747-bb2c-c67b14b8f569",
   "metadata": {},
   "outputs": [],
   "source": [
    "#path for our annotations:\n",
    "bl_anno='/gpfs/commons/groups/knowles_lab/data/ADSP_reguloML/annotations/annotations_high_h2/baseline/baseline_high_h2_chr'\n",
    "deepsea='/gpfs/commons/groups/knowles_lab/data/ADSP_reguloML/annotations/annotations_high_h2/deepsea/deepsea_high_h2_chr'\n",
    "enformer='/gpfs/commons/groups/knowles_lab/data/ADSP_reguloML/annotations/annotations_high_h2/enformer/enformer_high_h2_chr'\n",
    "all_anno = ','.join([bl_anno, deepsea, enformer])\n",
    "\n",
    "## Change this accordingly\n",
    "anno_path = False\n",
    "noise_size = 0.1 \n",
    "run_prscs = True \n",
    "refit_time = 1\n",
    "phi_as_prior = False\n",
    "lr = 0.03\n",
    "constrain_sigma = True\n",
    "gaussian_anno_weight = True \n",
    "path = 'test_output/' \n"
   ]
  },
  {
   "cell_type": "code",
   "execution_count": 12,
   "id": "e3c05db5-8f60-48a4-b27e-165cdad72d37",
   "metadata": {},
   "outputs": [
    {
     "name": "stdout",
     "output_type": "stream",
     "text": [
      "... simulating betas...\n",
      "... simulating perfect anno...\n",
      "... add noise between +- 0.1 for the perfect anno ...\n",
      "test_output/perfect_anno_noise.pdf\n"
     ]
    },
    {
     "data": {
      "image/png": "[encoded data removed]",
      "text/plain": [
       "<Figure size 576x576 with 2 Axes>"
      ]
     },
     "metadata": {
      "needs_background": "light"
     },
     "output_type": "display_data"
    },
    {
     "name": "stderr",
     "output_type": "stream",
     "text": [
      "  0%|          | 0/1 [00:00<?, ?it/s]"
     ]
    },
    {
     "name": "stdout",
     "output_type": "stream",
     "text": [
      "... start VI...\n",
      "Re-train the model 1 time(s)\n",
      "... Starting SVI ...\n",
      "Degenerate LD mat (min eigenvalue=-9.351e-04), fixing to 1.000e-03\n",
      "Degenerate LD mat (min eigenvalue=-2.456e-03), fixing to 1.000e-03\n",
      "Degenerate LD mat (min eigenvalue=-2.087e-02), fixing to 1.000e-03\n",
      "Degenerate LD mat (min eigenvalue=-5.423e-03), fixing to 1.000e-03\n",
      "Degenerate LD mat (min eigenvalue=-1.136e-02), fixing to 1.000e-03\n",
      "Degenerate LD mat (min eigenvalue=-3.357e-03), fixing to 1.000e-03\n",
      "Degenerate LD mat (min eigenvalue=-5.320e-03), fixing to 1.000e-03\n",
      "Degenerate LD mat (min eigenvalue=-2.546e-03), fixing to 1.000e-03\n",
      "Degenerate LD mat (min eigenvalue=-3.650e-03), fixing to 1.000e-03\n",
      "Degenerate LD mat (min eigenvalue=-6.476e-03), fixing to 1.000e-03\n",
      "Degenerate LD mat (min eigenvalue=-1.174e-02), fixing to 1.000e-03\n",
      "Degenerate LD mat (min eigenvalue=-1.371e-02), fixing to 1.000e-03\n",
      "Degenerate LD mat (min eigenvalue=-4.008e-03), fixing to 1.000e-03\n",
      "Degenerate LD mat (min eigenvalue=-1.265e-02), fixing to 1.000e-03\n",
      "Degenerate LD mat (min eigenvalue=-1.096e-03), fixing to 1.000e-03\n",
      "Degenerate LD mat (min eigenvalue=-3.126e-03), fixing to 1.000e-03\n",
      "Degenerate LD mat (min eigenvalue=-1.397e-02), fixing to 1.000e-03\n",
      "Degenerate LD mat (min eigenvalue=-2.549e-03), fixing to 1.000e-03\n",
      "Degenerate LD mat (min eigenvalue=-3.676e-02), fixing to 1.000e-03\n",
      "Degenerate LD mat (min eigenvalue=-1.538e-02), fixing to 1.000e-03\n",
      "Degenerate LD mat (min eigenvalue=-8.095e-03), fixing to 1.000e-03\n",
      "Degenerate LD mat (min eigenvalue=-4.668e-03), fixing to 1.000e-03\n",
      "Degenerate LD mat (min eigenvalue=-3.716e-03), fixing to 1.000e-03\n",
      "Degenerate LD mat (min eigenvalue=-6.841e-03), fixing to 1.000e-03\n",
      "Done after 226 iterations. Increasing num_particles to 2.\n",
      "Done after 103 iterations. Increasing num_particles to 4.\n",
      "Done after 198 iterations. Increasing num_particles to 8.\n",
      "Done in 424.27 seconds \n",
      "\n"
     ]
    },
    {
     "data": {
      "image/png": "[encoded data removed]",
      "text/plain": [
       "<Figure size 432x288 with 1 Axes>"
      ]
     },
     "metadata": {
      "needs_background": "light"
     },
     "output_type": "display_data"
    },
    {
     "name": "stderr",
     "output_type": "stream",
     "text": [
      "100%|██████████| 1/1 [07:04<00:00, 424.50s/it]\n"
     ]
    },
    {
     "name": "stdout",
     "output_type": "stream",
     "text": [
      "... MCMC ...\n",
      "--- iter-100 ---\n",
      "--- iter-200 ---\n",
      "--- iter-300 ---\n",
      "--- iter-400 ---\n",
      "--- iter-500 ---\n",
      "--- iter-600 ---\n",
      "--- iter-700 ---\n",
      "--- iter-800 ---\n",
      "--- iter-900 ---\n",
      "--- iter-1000 ---\n",
      "saving beta\n"
     ]
    },
    {
     "name": "stderr",
     "output_type": "stream",
     "text": [
      "/gpfs/commons/home/tlin/script/casopr/test_simulation.py:71: MatplotlibDeprecationWarning: Adding an axes using the same arguments as a previous axes currently reuses the earlier instance.  In a future version, a new instance will always be created and returned.  Meanwhile, this warning can be suppressed, and the future behavior ensured, by passing a unique label to each axes instance.\n",
      "  ax = plt.axes()\n"
     ]
    },
    {
     "data": {
      "image/png": "[encoded data removed]",
      "text/plain": [
       "<Figure size 432x288 with 1 Axes>"
      ]
     },
     "metadata": {
      "needs_background": "light"
     },
     "output_type": "display_data"
    },
    {
     "name": "stderr",
     "output_type": "stream",
     "text": [
      "/gpfs/commons/home/tlin/.conda/envs/polyfun/lib/python3.6/site-packages/numpy/core/_asarray.py:83: UserWarning: Warning: converting a masked element to nan.\n",
      "  return array(a, dtype, copy=False, order=order)\n",
      "/gpfs/commons/home/tlin/.conda/envs/polyfun/lib/python3.6/site-packages/numpy/core/_asarray.py:83: UserWarning: Warning: converting a masked element to nan.\n",
      "  return array(a, dtype, copy=False, order=order)\n",
      "/gpfs/commons/home/tlin/.conda/envs/polyfun/lib/python3.6/site-packages/numpy/core/_asarray.py:83: UserWarning: Warning: converting a masked element to nan.\n",
      "  return array(a, dtype, copy=False, order=order)\n",
      "/gpfs/commons/home/tlin/.conda/envs/polyfun/lib/python3.6/site-packages/numpy/core/_asarray.py:83: UserWarning: Warning: converting a masked element to nan.\n",
      "  return array(a, dtype, copy=False, order=order)\n"
     ]
    },
    {
     "data": {
      "image/png": "[encoded data removed]",
      "text/plain": [
       "<Figure size 432x288 with 1 Axes>"
      ]
     },
     "metadata": {
      "needs_background": "light"
     },
     "output_type": "display_data"
    },
    {
     "name": "stdout",
     "output_type": "stream",
     "text": [
      "anno_weight\n",
      "         0        1         2\n",
      "0 -0.63961  0.20751 -1.299873\n"
     ]
    }
   ],
   "source": [
    "beta_true, beta_mrg, annotations, anno_names = simulate.simulate_sumstats(ld_blk, blk_size, param_dict['n_gwas'], len(sst_dict), sst_dict, path, anno_path = anno_path, noise_size = noise_size, chrom=chrom)\n",
    "sst_dict[\"BETA\"] = beta_mrg\n",
    "\n",
    "if anno_path != None:\n",
    "    anno_names.insert(0,'intercept')    \n",
    "\n",
    "device = torch.device(\"cuda:0\" if torch.cuda.is_available() else \"cpu\")\n",
    "\n",
    "print(\"... start VI...\")\n",
    "plt.figure()\n",
    "anno_list=pd.DataFrame()\n",
    "betas = pd.DataFrame({'beta_true':beta_true, 'beta_marginal':beta_mrg})\n",
    "for i in tqdm(range(refit_time)):\n",
    "    print('Re-train the model %d time(s)'% (i+1))\n",
    "    losses, beta, phi_est, stats =  vi.vi(sst_dict, param_dict['n_gwas'], ld_blk, blk_size, device = device, annotations = annotations, \n",
    "                                          max_iterations = param_dict['n_iter'], max_particles=4, desired_min_eig = 1e-3, min_iterations = 200, stall_window = 30, \n",
    "                                          phi_as_prior = phi_as_prior, lr = lr, constrain_sigma = constrain_sigma, gaussian_anno_weight = gaussian_anno_weight, path = path)\n",
    "    \n",
    "    column_name = f'beta_casioPR_{i + 1}'\n",
    "    betas[column_name] = beta\n",
    "    plt.plot(losses);plt.title('losses')\n",
    "\n",
    "    if anno_path != None:\n",
    "        anno_df = pd.DataFrame.from_dict(stats[\"annotation_weights\"])\n",
    "        anno_list = anno_list.append(anno_df[\"mean\"].to_frame().T, ignore_index=True) \n",
    "    if i == refit_time-1:\n",
    "        #plt.savefig(path+'loss.pdf',format ='pdf',bbox_inches='tight'); \n",
    "        plt.show()\n",
    "\n",
    "if (run_prscs):\n",
    "    beta_prscs = mcmc_gtb.mcmc(1, 0.5, None, sst_dict, param_dict['n_gwas'], ld_blk, blk_size, param_dict['n_iter'], 500, 5, int(chrom), path, False, 42)\n",
    "    betas['beta_prscs'] = beta_prscs.flatten()\n",
    "\n",
    "##  save beta\n",
    "print('saving beta')\n",
    "betas.to_csv(path+'betas.tsv', sep = '\\t', index = False)\n",
    "\n",
    "\n",
    "## get pearson, MSE, and mannwhitney U test \n",
    "beta_stats = test_simulation.get_beta_stats(betas)\n",
    "beta_stats.to_csv(path+ '/betas_stat.tsv', sep = '\\t', index = False)\n",
    "\n",
    "##  plot pearson r between the marginal beta and betea of PRSCS/CasioPR \n",
    "test_simulation.plot_pearsonr(beta_stats, run_prscs, refit_time, path)\n",
    "\n",
    "\n",
    "##  check anno_weight (only when annotation exist)\n",
    "if anno_path != None: \n",
    "    anno_list.to_csv(path+'anno_weight.csv')\n",
    "    plt.figure()\n",
    "    plt.bar(anno_list.mean().index, anno_list.mean(), yerr=anno_list.std(), capsize=3, color='turquoise')\n",
    "    plt.xticks(anno_list.mean().index, anno_names, rotation=90)\n",
    "    plt.axhline(y = 0, linestyle = '--', color = 'darkgrey') \n",
    "    plt.ylabel('weight'); plt.title('iterate %d times'%(refit_time))\n",
    "    #plt.savefig(path+'anno_weight.pdf',format ='pdf',bbox_inches='tight');\n",
    "    plt.show()\n",
    "    print('anno_weight')\n",
    "    print(anno_list)\n"
   ]
  },
  {
   "cell_type": "code",
   "execution_count": null,
   "id": "9557e658-ecc4-4194-b666-4077ffa22de3",
   "metadata": {},
   "outputs": [],
   "source": []
  }
 ],
 "metadata": {
  "kernelspec": {
   "display_name": "polyfun",
   "language": "python",
   "name": "polyfun"
  },
  "language_info": {
   "codemirror_mode": {
    "name": "ipython",
    "version": 3
   },
   "file_extension": ".py",
   "mimetype": "text/x-python",
   "name": "python",
   "nbconvert_exporter": "python",
   "pygments_lexer": "ipython3",
   "version": "3.6.13"
  }
 },
 "nbformat": 4,
 "nbformat_minor": 5
}
