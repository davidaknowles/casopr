{
 "cells": [
  {
   "cell_type": "code",
   "execution_count": 1,
   "id": "f2600468",
   "metadata": {},
   "outputs": [],
   "source": [
    "import pandas as pd\n",
    "import numpy as np\n",
    "import os\n",
    "import logging\n",
    "import time\n",
    "\n",
    "import parse_genet\n",
    "import sys\n",
    "import getopt\n",
    "\n",
    "import vi\n",
    "\n",
    "import importlib\n",
    "\n",
    "import simulate\n",
    "import torch\n",
    "import matplotlib.pyplot as plt\n",
    "import pyro.distributions as dist\n",
    "\n",
    "import scipy.stats"
   ]
  },
  {
   "cell_type": "code",
   "execution_count": 13,
   "id": "4160e719",
   "metadata": {},
   "outputs": [],
   "source": [
    "## add annotations part from simulate.py\n",
    "def simulate_sumstats(ld_blk, blk_size, n_gwas, p, prop_nz = 0.2, beta_sd = 0.1, sigma_noise = 1., anno_path= False): \n",
    "    sigma_over_sqrt_n = sigma_noise / torch.sqrt(torch.tensor(n_gwas))\n",
    "    nz = torch.rand(p) < prop_nz ## filter the snp with p threshold < prop_nz ## creating perfect annotation\n",
    "    ## nz: the perfect annotaion (1 for causal, 0 for not); ## should add some noise here too\n",
    "    beta_true = torch.where(nz, beta_sd * torch.randn(p), torch.zeros(p)) ## torch.randn = random normal distribution\n",
    "\n",
    "    #annotations = torch.stack([torch.ones(p),nz,torch.randn(p)]).T # intercept, useful annotation, random annotation\n",
    "    ### reading annotations\n",
    "    chrom = 22\n",
    "    anno_files = anno_path.split(',') if ',' in anno_file else [anno_path]\n",
    "    anno_list = []\n",
    "    for anno in anno_files:\n",
    "        anno_path = anno + f'{chrom}.annot.gz'\n",
    "        if not os.path.exists(anno_path):\n",
    "            raise IOError(f'Cannot find annotation file {anno}')\n",
    "        anno_list.append(anno_path)\n",
    "    print(\"Reading annotations from %d file(s)... \"%len(anno_list))\n",
    "    \n",
    "    ## parsing multiple annoation files\n",
    "    if len(anno_list) == 1:\n",
    "        anno_df =pd.read_csv(anno_list[0], compression='gzip',sep = '\\t') \n",
    "    else:\n",
    "        anno_df_list = [pd.read_csv(file, compression='gzip',sep='\\t') for file in anno_list]\n",
    "        columns_match = all(anno_df_list[0][['CHR', 'SNP', 'BP', 'A1', 'A2']].equals(df[['CHR', 'SNP', 'BP', 'A1', 'A2']]) for df in anno_df_list[1:])\n",
    "        if columns_match:\n",
    "            anno_df = pd.concat(anno_df_list, axis=1)\n",
    "            anno_df = anno_df.loc[:, ~anno_df.columns.duplicated()]\n",
    "        else:\n",
    "            raise IOError(\"Failed to merge annotations\")\n",
    "    print(\"Successfully loaded %d annotations for %d SNPs \\n\" %(anno_df.shape[1]-5, anno_df.shape[0]))\n",
    "    \n",
    "    anno_merge = sst_dict[['SNP','A1','A2']].merge(anno_df, on = 'SNP', suffixes=('', '_y')) \n",
    "    print('Total of %d SNPs after merging with sst \\n'%(anno_merge.shape[0]))\n",
    "    \n",
    "    ## flipping annotations if A1,A2 is opposite with the sst\n",
    "    flipping = anno_merge.loc[anno_merge[\"A1\"] == anno_merge['A2_y']]\n",
    "    if flipping.shape[0] > 0 :\n",
    "        print('Flipping annotaions for %d rows'% flipping.shape[0])\n",
    "        for col_index in range(7, anno_merge.shape[1]):\n",
    "            anno_merge.loc[anno_merge[\"A1\"] == anno_merge['A2_y'], anno_merge.columns[col_index]] = -anno_merge.iloc[:, col_index]\n",
    "\n",
    "    anno_merge = anno_merge.drop([\"A1_y\", 'A2_y'], axis=1)\n",
    "    annotations = torch.cat((torch.ones((anno_merge.shape[0],1)),torch.tensor(anno_merge.iloc[:,5:].values)), dim=1)\n",
    "    \n",
    "    beta_mrg = torch.zeros(p)\n",
    "    mm = 0\n",
    "    for kk in range(len(ld_blk)):\n",
    "        idx_blk = torch.arange(mm,mm+blk_size[kk])\n",
    "        ld_torch = torch.tensor(ld_blk[kk], dtype = torch.float)\n",
    "        L, V = torch.linalg.eigh(ld_torch)\n",
    "        L[L < 0.] = 0.\n",
    "\n",
    "        beta_mrg[idx_blk] = ld_torch @ beta_true[idx_blk] + sigma_over_sqrt_n * (V @ torch.diag(L.sqrt())) @ torch.randn(blk_size[kk])\n",
    "        #ld_torch @ beta_true[idx_blk], \n",
    "        # covariance_matrix = ld_torch * sigma_over_sqrt_n**2).rsample()\n",
    "        mm += blk_size[kk]\n",
    "\n",
    "    return beta_true, beta_mrg, annotations\n"
   ]
  },
  {
   "cell_type": "code",
   "execution_count": 15,
   "id": "1524df92",
   "metadata": {},
   "outputs": [
    {
     "name": "stdout",
     "output_type": "stream",
     "text": [
      "... parse reference file: /gpfs/commons/groups/knowles_lab/data/ADSP_reguloML/LD_PRScs/ldblk_ukbb_eur/snpinfo_ukbb_hm3 ...\n",
      "... parse sumstats file: test_data/sumstats.txt ...\n",
      "... 991 common SNPs in the reference, sumstats, and validation set ...\n",
      "... parse reference LD on chromosome 22 ...\n",
      "there are 4 ld_blk\n",
      "Reading annotations from 3 file(s)... \n",
      "Successfully loaded 28 annotations for 271699 SNPs \n",
      "\n",
      "Total of 991 SNPs after merging with sst \n",
      "\n",
      "Flipping annotaions for 756 rows\n",
      "Done in 6.95 seconds\n"
     ]
    }
   ],
   "source": [
    "chrom=22\n",
    "t0 = time.time()\n",
    "param_dict = {\n",
    "    'ref_dir' : '/gpfs/commons/groups/knowles_lab/data/ADSP_reguloML/LD_PRScs/ldblk_ukbb_eur', ## add my path\n",
    "    'bim_prefix' : \"test_data/test\",\n",
    "    'sst_file' : \"test_data/sumstats.txt\",\n",
    "    'n_gwas' : 200000, \n",
    "    'out_dir' : \"test_data\",\n",
    "    \"seed\" : 42, \n",
    "    \"beta_std\" : \"False\", \n",
    "    \"n_iter\" : 1000,\n",
    "    \"anno\" : '/gpfs/commons/groups/knowles_lab/data/ADSP_reguloML/annotations/annotations_high_h2/baseline/baseline_high_h2_chr'\n",
    "}\n",
    "\n",
    "ref_df = parse_genet.parse_ref(param_dict['ref_dir'] + '/snpinfo_ukbb_hm3')\n",
    "ref_df = ref_df[ref_df.CHR == chrom]\n",
    "vld_df = parse_genet.parse_bim(param_dict['bim_prefix'] + \".bim\")\n",
    "vld_df = vld_df[vld_df.CHR == chrom]\n",
    "sst_dict = parse_genet.parse_sumstats(ref_df, vld_df, param_dict['sst_file'], param_dict['n_gwas'])\n",
    "ld_blk, ld_blk_sym, blk_size = parse_genet.parse_ldblk(param_dict['ref_dir'], sst_dict, chrom)                                                                                                                                                                                 \n",
    "print(\"There are %d ld_blk\" %(len(ld_blk)))\n",
    "\n",
    "beta_true, beta_mrg, annotations = simulate_sumstats(ld_blk, blk_size, param_dict['n_gwas'], p = len(sst_dict), anno_path = bl_anno)\n",
    "\n",
    "print('Done in %0.2f seconds'%(time.time() - t0))"
   ]
  },
  {
   "cell_type": "code",
   "execution_count": 6,
   "id": "bb8ee714",
   "metadata": {},
   "outputs": [
    {
     "data": {
      "text/html": [
       "<div>\n",
       "<style scoped>\n",
       "    .dataframe tbody tr th:only-of-type {\n",
       "        vertical-align: middle;\n",
       "    }\n",
       "\n",
       "    .dataframe tbody tr th {\n",
       "        vertical-align: top;\n",
       "    }\n",
       "\n",
       "    .dataframe thead th {\n",
       "        text-align: right;\n",
       "    }\n",
       "</style>\n",
       "<table border=\"1\" class=\"dataframe\">\n",
       "  <thead>\n",
       "    <tr style=\"text-align: right;\">\n",
       "      <th></th>\n",
       "      <th>index</th>\n",
       "      <th>CHR</th>\n",
       "      <th>SNP</th>\n",
       "      <th>BP</th>\n",
       "      <th>A1</th>\n",
       "      <th>A2</th>\n",
       "      <th>MAF</th>\n",
       "    </tr>\n",
       "  </thead>\n",
       "  <tbody>\n",
       "    <tr>\n",
       "      <th>0</th>\n",
       "      <td>1101065</td>\n",
       "      <td>22</td>\n",
       "      <td>rs7287144</td>\n",
       "      <td>16886873</td>\n",
       "      <td>G</td>\n",
       "      <td>A</td>\n",
       "      <td>0.27220</td>\n",
       "    </tr>\n",
       "    <tr>\n",
       "      <th>1</th>\n",
       "      <td>1101066</td>\n",
       "      <td>22</td>\n",
       "      <td>rs5748662</td>\n",
       "      <td>16892858</td>\n",
       "      <td>A</td>\n",
       "      <td>G</td>\n",
       "      <td>0.27120</td>\n",
       "    </tr>\n",
       "    <tr>\n",
       "      <th>2</th>\n",
       "      <td>1101067</td>\n",
       "      <td>22</td>\n",
       "      <td>rs5747620</td>\n",
       "      <td>17032698</td>\n",
       "      <td>C</td>\n",
       "      <td>T</td>\n",
       "      <td>0.40470</td>\n",
       "    </tr>\n",
       "    <tr>\n",
       "      <th>3</th>\n",
       "      <td>1101068</td>\n",
       "      <td>22</td>\n",
       "      <td>rs9605903</td>\n",
       "      <td>17054720</td>\n",
       "      <td>C</td>\n",
       "      <td>T</td>\n",
       "      <td>0.27760</td>\n",
       "    </tr>\n",
       "    <tr>\n",
       "      <th>4</th>\n",
       "      <td>1101069</td>\n",
       "      <td>22</td>\n",
       "      <td>rs5747940</td>\n",
       "      <td>17056415</td>\n",
       "      <td>T</td>\n",
       "      <td>C</td>\n",
       "      <td>0.49070</td>\n",
       "    </tr>\n",
       "    <tr>\n",
       "      <th>...</th>\n",
       "      <td>...</td>\n",
       "      <td>...</td>\n",
       "      <td>...</td>\n",
       "      <td>...</td>\n",
       "      <td>...</td>\n",
       "      <td>...</td>\n",
       "      <td>...</td>\n",
       "    </tr>\n",
       "    <tr>\n",
       "      <th>16355</th>\n",
       "      <td>1117420</td>\n",
       "      <td>22</td>\n",
       "      <td>rs2285395</td>\n",
       "      <td>51178090</td>\n",
       "      <td>A</td>\n",
       "      <td>G</td>\n",
       "      <td>0.05199</td>\n",
       "    </tr>\n",
       "    <tr>\n",
       "      <th>16356</th>\n",
       "      <td>1117421</td>\n",
       "      <td>22</td>\n",
       "      <td>rs13056621</td>\n",
       "      <td>51181759</td>\n",
       "      <td>A</td>\n",
       "      <td>G</td>\n",
       "      <td>0.13070</td>\n",
       "    </tr>\n",
       "    <tr>\n",
       "      <th>16357</th>\n",
       "      <td>1117422</td>\n",
       "      <td>22</td>\n",
       "      <td>rs3888396</td>\n",
       "      <td>51211392</td>\n",
       "      <td>C</td>\n",
       "      <td>T</td>\n",
       "      <td>0.10210</td>\n",
       "    </tr>\n",
       "    <tr>\n",
       "      <th>16358</th>\n",
       "      <td>1117423</td>\n",
       "      <td>22</td>\n",
       "      <td>rs2238837</td>\n",
       "      <td>51212875</td>\n",
       "      <td>C</td>\n",
       "      <td>A</td>\n",
       "      <td>0.30240</td>\n",
       "    </tr>\n",
       "    <tr>\n",
       "      <th>16359</th>\n",
       "      <td>1117424</td>\n",
       "      <td>22</td>\n",
       "      <td>rs28729663</td>\n",
       "      <td>51219006</td>\n",
       "      <td>A</td>\n",
       "      <td>G</td>\n",
       "      <td>0.13050</td>\n",
       "    </tr>\n",
       "  </tbody>\n",
       "</table>\n",
       "<p>16360 rows × 7 columns</p>\n",
       "</div>"
      ],
      "text/plain": [
       "         index  CHR         SNP        BP A1 A2      MAF\n",
       "0      1101065   22   rs7287144  16886873  G  A  0.27220\n",
       "1      1101066   22   rs5748662  16892858  A  G  0.27120\n",
       "2      1101067   22   rs5747620  17032698  C  T  0.40470\n",
       "3      1101068   22   rs9605903  17054720  C  T  0.27760\n",
       "4      1101069   22   rs5747940  17056415  T  C  0.49070\n",
       "...        ...  ...         ...       ... .. ..      ...\n",
       "16355  1117420   22   rs2285395  51178090  A  G  0.05199\n",
       "16356  1117421   22  rs13056621  51181759  A  G  0.13070\n",
       "16357  1117422   22   rs3888396  51211392  C  T  0.10210\n",
       "16358  1117423   22   rs2238837  51212875  C  A  0.30240\n",
       "16359  1117424   22  rs28729663  51219006  A  G  0.13050\n",
       "\n",
       "[16360 rows x 7 columns]"
      ]
     },
     "execution_count": 6,
     "metadata": {},
     "output_type": "execute_result"
    }
   ],
   "source": [
    "ref_df\n"
   ]
  },
  {
   "cell_type": "markdown",
   "id": "eaf8a125",
   "metadata": {},
   "source": [
    "## parse annotations"
   ]
  },
  {
   "cell_type": "code",
   "execution_count": 4,
   "id": "190923de",
   "metadata": {},
   "outputs": [
    {
     "name": "stdout",
     "output_type": "stream",
     "text": [
      "... parse annotations ...\n",
      "Reading annotations from 3 file(s)... \n",
      "Successfully loaded 28 annotations for 271699 SNPs \n",
      "\n",
      "Total of 991 SNPs after merging with sst \n",
      "\n",
      "Flipping annotaions for 756 rows\n",
      "Done in 1.86 seconds\n"
     ]
    }
   ],
   "source": [
    "bl_anno='/gpfs/commons/groups/knowles_lab/data/ADSP_reguloML/annotations/annotations_high_h2/baseline/baseline_high_h2_chr'\n",
    "deepsea='/gpfs/commons/groups/knowles_lab/data/ADSP_reguloML/annotations/annotations_high_h2/deepsea/deepsea_high_h2_chr'\n",
    "enformer='/gpfs/commons/groups/knowles_lab/data/ADSP_reguloML/annotations/annotations_high_h2/enformer/enformer_high_h2_chr'\n",
    "\n",
    "anno_file = bl_anno+','+deepsea+','+enformer\n",
    "\n",
    "anno_torch = parse_genet.parse_anno(anno_file, sst_dict,22)\n"
   ]
  },
  {
   "cell_type": "code",
   "execution_count": 65,
   "id": "f7740f12",
   "metadata": {},
   "outputs": [
    {
     "name": "stdout",
     "output_type": "stream",
     "text": [
      "Successfully loaded 28 annotations for 271699 SNPs\n"
     ]
    }
   ],
   "source": [
    "## simplified version\n",
    "anno_file = bl_anno+','+deepsea+','+enformer\n",
    "anno_files = anno_file.split(',') if ',' in anno_file else [anno_file]\n",
    "\n",
    "anno_list = []\n",
    "for anno in anno_files:\n",
    "    anno_path = anno + f'{chrom}.annot.gz'\n",
    "    if not os.path.exists(anno_path):\n",
    "        raise IOError(f'Cannot find annotation file {anno}')\n",
    "    anno_list.append(anno_path)\n",
    "\n",
    "print(anno_list)\n",
    "   \n",
    "    \n",
    "if len(anno_list) == 1:\n",
    "    anno_df =pd.read_csv(anno_list[0], compression='gzip',sep = '\\t') \n",
    "else:\n",
    "    anno_df_list = [pd.read_csv(file, compression='gzip',sep='\\t') for file in anno_list]\n",
    "    \n",
    "    columns_match = all(anno_df_list[0][['CHR', 'SNP', 'BP', 'A1', 'A2']].equals(df[['CHR', 'SNP', 'BP', 'A1', 'A2']]) for df in anno_df_list[1:])\n",
    "    \n",
    "    if columns_match:\n",
    "        anno_df = pd.concat(anno_df_list, axis=1)\n",
    "        anno_df = anno_df.loc[:, ~anno_df.columns.duplicated()]\n",
    "        \n",
    "    else:\n",
    "        raise IOError(\"Can't successfully merge annotations\")\n",
    "        \n",
    "print(\"Successfully loaded %d annotations for %d SNPs\" %(anno_df.shape[1]-5, anno_df.shape[0]))"
   ]
  },
  {
   "cell_type": "code",
   "execution_count": 37,
   "id": "e42c8059",
   "metadata": {},
   "outputs": [
    {
     "data": {
      "text/plain": [
       "array([0., 0., 0., ..., 0., 0., 0.])"
      ]
     },
     "execution_count": 37,
     "metadata": {},
     "output_type": "execute_result"
    }
   ],
   "source": [
    "df_snps.iloc[:,5:10].values.ravel('K')"
   ]
  },
  {
   "cell_type": "code",
   "execution_count": 3,
   "id": "0191b2e3",
   "metadata": {},
   "outputs": [
    {
     "data": {
      "text/plain": [
       "<matplotlib.collections.PathCollection at 0x7f1c5070b7b8>"
      ]
     },
     "execution_count": 3,
     "metadata": {},
     "output_type": "execute_result"
    },
    {
     "data": {
      "image/png": "[encoded data removed]",
      "text/plain": [
       "<Figure size 432x288 with 1 Axes>"
      ]
     },
     "metadata": {
      "needs_background": "light"
     },
     "output_type": "display_data"
    }
   ],
   "source": [
    "plt.scatter(beta_true, beta_mrg)"
   ]
  },
  {
   "cell_type": "code",
   "execution_count": 4,
   "id": "874053ed",
   "metadata": {},
   "outputs": [
    {
     "data": {
      "text/plain": [
       "tensor([[ 1.0000,  0.0000, -1.5152],\n",
       "        [ 1.0000,  1.0000,  0.7892],\n",
       "        [ 1.0000,  0.0000, -0.3203],\n",
       "        ...,\n",
       "        [ 1.0000,  0.0000, -1.5114],\n",
       "        [ 1.0000,  1.0000, -1.5003],\n",
       "        [ 1.0000,  0.0000, -1.1544]])"
      ]
     },
     "execution_count": 4,
     "metadata": {},
     "output_type": "execute_result"
    }
   ],
   "source": [
    "annotations"
   ]
  },
  {
   "cell_type": "markdown",
   "id": "d32b602f",
   "metadata": {},
   "source": [
    "def vi(\n",
    "    sst_df, \n",
    "    n, \n",
    "    ld_blk, \n",
    "    blk_size, \n",
    "    device = \"cpu\",\n",
    "    annotations = None,\n",
    "    sigma_noise = None, \n",
    "    phi = None, \n",
    "    phi_as_prior = True,\n",
    "    constrain_psi = True, \n",
    "    constrain_sigma = False,\n",
    "    desired_min_eig = 1e-3, \n",
    "    **opt_kwargs\n",
    "):"
   ]
  },
  {
   "cell_type": "code",
   "execution_count": 5,
   "id": "229d6748",
   "metadata": {},
   "outputs": [
    {
     "name": "stdout",
     "output_type": "stream",
     "text": [
      "... SVI ...\n",
      "Degenerate LD mat (min eigenvalue=-4.233e-04), fixing to 1.000e-03\n",
      "Degenerate LD mat (min eigenvalue=-1.678e-03), fixing to 1.000e-03\n",
      "Degenerate LD mat (min eigenvalue=-2.295e-02), fixing to 1.000e-03\n",
      "Degenerate LD mat (min eigenvalue=-8.785e-04), fixing to 1.000e-03\n",
      "Done after 213 iterations. Increasing num_particles to 2.\n",
      "Done after 37 iterations. Increasing num_particles to 4.\n",
      "Done after 34 iterations. Increasing num_particles to 8.\n",
      "Done after 33 iterations. Increasing num_particles to 16.\n"
     ]
    },
    {
     "name": "stderr",
     "output_type": "stream",
     "text": [
      "INFO:root:Done in 24.44 seconds\n"
     ]
    }
   ],
   "source": [
    "param_dict = {\n",
    "    'ref_dir' : '/gpfs/commons/groups/knowles_lab/data/ADSP_reguloML/LD_PRScs/ldblk_ukbb_eur', ## add my path\n",
    "    'bim_prefix' : \"test_data/test\",\n",
    "    'sst_file' : \"test_data/sumstats.txt\",\n",
    "    'n_gwas' : 200000, \n",
    "    'out_dir' : \"test_data\",\n",
    "    \"seed\" : 42, \n",
    "    \"beta_std\" : \"False\", \n",
    "    \"n_iter\" : 1000,\n",
    "    'n_burnin': 500, 'thin': 5,'a': 1, 'b': 0.5, 'phi': None, 'chrom':22,\n",
    "    \"anno\" : anno_torch\n",
    "}\n",
    "\n",
    "\n",
    "## vi \n",
    "logging.getLogger().setLevel(logging.INFO)\n",
    "t0 = time.time()\n",
    "vi_test = vi.vi( sst_dict, param_dict['n_gwas'], ld_blk, blk_size)        \n",
    "logging.info('Done in %0.2f seconds'%(time.time() - t0))\n",
    "#losses, beta, phi_est, stats = vi.vi(sst_dict, param_dict['n_gwas'], ld_blk, blk_size, device = device, annotations = None, max_iterations = param_dict['n_iter'], min_particles = 1, max_particles=4, desired_min_eig = 1e-3, min_iterations = 200, stall_window = 30, phi_as_prior = False, lr = 0.03, constrain_sigma = True)\n"
   ]
  },
  {
   "cell_type": "code",
   "execution_count": 6,
   "id": "81ebabc7",
   "metadata": {},
   "outputs": [
    {
     "data": {
      "text/plain": [
       "313"
      ]
     },
     "execution_count": 6,
     "metadata": {},
     "output_type": "execute_result"
    }
   ],
   "source": [
    "len(vi_test[0])"
   ]
  },
  {
   "cell_type": "code",
   "execution_count": 7,
   "id": "4cd154d6",
   "metadata": {},
   "outputs": [
    {
     "data": {
      "text/plain": [
       "991"
      ]
     },
     "execution_count": 7,
     "metadata": {},
     "output_type": "execute_result"
    }
   ],
   "source": [
    "len(vi_test[1])  ## beta is per snp"
   ]
  },
  {
   "cell_type": "code",
   "execution_count": 8,
   "id": "9bc04fef",
   "metadata": {},
   "outputs": [
    {
     "data": {
      "text/plain": [
       "dict_keys(['sqrt_phi', 'sqrt_psi', 'sigma_noise', 'obs_0', 'obs_1', 'obs_2', 'obs_3', 'beta'])"
      ]
     },
     "execution_count": 8,
     "metadata": {},
     "output_type": "execute_result"
    }
   ],
   "source": [
    "vi_test[3].keys()"
   ]
  },
  {
   "cell_type": "code",
   "execution_count": 12,
   "id": "bb758653",
   "metadata": {},
   "outputs": [
    {
     "data": {
      "text/plain": [
       "dict_keys(['mean', 'std', '5%', '95%'])"
      ]
     },
     "execution_count": 12,
     "metadata": {},
     "output_type": "execute_result"
    }
   ],
   "source": [
    "vi_test[3]['beta'].keys()"
   ]
  },
  {
   "cell_type": "code",
   "execution_count": 13,
   "id": "a4ca51b6",
   "metadata": {},
   "outputs": [
    {
     "data": {
      "text/plain": [
       "991"
      ]
     },
     "execution_count": 13,
     "metadata": {},
     "output_type": "execute_result"
    }
   ],
   "source": [
    "len(vi_test[3]['beta']['mean'])"
   ]
  },
  {
   "cell_type": "code",
   "execution_count": null,
   "id": "c76605fb",
   "metadata": {},
   "outputs": [],
   "source": []
  }
 ],
 "metadata": {
  "kernelspec": {
   "display_name": "Python 3 (ipykernel)",
   "language": "python",
   "name": "python3"
  },
  "language_info": {
   "codemirror_mode": {
    "name": "ipython",
    "version": 3
   },
   "file_extension": ".py",
   "mimetype": "text/x-python",
   "name": "python",
   "nbconvert_exporter": "python",
   "pygments_lexer": "ipython3",
   "version": "3.8.0"
  }
 },
 "nbformat": 4,
 "nbformat_minor": 5
}
