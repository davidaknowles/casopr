{
 "cells": [
  {
   "cell_type": "code",
   "execution_count": 3,
   "id": "f09d82ee-3cc8-4a81-b2e4-a0604fed49b7",
   "metadata": {},
   "outputs": [],
   "source": [
    "import parse_genet\n",
    "import os\n",
    "import sys\n",
    "import getopt\n",
    "\n",
    "import vi\n",
    "\n",
    "import importlib\n",
    "\n",
    "import simulate\n",
    "import torch\n",
    "import matplotlib.pyplot as plt\n",
    "import numpy as np\n",
    "\n",
    "import pyro.distributions as dist\n",
    "\n",
    "import scipy.stats\n",
    "\n",
    "import pandas as pd\n",
    "import numpy as np"
   ]
  },
  {
   "cell_type": "code",
   "execution_count": 4,
   "id": "27012278-7f72-4196-85d9-17464584a02d",
   "metadata": {},
   "outputs": [
    {
     "name": "stdout",
     "output_type": "stream",
     "text": [
      "... parse reference file: /gpfs/commons/groups/knowles_lab/data/ADSP_reguloML/LD_PRScs/ldblk_1kg_eur/snpinfo_1kg_hm3 ...\n",
      "... parse sumstats file: test_data/sumstats.txt ...\n",
      "... 1000 common SNPs in the reference, sumstats, and validation set ...\n",
      "... parse reference LD on chromosome 22 ...\n"
     ]
    }
   ],
   "source": [
    "param_dict = {\n",
    "    'ref_dir' : '/gpfs/commons/groups/knowles_lab/data/ADSP_reguloML/LD_PRScs/ldblk_1kg_eur', ## add my path\n",
    "    'bim_prefix' : \"test_data/test\",\n",
    "    'sst_file' : \"test_data/sumstats.txt\",\n",
    "    'n_gwas' : 200000, \n",
    "    'out_dir' : \"test_data\",\n",
    "    \"seed\" : 42, \n",
    "    \"beta_std\" : \"False\", \n",
    "    \"n_iter\" : 1000\n",
    "}\n",
    "chrom=22\n",
    "\n",
    "\n",
    "\n",
    "ref_df = parse_genet.parse_ref(param_dict['ref_dir'] + '/snpinfo_1kg_hm3')\n",
    "\n",
    "\n",
    "ref_df = ref_df[ref_df.CHR == chrom]\n",
    "vld_df = parse_genet.parse_bim(param_dict['bim_prefix'] + \".bim\")\n",
    "vld_df = vld_df[vld_df.CHR == chrom]\n",
    "sst_dict = parse_genet.parse_sumstats(ref_df, vld_df, param_dict['sst_file'], param_dict['n_gwas']) ## take the interception SNP of sumstat, ref_ld, validate df\n",
    "ld_blk, ld_blk_sym, blk_size = parse_genet.parse_ldblk(param_dict['ref_dir'], sst_dict, chrom)\n",
    "\n"
   ]
  },
  {
   "cell_type": "code",
   "execution_count": 14,
   "id": "3098ae42-ffa8-4854-9845-e27ca5ad222a",
   "metadata": {},
   "outputs": [
    {
     "data": {
      "text/plain": [
       "[135, 176, 511, 178]"
      ]
     },
     "execution_count": 14,
     "metadata": {},
     "output_type": "execute_result"
    }
   ],
   "source": [
    "len(ld_blk) ## 4 blocks\n",
    "len(ld_blk_sym) ## same 4 blocks\n",
    "blk_size"
   ]
  },
  {
   "cell_type": "code",
   "execution_count": 15,
   "id": "05f67d1c-423a-4a3f-b6fd-bce24af7d2d0",
   "metadata": {},
   "outputs": [
    {
     "data": {
      "text/plain": [
       "array([[ 1.        , -0.594883  , -0.854701  , ..., -0.029778  ,\n",
       "        -0.0611675 , -0.0623354 ],\n",
       "       [-0.594883  ,  1.        ,  0.432201  , ...,  0.0220252 ,\n",
       "         0.0248158 ,  0.028129  ],\n",
       "       [-0.854701  ,  0.432201  ,  1.        , ..., -0.00325899,\n",
       "         0.0440021 ,  0.0483626 ],\n",
       "       ...,\n",
       "       [-0.029778  ,  0.0220252 , -0.00325899, ...,  1.        ,\n",
       "         0.88211   ,  0.876589  ],\n",
       "       [-0.0611675 ,  0.0248158 ,  0.0440021 , ...,  0.88211   ,\n",
       "         1.        ,  0.993641  ],\n",
       "       [-0.0623354 ,  0.028129  ,  0.0483626 , ...,  0.876589  ,\n",
       "         0.993641  ,  1.        ]])"
      ]
     },
     "execution_count": 15,
     "metadata": {},
     "output_type": "execute_result"
    }
   ],
   "source": [
    "ld_blk[1]"
   ]
  },
  {
   "cell_type": "code",
   "execution_count": 25,
   "id": "606c0ca5-1c1a-42ff-8c45-3856e5c6daac",
   "metadata": {},
   "outputs": [
    {
     "data": {
      "text/plain": [
       "True"
      ]
     },
     "execution_count": 25,
     "metadata": {},
     "output_type": "execute_result"
    }
   ],
   "source": [
    "np.array_equal(ld_blk_sym[0] , ld_blk[0])"
   ]
  },
  {
   "cell_type": "code",
   "execution_count": 28,
   "id": "3c6d5830-a53c-4be6-bd35-5b10fddf72c7",
   "metadata": {},
   "outputs": [],
   "source": [
    "#import h5py\n",
    "hdf_chr = h5py.File(param_dict['ref_dir'] + '/ldblk_1kg_chr' + str(chrom) + '.hdf5', 'r')"
   ]
  },
  {
   "cell_type": "code",
   "execution_count": 32,
   "id": "5f1cd9c7-952f-4b80-9d16-63a5da93798e",
   "metadata": {},
   "outputs": [],
   "source": [
    "n_blk = len(hdf_chr)"
   ]
  },
  {
   "cell_type": "code",
   "execution_count": 35,
   "id": "51d7a486-b72e-4205-a4c9-83770c5b59f9",
   "metadata": {},
   "outputs": [
    {
     "name": "stderr",
     "output_type": "stream",
     "text": [
      "/gpfs/commons/home/tlin/.conda/envs/polyfun/lib/python3.6/site-packages/ipykernel_launcher.py:2: DeprecationWarning: scipy.array is deprecated and will be removed in SciPy 2.0.0, use numpy.array instead\n",
      "  \n"
     ]
    }
   ],
   "source": [
    "import scipy as sp\n",
    "ld_blk = [sp.array(hdf_chr['blk_'+str(blk)]['ldblk']) for blk in range(1,n_blk+1)]"
   ]
  },
  {
   "cell_type": "code",
   "execution_count": 38,
   "id": "19db7439-354c-4a1b-9281-7ebaa42f4f08",
   "metadata": {},
   "outputs": [],
   "source": [
    "snp_blk = []\n",
    "for blk in range(1,n_blk+1):\n",
    "    snp_blk.append([bb.decode(\"UTF-8\") for bb in list(hdf_chr['blk_'+str(blk)]['snplist'])])"
   ]
  },
  {
   "cell_type": "code",
   "execution_count": 45,
   "id": "30aa40b9-ded1-49d5-bdae-0afaeaa99b06",
   "metadata": {},
   "outputs": [
    {
     "data": {
      "text/plain": [
       "24"
      ]
     },
     "execution_count": 45,
     "metadata": {},
     "output_type": "execute_result"
    }
   ],
   "source": [
    "len(snp_blk)"
   ]
  },
  {
   "cell_type": "code",
   "execution_count": 46,
   "id": "8ed56785-b304-416c-9364-0e859608626b",
   "metadata": {},
   "outputs": [
    {
     "name": "stdout",
     "output_type": "stream",
     "text": [
      "rs17210001\n"
     ]
    }
   ],
   "source": [
    "### the way to read s\n",
    "for i in list(hdf_chr['blk_4']['snplist']):\n",
    "    print(i.decode(\"UTF-8\"))\n",
    "    break"
   ]
  },
  {
   "cell_type": "code",
   "execution_count": 51,
   "id": "7ec2779e-7345-4c38-90f3-c651b5d71cdb",
   "metadata": {},
   "outputs": [
    {
     "name": "stdout",
     "output_type": "stream",
     "text": [
      "135\n",
      "176\n",
      "511\n",
      "178\n",
      "0\n",
      "0"
     ]
    },
    {
     "name": "stderr",
     "output_type": "stream",
     "text": [
      "/gpfs/commons/home/tlin/.conda/envs/polyfun/lib/python3.6/site-packages/ipykernel_launcher.py:15: DeprecationWarning: scipy.ix_ is deprecated and will be removed in SciPy 2.0.0, use numpy.ix_ instead\n",
      "  from ipykernel import kernelapp as app\n",
      "/gpfs/commons/home/tlin/.conda/envs/polyfun/lib/python3.6/site-packages/ipykernel_launcher.py:15: DeprecationWarning: scipy.outer is deprecated and will be removed in SciPy 2.0.0, use numpy.outer instead\n",
      "  from ipykernel import kernelapp as app\n"
     ]
    },
    {
     "name": "stdout",
     "output_type": "stream",
     "text": [
      "\n",
      "0\n",
      "0\n",
      "0\n",
      "0\n",
      "0\n",
      "0\n",
      "0\n",
      "0\n",
      "0\n",
      "0\n",
      "0\n",
      "0\n",
      "0\n",
      "0\n",
      "0\n",
      "0\n",
      "0\n",
      "0\n"
     ]
    }
   ],
   "source": [
    "    blk_size = []\n",
    "    ld_blk_sym = []\n",
    "    ld_blk_filt = []\n",
    "    mm = 0\n",
    "    for blk in range(n_blk):\n",
    "        idx = [ii for (ii, snp) in enumerate(snp_blk[blk]) if snp in sst_dict['SNP'].to_numpy() ]\n",
    "        print(len(idx))\n",
    "        if len(idx) == 0: \n",
    "            continue\n",
    "        \n",
    "        blk_size.append(len(idx))\n",
    "        \n",
    "        idx_blk = np.arange(mm,mm+len(idx))\n",
    "        flip = sst_dict['FLP'][idx_blk]\n",
    "        ld_blk_here = ld_blk[blk][sp.ix_(idx,idx)]*sp.outer(flip,flip)\n",
    "        ld_blk_filt.append(ld_blk_here)\n",
    "        \n",
    "        #_, s, v = linalg.svd(ld_blk_here)\n",
    "        #h = sp.dot(v.T, sp.dot(sp.diag(s), v)) # just weird way of getting transpose?! \n",
    "        #ld_blk_sym.append( (ld_blk_here+h)/2 )\n",
    "        \n",
    "        ld_blk_sym.append( (ld_blk_here+ld_blk_here.T)/2 )\n",
    "\n",
    "        mm += len(idx)"
   ]
  },
  {
   "cell_type": "code",
   "execution_count": 56,
   "id": "6805b74d-744a-403c-93da-de21478a9e30",
   "metadata": {},
   "outputs": [
    {
     "data": {
      "text/plain": [
       "[135, 176, 511, 178]"
      ]
     },
     "execution_count": 56,
     "metadata": {},
     "output_type": "execute_result"
    }
   ],
   "source": [
    "blk_size"
   ]
  },
  {
   "cell_type": "code",
   "execution_count": 55,
   "id": "0495b728-362f-4daa-9a43-0e48bb5d479f",
   "metadata": {},
   "outputs": [
    {
     "data": {
      "text/plain": [
       "1000"
      ]
     },
     "execution_count": 55,
     "metadata": {},
     "output_type": "execute_result"
    }
   ],
   "source": [
    "mm"
   ]
  },
  {
   "cell_type": "markdown",
   "id": "0a26fd3f-cbdb-4bf2-9fcb-602b54419227",
   "metadata": {},
   "source": [
    "## test_out simulate.py  "
   ]
  },
  {
   "cell_type": "code",
   "execution_count": 3,
   "id": "b290eec5-95ef-47e9-b83f-39f131f40bbb",
   "metadata": {},
   "outputs": [
    {
     "name": "stdout",
     "output_type": "stream",
     "text": [
      "... parse sumstats file: test_data/sumstats.txt ...\n",
      "... 1000 common SNPs in the reference, sumstats, and validation set ...\n",
      "... parse reference LD on chromosome 22 ...\n"
     ]
    },
    {
     "ename": "NameError",
     "evalue": "name 'p' is not defined",
     "output_type": "error",
     "traceback": [
      "\u001b[0;31m---------------------------------------------------------------------------\u001b[0m",
      "\u001b[0;31mNameError\u001b[0m                                 Traceback (most recent call last)",
      "\u001b[0;32m<ipython-input-3-38ee34d4da7a>\u001b[0m in \u001b[0;36m<module>\u001b[0;34m\u001b[0m\n\u001b[1;32m      9\u001b[0m \u001b[0;34m\u001b[0m\u001b[0m\n\u001b[1;32m     10\u001b[0m \u001b[0mbeta_true\u001b[0m\u001b[0;34m,\u001b[0m \u001b[0mbeta_mrg\u001b[0m\u001b[0;34m,\u001b[0m \u001b[0mannotations\u001b[0m \u001b[0;34m=\u001b[0m \u001b[0msimulate\u001b[0m\u001b[0;34m.\u001b[0m\u001b[0msimulate_sumstats\u001b[0m\u001b[0;34m(\u001b[0m\u001b[0mld_blk\u001b[0m\u001b[0;34m,\u001b[0m \u001b[0mblk_size\u001b[0m\u001b[0;34m,\u001b[0m \u001b[0mparam_dict\u001b[0m\u001b[0;34m[\u001b[0m\u001b[0;34m'n_gwas'\u001b[0m\u001b[0;34m]\u001b[0m\u001b[0;34m,\u001b[0m \u001b[0mp\u001b[0m \u001b[0;34m=\u001b[0m \u001b[0mlen\u001b[0m\u001b[0;34m(\u001b[0m\u001b[0msst_dict\u001b[0m\u001b[0;34m)\u001b[0m\u001b[0;34m)\u001b[0m\u001b[0;34m\u001b[0m\u001b[0;34m\u001b[0m\u001b[0m\n\u001b[0;32m---> 11\u001b[0;31m \u001b[0mannotations\u001b[0m \u001b[0;34m=\u001b[0m \u001b[0mtorch\u001b[0m\u001b[0;34m.\u001b[0m\u001b[0mstack\u001b[0m\u001b[0;34m(\u001b[0m\u001b[0;34m[\u001b[0m\u001b[0mtorch\u001b[0m\u001b[0;34m.\u001b[0m\u001b[0mones\u001b[0m\u001b[0;34m(\u001b[0m\u001b[0mp\u001b[0m\u001b[0;34m)\u001b[0m\u001b[0;34m,\u001b[0m\u001b[0mnz\u001b[0m\u001b[0;34m,\u001b[0m\u001b[0mtorch\u001b[0m\u001b[0;34m.\u001b[0m\u001b[0mrandn\u001b[0m\u001b[0;34m(\u001b[0m\u001b[0mp\u001b[0m\u001b[0;34m)\u001b[0m\u001b[0;34m]\u001b[0m\u001b[0;34m)\u001b[0m\u001b[0;34m\u001b[0m\u001b[0;34m\u001b[0m\u001b[0m\n\u001b[0m",
      "\u001b[0;31mNameError\u001b[0m: name 'p' is not defined"
     ]
    }
   ],
   "source": [
    "ref_df = ref_df[ref_df.CHR == chrom]\n",
    "vld_df = parse_genet.parse_bim(param_dict['bim_prefix'] + \".bim\")\n",
    "vld_df = vld_df[vld_df.CHR == chrom]\n",
    "sst_dict = parse_genet.parse_sumstats(ref_df, vld_df, param_dict['sst_file'], param_dict['n_gwas']) ## take the interception SNP of sumstat, ref_ld, validate df\n",
    "ld_blk, ld_blk_sym, blk_size = parse_genet.parse_ldblk(param_dict['ref_dir'], sst_dict, chrom) ## ld_blk & ld_blk_sym are the equal here.\n",
    "\n",
    "\n",
    "#mcmc_gtb.mcmc(param_dict['a'], param_dict['b'], param_dict['phi'], sst_dict, param_dict['n_gwas'], ld_blk, blk_size, param_dict['n_iter'], param_dict['n_burnin'], param_dict['thin'], int(chrom), param_dict['out_dir'], param_dict['beta_std'], param_dict['seed'])\n",
    "\n",
    "beta_true, beta_mrg, annotations = simulate.simulate_sumstats(ld_blk, blk_size, param_dict['n_gwas'], p = len(sst_dict))"
   ]
  },
  {
   "cell_type": "code",
   "execution_count": 61,
   "id": "2751dd91-b515-4052-a6a0-1f8e6b149433",
   "metadata": {},
   "outputs": [
    {
     "data": {
      "text/plain": [
       "1000"
      ]
     },
     "execution_count": 61,
     "metadata": {},
     "output_type": "execute_result"
    }
   ],
   "source": [
    "mm"
   ]
  },
  {
   "cell_type": "code",
   "execution_count": 63,
   "id": "280e0e83-2551-4f09-9dc6-b51852a590ae",
   "metadata": {},
   "outputs": [
    {
     "data": {
      "text/plain": [
       "1000"
      ]
     },
     "execution_count": 63,
     "metadata": {},
     "output_type": "execute_result"
    }
   ],
   "source": [
    "len(sst_dict)"
   ]
  },
  {
   "cell_type": "code",
   "execution_count": 4,
   "id": "4c99b369-5876-40a5-9693-64ecd5c3d2be",
   "metadata": {
    "collapsed": true,
    "jupyter": {
     "outputs_hidden": true
    },
    "tags": []
   },
   "outputs": [
    {
     "data": {
      "text/plain": [
       "tensor([ 0.1412,  0.0000,  0.0969,  0.0030,  0.0000,  0.0000,  0.0000,  0.0000,\n",
       "        -0.1608,  0.0000, -0.0199,  0.0743,  0.0000,  0.0000,  0.0000,  0.0000,\n",
       "         0.0000,  0.0000,  0.0000,  0.0000,  0.0000,  0.0000,  0.0000, -0.1591,\n",
       "         0.0000,  0.0000,  0.0000,  0.0916,  0.0637,  0.1197,  0.0000,  0.0000,\n",
       "         0.0000,  0.0000,  0.0000, -0.0187, -0.0308,  0.0000,  0.0000,  0.0000,\n",
       "         0.0000,  0.0000,  0.0000,  0.0000,  0.0000, -0.0488,  0.0000,  0.0000,\n",
       "         0.0000,  0.0000,  0.0000, -0.0892,  0.0000,  0.0000,  0.0000, -0.0880,\n",
       "         0.0000,  0.0592,  0.0000,  0.0000,  0.0000,  0.0000,  0.0000,  0.0000,\n",
       "         0.0000,  0.0000,  0.1746, -0.0926,  0.0000,  0.1239,  0.0000,  0.0000,\n",
       "         0.0000,  0.2192, -0.0286,  0.0000,  0.0000,  0.0000,  0.0000,  0.0000,\n",
       "         0.0000,  0.0000,  0.0000,  0.0000,  0.0000,  0.0000,  0.0000,  0.0000,\n",
       "         0.1847,  0.0000,  0.0000,  0.0000,  0.0000,  0.1021,  0.0000,  0.0000,\n",
       "         0.0000,  0.0000,  0.0000,  0.0000,  0.0225,  0.0875,  0.0000,  0.0000,\n",
       "         0.0000, -0.0505,  0.0000,  0.0000,  0.0000,  0.0000,  0.0000,  0.0000,\n",
       "         0.0000,  0.0000, -0.0770,  0.0000,  0.0000,  0.0000,  0.0000,  0.0000,\n",
       "        -0.0433,  0.0000,  0.0000,  0.0000,  0.0000,  0.0000,  0.0000,  0.0000,\n",
       "         0.0000, -0.1627,  0.0000,  0.0000,  0.0000,  0.1763,  0.0000,  0.0000,\n",
       "         0.0000,  0.0000,  0.0000,  0.0000,  0.0000,  0.0000,  0.0000,  0.0000,\n",
       "         0.0000,  0.0000,  0.0000, -0.0653,  0.0000,  0.0000,  0.0000,  0.0000,\n",
       "         0.0000,  0.0000,  0.0000,  0.0000,  0.0000,  0.0000,  0.0000,  0.0000,\n",
       "         0.0000,  0.0000,  0.0000, -0.0401,  0.2422, -0.2744,  0.0000,  0.0108,\n",
       "         0.0000,  0.0000,  0.0000,  0.0871,  0.0000, -0.1658,  0.0000,  0.0000,\n",
       "         0.0000,  0.0000,  0.0000,  0.0000,  0.0000,  0.0000,  0.0000,  0.0000,\n",
       "         0.1203,  0.0000,  0.0000,  0.0000,  0.0000,  0.0000,  0.0000,  0.0000,\n",
       "         0.0000,  0.0000,  0.0000,  0.2605,  0.0000,  0.0000,  0.0000,  0.0000,\n",
       "         0.0000,  0.0000,  0.0000,  0.0000,  0.0000,  0.0000,  0.0000,  0.0000,\n",
       "         0.0000,  0.0000,  0.0000,  0.0000, -0.0916,  0.0000,  0.0000,  0.0000,\n",
       "         0.1076,  0.0000,  0.0000,  0.0308,  0.0000,  0.0000, -0.0719,  0.0000,\n",
       "        -0.0198,  0.0000,  0.0000,  0.0000,  0.0000,  0.0000,  0.0000,  0.0000,\n",
       "         0.0000,  0.0000,  0.0000,  0.0518,  0.0000,  0.0000,  0.0000,  0.0000,\n",
       "         0.0000,  0.0000, -0.1573,  0.0000,  0.0000,  0.0000,  0.0000,  0.0000,\n",
       "         0.0000,  0.0000,  0.0000,  0.0000,  0.0000,  0.0000,  0.0000,  0.0000,\n",
       "         0.1004,  0.0000,  0.0000,  0.0000,  0.0000,  0.0000,  0.0000,  0.0000,\n",
       "         0.0000,  0.0000,  0.0715,  0.0000, -0.1400,  0.0000, -0.0484,  0.0086,\n",
       "         0.0000,  0.1379,  0.0000,  0.0601,  0.0000,  0.0000,  0.0000, -0.1120,\n",
       "         0.0000,  0.0000,  0.1052,  0.0000,  0.0000,  0.0000,  0.0000,  0.0000,\n",
       "         0.0000,  0.0142,  0.0000,  0.0000,  0.0000,  0.0000,  0.0000,  0.0000,\n",
       "         0.0000,  0.0000,  0.0000,  0.0000, -0.0815,  0.0000,  0.0000,  0.0000,\n",
       "         0.0000,  0.0000,  0.0000, -0.0617,  0.0000,  0.0000,  0.1111,  0.0000,\n",
       "         0.0000,  0.0000,  0.0341,  0.0000,  0.0000,  0.0000,  0.0000,  0.0000,\n",
       "         0.0000,  0.0000,  0.0000,  0.0000,  0.0000,  0.0000,  0.0000,  0.0000,\n",
       "         0.0000,  0.0000,  0.0000,  0.0000,  0.0000,  0.0000,  0.0000,  0.0000,\n",
       "         0.0000,  0.0000,  0.0552, -0.0617, -0.0360,  0.0000,  0.0000,  0.0000,\n",
       "         0.1509,  0.0358,  0.0000,  0.0000,  0.0234, -0.0547,  0.0000,  0.0000,\n",
       "         0.0000,  0.0000,  0.0000,  0.0000,  0.0000,  0.1293,  0.0000,  0.0000,\n",
       "         0.0000,  0.0000,  0.0000,  0.0000,  0.0000,  0.0000,  0.0555,  0.0000,\n",
       "         0.0000,  0.0000,  0.0000,  0.0000,  0.0000,  0.0000, -0.0007,  0.0000,\n",
       "         0.0000,  0.0000, -0.1192,  0.0000, -0.0072,  0.0000,  0.0000, -0.0641,\n",
       "         0.0000,  0.0000,  0.0000,  0.0000,  0.0000,  0.0000,  0.0000,  0.0000,\n",
       "         0.0000,  0.0644,  0.0938,  0.0000,  0.0000,  0.0000,  0.0000,  0.0000,\n",
       "         0.1640,  0.0000,  0.0000,  0.0000,  0.0000,  0.0000,  0.0000,  0.0000,\n",
       "         0.0000,  0.0419,  0.0000,  0.1418,  0.0000, -0.0160,  0.0000,  0.0000,\n",
       "         0.0000,  0.0000,  0.0000,  0.0000,  0.0000,  0.0000,  0.0000,  0.0000,\n",
       "         0.0000,  0.0000,  0.0000,  0.1352, -0.0260,  0.0000, -0.0349,  0.1185,\n",
       "         0.0000,  0.0000,  0.0000,  0.0000,  0.0000,  0.0000,  0.0000,  0.0000,\n",
       "         0.0000,  0.0000,  0.0000,  0.0000,  0.0000,  0.0000,  0.0000,  0.0133,\n",
       "         0.0000,  0.0000,  0.0000,  0.0000,  0.0000, -0.1312,  0.0000,  0.0000,\n",
       "         0.0000,  0.0000,  0.0000,  0.0000,  0.0000,  0.0000, -0.0996,  0.0000,\n",
       "         0.1607,  0.0000,  0.0000,  0.0000,  0.0000,  0.0000,  0.0262,  0.0000,\n",
       "         0.0000,  0.0000,  0.0000,  0.0000,  0.0000,  0.0000,  0.0000,  0.0000,\n",
       "         0.0000,  0.0323,  0.0000,  0.0000,  0.0000,  0.0000,  0.0795,  0.0000,\n",
       "         0.0000,  0.0000,  0.0000,  0.0000,  0.0000,  0.0000,  0.0000, -0.1026,\n",
       "         0.0000,  0.0000,  0.0000,  0.0000,  0.0000,  0.0000,  0.0000,  0.0000,\n",
       "         0.0965,  0.0000,  0.0000,  0.0000,  0.0000,  0.0000,  0.0000,  0.0000,\n",
       "         0.0000,  0.1375,  0.0000,  0.0000, -0.0917,  0.0000,  0.0000,  0.0000,\n",
       "         0.0000,  0.0000,  0.0000,  0.0000,  0.0000,  0.0000,  0.0021,  0.0000,\n",
       "         0.0000, -0.0968,  0.0000,  0.0000,  0.0000,  0.0000,  0.0000,  0.0989,\n",
       "         0.0000,  0.0000,  0.0000,  0.0000,  0.0000, -0.0736,  0.0000,  0.0000,\n",
       "         0.0000,  0.0000,  0.0000,  0.0000,  0.0000,  0.0000,  0.0564,  0.0000,\n",
       "         0.0000,  0.0000, -0.0440,  0.0496,  0.0000,  0.0000,  0.0000,  0.0000,\n",
       "         0.0000,  0.0000,  0.0000,  0.0000,  0.0000,  0.0000,  0.1501,  0.0000,\n",
       "         0.0078,  0.0000,  0.0661,  0.0000,  0.0000, -0.0301,  0.0000,  0.0000,\n",
       "         0.0000,  0.0000,  0.0000,  0.0000, -0.1827, -0.0928,  0.0000, -0.0138,\n",
       "         0.0000,  0.0000,  0.0000,  0.0000, -0.0246,  0.0000, -0.0187,  0.0000,\n",
       "         0.0000,  0.0000,  0.0843,  0.0000,  0.0000,  0.0408,  0.0000,  0.0000,\n",
       "         0.0000,  0.0000,  0.0000,  0.0000,  0.0000,  0.0000,  0.0000,  0.0000,\n",
       "         0.0000,  0.0000,  0.0000,  0.0000,  0.0832,  0.0000, -0.0433,  0.0000,\n",
       "         0.0000, -0.1153,  0.0000,  0.1659,  0.0000,  0.0000,  0.0000,  0.0289,\n",
       "         0.0000,  0.0000,  0.2386,  0.0000,  0.0000,  0.0000, -0.0492,  0.0000,\n",
       "         0.0000,  0.0000, -0.0124,  0.2169, -0.1261,  0.0000,  0.0000,  0.0000,\n",
       "         0.0000, -0.0318,  0.0017,  0.0000,  0.0000, -0.0819,  0.0000,  0.1794,\n",
       "         0.0000,  0.0000, -0.2514,  0.0000,  0.0000,  0.0000,  0.0000,  0.0000,\n",
       "         0.0000, -0.0553,  0.0000,  0.0000,  0.0000,  0.0000,  0.0000,  0.0000,\n",
       "         0.0000,  0.0000,  0.0000,  0.0000,  0.0000,  0.0000,  0.0000,  0.0000,\n",
       "         0.0000,  0.0000,  0.0000, -0.0072,  0.0000,  0.0000,  0.0000,  0.0000,\n",
       "         0.0000,  0.0000,  0.0000,  0.0000,  0.0000,  0.0000,  0.0000,  0.0000,\n",
       "         0.0000,  0.0972,  0.0000,  0.0000,  0.0000,  0.0000,  0.0000,  0.0000,\n",
       "         0.0000,  0.0000,  0.3030,  0.0215,  0.0000,  0.0553,  0.1359,  0.0000,\n",
       "         0.0000, -0.0710,  0.0000,  0.0000, -0.1391,  0.0000,  0.0570,  0.0000,\n",
       "         0.0000,  0.0000,  0.0000,  0.0000,  0.0531,  0.0000,  0.0000,  0.0000,\n",
       "         0.0000,  0.0000,  0.0000,  0.0000,  0.0000,  0.0000,  0.0969,  0.0000,\n",
       "         0.1216,  0.0000, -0.0653,  0.1852,  0.0000,  0.0000,  0.0000,  0.0000,\n",
       "        -0.0960, -0.0609, -0.0653,  0.0000,  0.0000, -0.1425,  0.0000,  0.0000,\n",
       "         0.0000, -0.0015,  0.0000,  0.0195,  0.0046,  0.0000,  0.0000,  0.0000,\n",
       "         0.0000,  0.0000,  0.0282,  0.0000,  0.0000,  0.0000,  0.0000, -0.0052,\n",
       "         0.0000,  0.0000,  0.0000, -0.1176,  0.0000,  0.0000,  0.0000,  0.0000,\n",
       "         0.0000, -0.1530,  0.1240,  0.0000,  0.0000,  0.0000, -0.0514,  0.0000,\n",
       "         0.0000,  0.0000,  0.0000, -0.0098,  0.0000,  0.0000,  0.0000,  0.1870,\n",
       "         0.0000,  0.0000, -0.0028,  0.0000,  0.0000,  0.0000,  0.0000,  0.0000,\n",
       "         0.0000,  0.0000,  0.0000,  0.1166,  0.0000,  0.0000,  0.0000,  0.0000,\n",
       "         0.0000,  0.1217,  0.0000,  0.0146,  0.0000,  0.0000,  0.0000,  0.0000,\n",
       "         0.0000,  0.0000,  0.0712,  0.1011,  0.0000,  0.0000,  0.0000,  0.0000,\n",
       "         0.0000,  0.0000,  0.0000,  0.0000,  0.0000,  0.0000,  0.0000,  0.0000,\n",
       "         0.0000,  0.1012,  0.0000,  0.0000, -0.0785, -0.1030,  0.0000,  0.0000,\n",
       "         0.0000,  0.0000,  0.0000,  0.0000, -0.1029,  0.0000,  0.0789,  0.0373,\n",
       "         0.0000,  0.0000,  0.1856,  0.0000,  0.0000,  0.0000,  0.1159,  0.0000,\n",
       "         0.0000,  0.0000,  0.0886,  0.0000,  0.0000,  0.0000,  0.0000, -0.0453,\n",
       "         0.0000,  0.0000,  0.0000,  0.0000,  0.0000,  0.0000,  0.0000,  0.0000,\n",
       "         0.0000,  0.0000,  0.0000,  0.0000,  0.0000,  0.0000,  0.0000,  0.0000,\n",
       "         0.0000,  0.0000,  0.0000,  0.0000,  0.0000,  0.0000,  0.0000,  0.0000,\n",
       "         0.0000,  0.0000,  0.0000,  0.0000,  0.0275, -0.0250,  0.0000,  0.0000,\n",
       "         0.0000,  0.0000,  0.0000,  0.0000,  0.0250,  0.0000, -0.0041,  0.0000,\n",
       "         0.0000,  0.0000,  0.0000,  0.0000,  0.0000,  0.0000,  0.0000, -0.0701,\n",
       "         0.0000, -0.0384,  0.0000,  0.0000,  0.0000,  0.0000,  0.0000,  0.0000,\n",
       "         0.0000,  0.0000,  0.0000,  0.0000,  0.0000, -0.1006,  0.0000,  0.0377,\n",
       "         0.0000,  0.0000,  0.0000,  0.0000, -0.3337,  0.0000,  0.0000,  0.0094,\n",
       "         0.0000,  0.1286,  0.0000,  0.0000,  0.0308,  0.0000, -0.1747,  0.0000,\n",
       "         0.0000,  0.0000,  0.0000,  0.0000,  0.0000,  0.0000,  0.0234,  0.0000,\n",
       "         0.0793, -0.0263,  0.0000,  0.0000,  0.0000,  0.0000,  0.0000,  0.0000,\n",
       "         0.0000,  0.0000,  0.0000,  0.0000,  0.0000,  0.0000,  0.0000,  0.0000,\n",
       "         0.0000,  0.0000,  0.0000, -0.0646, -0.0881,  0.0000,  0.0000,  0.0000,\n",
       "         0.0000,  0.0000,  0.0000,  0.0521,  0.0000,  0.0000,  0.0000,  0.0000,\n",
       "        -0.0341,  0.0000,  0.0000,  0.0000,  0.0000,  0.0000,  0.0000,  0.0000,\n",
       "        -0.0152,  0.0000,  0.0000,  0.0000, -0.0776,  0.0000,  0.0000,  0.0000,\n",
       "         0.0000,  0.0000,  0.0000,  0.0000,  0.0000, -0.0181,  0.0000,  0.0000])"
      ]
     },
     "execution_count": 4,
     "metadata": {},
     "output_type": "execute_result"
    }
   ],
   "source": [
    "p = len(sst_dict)\n",
    "nz = torch.rand(p) < 0.2\n",
    "beta_true = torch.where(nz, 0.1 * torch.randn(p), torch.zeros(p))\n",
    "beta_true"
   ]
  },
  {
   "cell_type": "code",
   "execution_count": 5,
   "id": "1590414e-39d0-412d-8be6-84f5b4964120",
   "metadata": {},
   "outputs": [
    {
     "data": {
      "text/plain": [
       "tensor([[ 1.0000,  1.0000,  1.0000,  ...,  1.0000,  1.0000,  1.0000],\n",
       "        [ 1.0000,  0.0000,  1.0000,  ...,  1.0000,  0.0000,  0.0000],\n",
       "        [-0.3444,  0.8976,  0.0366,  ..., -0.7617,  0.5392, -0.6843]])"
      ]
     },
     "execution_count": 5,
     "metadata": {},
     "output_type": "execute_result"
    }
   ],
   "source": [
    "annotations = torch.stack([torch.ones(p),nz,torch.randn(p)])\n",
    "annotations ## for every snp"
   ]
  },
  {
   "cell_type": "code",
   "execution_count": 6,
   "id": "6b48ac4c-bccf-4649-89fb-6e41da707c96",
   "metadata": {},
   "outputs": [
    {
     "data": {
      "text/plain": [
       "1000"
      ]
     },
     "execution_count": 6,
     "metadata": {},
     "output_type": "execute_result"
    }
   ],
   "source": [
    "len(annotations[1])"
   ]
  },
  {
   "cell_type": "code",
   "execution_count": 7,
   "id": "d927d034-ec4b-42ba-858e-c17c3ba36006",
   "metadata": {},
   "outputs": [
    {
     "name": "stdout",
     "output_type": "stream",
     "text": [
      "tensor([  0,   1,   2,   3,   4,   5,   6,   7,   8,   9,  10,  11,  12,  13,\n",
      "         14,  15,  16,  17,  18,  19,  20,  21,  22,  23,  24,  25,  26,  27,\n",
      "         28,  29,  30,  31,  32,  33,  34,  35,  36,  37,  38,  39,  40,  41,\n",
      "         42,  43,  44,  45,  46,  47,  48,  49,  50,  51,  52,  53,  54,  55,\n",
      "         56,  57,  58,  59,  60,  61,  62,  63,  64,  65,  66,  67,  68,  69,\n",
      "         70,  71,  72,  73,  74,  75,  76,  77,  78,  79,  80,  81,  82,  83,\n",
      "         84,  85,  86,  87,  88,  89,  90,  91,  92,  93,  94,  95,  96,  97,\n",
      "         98,  99, 100, 101, 102, 103, 104, 105, 106, 107, 108, 109, 110, 111,\n",
      "        112, 113, 114, 115, 116, 117, 118, 119, 120, 121, 122, 123, 124, 125,\n",
      "        126, 127, 128, 129, 130, 131, 132, 133, 134])\n",
      "tensor([[ 1.0000, -0.1463,  0.2104,  ..., -0.0104, -0.0318,  0.0257],\n",
      "        [-0.1463,  1.0000, -0.0522,  ..., -0.0410, -0.0468, -0.0328],\n",
      "        [ 0.2104, -0.0522,  1.0000,  ..., -0.0468, -0.0579,  0.0332],\n",
      "        ...,\n",
      "        [-0.0104, -0.0410, -0.0468,  ...,  1.0000,  0.9675, -0.1871],\n",
      "        [-0.0318, -0.0468, -0.0579,  ...,  0.9675,  1.0000, -0.2145],\n",
      "        [ 0.0257, -0.0328,  0.0332,  ..., -0.1871, -0.2145,  1.0000]])\n"
     ]
    }
   ],
   "source": [
    "mm=0\n",
    "for kk in range(len(ld_blk)):\n",
    "    idx_blk = torch.arange(mm,mm+blk_size[kk])\n",
    "    ld_torch = torch.tensor(ld_blk[kk], dtype = torch.float)\n",
    "    print(idx_blk)\n",
    "    print(ld_torch)\n",
    "    L, V = torch.linalg.eigh(ld_torch)\n",
    "    break"
   ]
  },
  {
   "cell_type": "code",
   "execution_count": 16,
   "id": "c44564c3-14d4-45f3-8bc7-f9d62063400b",
   "metadata": {},
   "outputs": [
    {
     "data": {
      "text/plain": [
       "tensor([-2.8701e-07, -2.5933e-07, -2.4489e-07, -1.9719e-07, -1.4229e-07,\n",
       "        -9.1758e-08, -6.8323e-08, -4.0874e-08, -2.9425e-08, -1.5823e-08,\n",
       "         1.0808e-09,  6.1763e-09,  2.8092e-08,  6.1921e-08,  8.2929e-08,\n",
       "         1.2159e-07,  1.5997e-07,  2.2286e-07,  2.4746e-07,  3.6694e-07,\n",
       "         7.9440e-07,  1.5274e-03,  1.6464e-03,  1.7237e-03,  1.7317e-03,\n",
       "         2.0195e-03,  2.1671e-03,  2.3259e-03,  2.6552e-03,  2.7704e-03,\n",
       "         3.1001e-03,  4.0371e-03,  4.2736e-03,  4.7468e-03,  5.0005e-03,\n",
       "         5.4366e-03,  5.7589e-03,  6.5098e-03,  7.2803e-03,  7.5573e-03,\n",
       "         7.8616e-03,  8.9578e-03,  9.3030e-03,  1.1276e-02,  1.1653e-02,\n",
       "         1.2443e-02,  1.3063e-02,  1.3592e-02,  1.4437e-02,  1.7321e-02,\n",
       "         1.7821e-02,  2.0109e-02,  2.1693e-02,  2.3077e-02,  2.4719e-02,\n",
       "         2.7001e-02,  3.5196e-02,  3.6366e-02,  3.9364e-02,  3.9530e-02,\n",
       "         4.2396e-02,  4.5874e-02,  5.1111e-02,  5.3921e-02,  5.6995e-02,\n",
       "         5.8743e-02,  6.2307e-02,  6.7301e-02,  7.3898e-02,  7.7166e-02,\n",
       "         8.3501e-02,  8.9109e-02,  9.3467e-02,  1.0344e-01,  1.1249e-01,\n",
       "         1.2057e-01,  1.2991e-01,  1.3788e-01,  1.4241e-01,  1.5653e-01,\n",
       "         1.6920e-01,  1.7860e-01,  1.8955e-01,  1.9145e-01,  2.0492e-01,\n",
       "         2.2392e-01,  2.3787e-01,  2.4594e-01,  2.5502e-01,  2.6072e-01,\n",
       "         2.6422e-01,  2.9176e-01,  3.1941e-01,  3.4134e-01,  3.6604e-01,\n",
       "         4.0651e-01,  4.1859e-01,  4.8126e-01,  5.4222e-01,  5.7494e-01,\n",
       "         6.3661e-01,  6.4635e-01,  7.1327e-01,  7.6256e-01,  8.2307e-01,\n",
       "         8.6917e-01,  9.0923e-01,  9.8009e-01,  9.8194e-01,  1.0901e+00,\n",
       "         1.1096e+00,  1.2146e+00,  1.3391e+00,  1.4264e+00,  1.4584e+00,\n",
       "         2.0311e+00,  2.2289e+00,  2.2871e+00,  2.4785e+00,  2.9592e+00,\n",
       "         3.1409e+00,  3.3031e+00,  3.9997e+00,  4.2668e+00,  4.3398e+00,\n",
       "         4.6066e+00,  5.3770e+00,  5.6377e+00,  6.4918e+00,  7.6062e+00,\n",
       "         7.8822e+00,  8.6802e+00,  9.6974e+00,  1.1700e+01,  1.2926e+01])"
      ]
     },
     "execution_count": 16,
     "metadata": {},
     "output_type": "execute_result"
    }
   ],
   "source": [
    "L"
   ]
  },
  {
   "cell_type": "code",
   "execution_count": 17,
   "id": "11d88ad6-6ea4-4b6d-be80-dbd9bcb114fb",
   "metadata": {},
   "outputs": [],
   "source": [
    "L[L < 0.] = 0. "
   ]
  },
  {
   "cell_type": "code",
   "execution_count": 18,
   "id": "50932b46-7fc5-461b-a710-b4ce82eb129d",
   "metadata": {},
   "outputs": [
    {
     "data": {
      "text/plain": [
       "tensor([0.0000e+00, 0.0000e+00, 0.0000e+00, 0.0000e+00, 0.0000e+00, 0.0000e+00,\n",
       "        0.0000e+00, 0.0000e+00, 0.0000e+00, 0.0000e+00, 1.0808e-09, 6.1763e-09,\n",
       "        2.8092e-08, 6.1921e-08, 8.2929e-08, 1.2159e-07, 1.5997e-07, 2.2286e-07,\n",
       "        2.4746e-07, 3.6694e-07, 7.9440e-07, 1.5274e-03, 1.6464e-03, 1.7237e-03,\n",
       "        1.7317e-03, 2.0195e-03, 2.1671e-03, 2.3259e-03, 2.6552e-03, 2.7704e-03,\n",
       "        3.1001e-03, 4.0371e-03, 4.2736e-03, 4.7468e-03, 5.0005e-03, 5.4366e-03,\n",
       "        5.7589e-03, 6.5098e-03, 7.2803e-03, 7.5573e-03, 7.8616e-03, 8.9578e-03,\n",
       "        9.3030e-03, 1.1276e-02, 1.1653e-02, 1.2443e-02, 1.3063e-02, 1.3592e-02,\n",
       "        1.4437e-02, 1.7321e-02, 1.7821e-02, 2.0109e-02, 2.1693e-02, 2.3077e-02,\n",
       "        2.4719e-02, 2.7001e-02, 3.5196e-02, 3.6366e-02, 3.9364e-02, 3.9530e-02,\n",
       "        4.2396e-02, 4.5874e-02, 5.1111e-02, 5.3921e-02, 5.6995e-02, 5.8743e-02,\n",
       "        6.2307e-02, 6.7301e-02, 7.3898e-02, 7.7166e-02, 8.3501e-02, 8.9109e-02,\n",
       "        9.3467e-02, 1.0344e-01, 1.1249e-01, 1.2057e-01, 1.2991e-01, 1.3788e-01,\n",
       "        1.4241e-01, 1.5653e-01, 1.6920e-01, 1.7860e-01, 1.8955e-01, 1.9145e-01,\n",
       "        2.0492e-01, 2.2392e-01, 2.3787e-01, 2.4594e-01, 2.5502e-01, 2.6072e-01,\n",
       "        2.6422e-01, 2.9176e-01, 3.1941e-01, 3.4134e-01, 3.6604e-01, 4.0651e-01,\n",
       "        4.1859e-01, 4.8126e-01, 5.4222e-01, 5.7494e-01, 6.3661e-01, 6.4635e-01,\n",
       "        7.1327e-01, 7.6256e-01, 8.2307e-01, 8.6917e-01, 9.0923e-01, 9.8009e-01,\n",
       "        9.8194e-01, 1.0901e+00, 1.1096e+00, 1.2146e+00, 1.3391e+00, 1.4264e+00,\n",
       "        1.4584e+00, 2.0311e+00, 2.2289e+00, 2.2871e+00, 2.4785e+00, 2.9592e+00,\n",
       "        3.1409e+00, 3.3031e+00, 3.9997e+00, 4.2668e+00, 4.3398e+00, 4.6066e+00,\n",
       "        5.3770e+00, 5.6377e+00, 6.4918e+00, 7.6062e+00, 7.8822e+00, 8.6802e+00,\n",
       "        9.6974e+00, 1.1700e+01, 1.2926e+01])"
      ]
     },
     "execution_count": 18,
     "metadata": {},
     "output_type": "execute_result"
    }
   ],
   "source": [
    "L"
   ]
  },
  {
   "cell_type": "code",
   "execution_count": 94,
   "id": "c7e89df9-19b7-48ee-8b6f-82dc1c37b349",
   "metadata": {},
   "outputs": [
    {
     "data": {
      "text/plain": [
       "array([[ 1.       , -0.14631  ,  0.210427 , ..., -0.0103829, -0.0318179,\n",
       "         0.0256598],\n",
       "       [-0.14631  ,  1.       , -0.0522206, ..., -0.0409753, -0.0467828,\n",
       "        -0.0328089],\n",
       "       [ 0.210427 , -0.0522206,  1.       , ..., -0.0467965, -0.057888 ,\n",
       "         0.0332181],\n",
       "       ...,\n",
       "       [-0.0103829, -0.0409753, -0.0467965, ...,  1.       ,  0.967532 ,\n",
       "        -0.187081 ],\n",
       "       [-0.0318179, -0.0467828, -0.057888 , ...,  0.967532 ,  1.       ,\n",
       "        -0.214542 ],\n",
       "       [ 0.0256598, -0.0328089,  0.0332181, ..., -0.187081 , -0.214542 ,\n",
       "         1.       ]])"
      ]
     },
     "execution_count": 94,
     "metadata": {},
     "output_type": "execute_result"
    }
   ],
   "source": [
    "ld_blk[0] ## ld_torch= ld_blk[0]"
   ]
  },
  {
   "cell_type": "code",
   "execution_count": 98,
   "id": "a409b185-83e6-4cd1-958e-5472862ae1a6",
   "metadata": {},
   "outputs": [],
   "source": [
    "sigma_over_sqrt_n = 1. / torch.sqrt(torch.tensor(param_dict['n_gwas']))\n",
    "beta_mrg = torch.zeros(p)\n",
    "mm = 0\n",
    "for kk in range(len(ld_blk)):\n",
    "        idx_blk = torch.arange(mm,mm+blk_size[kk])\n",
    "        ld_torch = torch.tensor(ld_blk[kk], dtype = torch.float)\n",
    "        L, V = torch.linalg.eigh(ld_torch)\n",
    "        L[L < 0.] = 0.\n",
    "\n",
    "        beta_mrg[idx_blk] = ld_torch @ beta_true[idx_blk] + sigma_over_sqrt_n * (V @ torch.diag(L.sqrt())) @ torch.randn(blk_size[kk])\n",
    "        #ld_torch @ beta_true[idx_blk], \n",
    "        # covariance_matrix = ld_torch * sigma_over_sqrt_n**2).rsample()\n",
    "        mm += blk_size[kk]"
   ]
  },
  {
   "cell_type": "code",
   "execution_count": 100,
   "id": "d884f668-5a61-455f-94ed-1e51e7ceaf5c",
   "metadata": {},
   "outputs": [
    {
     "data": {
      "text/plain": [
       "tensor([[ 1.0000,  1.0000,  1.0000,  ...,  1.0000,  1.0000,  1.0000],\n",
       "        [ 0.0000,  0.0000,  1.0000,  ...,  1.0000,  0.0000,  1.0000],\n",
       "        [-0.1161, -1.0200, -1.1958,  ...,  0.2512,  1.5513,  0.2354]])"
      ]
     },
     "execution_count": 100,
     "metadata": {},
     "output_type": "execute_result"
    }
   ],
   "source": [
    "annotations"
   ]
  },
  {
   "cell_type": "code",
   "execution_count": 19,
   "id": "5a685d1c-d32e-409d-a16b-659d6f3f759a",
   "metadata": {},
   "outputs": [
    {
     "name": "stdout",
     "output_type": "stream",
     "text": [
      "^C\n",
      "Traceback (most recent call last):\n",
      "  File \"PRScs.py\", line 78, in <module>\n",
      "    import vi\n",
      "  File \"/gpfs/commons/home/tlin/script/casopr/vi.py\", line 1, in <module>\n",
      "    import torch\n",
      "  File \"/gpfs/commons/home/tlin/.conda/envs/polyfun/lib/python3.6/site-packages/torch/__init__.py\", line 704, in <module>\n",
      "    from torch import multiprocessing as multiprocessing\n",
      "  File \"/gpfs/commons/home/tlin/.conda/envs/polyfun/lib/python3.6/site-packages/torch/multiprocessing/__init__.py\", line 18, in <module>\n",
      "    from .reductions import init_reductions\n",
      "  File \"/gpfs/commons/home/tlin/.conda/envs/polyfun/lib/python3.6/site-packages/torch/multiprocessing/reductions.py\", line 15, in <module>\n",
      "    import multiprocessing.resource_sharer\n",
      "  File \"<frozen importlib._bootstrap>\", line 971, in _find_and_load\n",
      "  File \"<frozen importlib._bootstrap>\", line 955, in _find_and_load_unlocked\n",
      "  File \"<frozen importlib._bootstrap>\", line 665, in _load_unlocked\n",
      "  File \"<frozen importlib._bootstrap_external>\", line 674, in exec_module\n",
      "  File \"<frozen importlib._bootstrap_external>\", line 764, in get_code\n",
      "  File \"<frozen importlib._bootstrap_external>\", line 832, in get_data\n",
      "KeyboardInterrupt\n"
     ]
    }
   ],
   "source": [
    "!python PRScs.py"
   ]
  },
  {
   "cell_type": "code",
   "execution_count": 14,
   "id": "e21f0fe5-a230-488b-b06a-6b1ededf1957",
   "metadata": {},
   "outputs": [
    {
     "data": {
      "text/plain": [
       "tensor(-0.6424)"
      ]
     },
     "execution_count": 14,
     "metadata": {},
     "output_type": "execute_result"
    }
   ],
   "source": [
    "#import pyro\n",
    "pyro.sample(\"test\",dist.Normal(0,1))"
   ]
  },
  {
   "cell_type": "code",
   "execution_count": 13,
   "id": "b85526e4-a5b8-4589-b145-d5875e8f0f8b",
   "metadata": {},
   "outputs": [
    {
     "ename": "ValueError",
     "evalue": "Expected reinterpreted_batch_ndims <= len(base_distribution.batch_shape), actual 1 vs 0",
     "output_type": "error",
     "traceback": [
      "\u001b[0;31m---------------------------------------------------------------------------\u001b[0m",
      "\u001b[0;31mValueError\u001b[0m                                Traceback (most recent call last)",
      "\u001b[0;32m<ipython-input-13-36cadfcbea40>\u001b[0m in \u001b[0;36m<module>\u001b[0;34m\u001b[0m\n\u001b[0;32m----> 1\u001b[0;31m \u001b[0mdist\u001b[0m\u001b[0;34m.\u001b[0m\u001b[0mNormal\u001b[0m\u001b[0;34m(\u001b[0m\u001b[0;36m0\u001b[0m\u001b[0;34m,\u001b[0m \u001b[0;36m1\u001b[0m\u001b[0;34m)\u001b[0m\u001b[0;34m.\u001b[0m\u001b[0mto_event\u001b[0m\u001b[0;34m(\u001b[0m\u001b[0;36m1\u001b[0m\u001b[0;34m)\u001b[0m\u001b[0;34m\u001b[0m\u001b[0;34m\u001b[0m\u001b[0m\n\u001b[0m",
      "\u001b[0;32m~/.conda/envs/polyfun/lib/python3.6/site-packages/pyro/distributions/torch_distribution.py\u001b[0m in \u001b[0;36mto_event\u001b[0;34m(self, reinterpreted_batch_ndims)\u001b[0m\n\u001b[1;32m    193\u001b[0m             )\n\u001b[1;32m    194\u001b[0m         return pyro.distributions.torch.Independent(\n\u001b[0;32m--> 195\u001b[0;31m             \u001b[0mbase_dist\u001b[0m\u001b[0;34m,\u001b[0m \u001b[0mreinterpreted_batch_ndims\u001b[0m\u001b[0;34m\u001b[0m\u001b[0;34m\u001b[0m\u001b[0m\n\u001b[0m\u001b[1;32m    196\u001b[0m         )\n\u001b[1;32m    197\u001b[0m \u001b[0;34m\u001b[0m\u001b[0m\n",
      "\u001b[0;32m~/.conda/envs/polyfun/lib/python3.6/site-packages/pyro/distributions/distribution.py\u001b[0m in \u001b[0;36m__call__\u001b[0;34m(cls, *args, **kwargs)\u001b[0m\n\u001b[1;32m     16\u001b[0m             \u001b[0;32mif\u001b[0m \u001b[0mresult\u001b[0m \u001b[0;32mis\u001b[0m \u001b[0;32mnot\u001b[0m \u001b[0;32mNone\u001b[0m\u001b[0;34m:\u001b[0m\u001b[0;34m\u001b[0m\u001b[0;34m\u001b[0m\u001b[0m\n\u001b[1;32m     17\u001b[0m                 \u001b[0;32mreturn\u001b[0m \u001b[0mresult\u001b[0m\u001b[0;34m\u001b[0m\u001b[0;34m\u001b[0m\u001b[0m\n\u001b[0;32m---> 18\u001b[0;31m         \u001b[0;32mreturn\u001b[0m \u001b[0msuper\u001b[0m\u001b[0;34m(\u001b[0m\u001b[0;34m)\u001b[0m\u001b[0;34m.\u001b[0m\u001b[0m__call__\u001b[0m\u001b[0;34m(\u001b[0m\u001b[0;34m*\u001b[0m\u001b[0margs\u001b[0m\u001b[0;34m,\u001b[0m \u001b[0;34m**\u001b[0m\u001b[0mkwargs\u001b[0m\u001b[0;34m)\u001b[0m\u001b[0;34m\u001b[0m\u001b[0;34m\u001b[0m\u001b[0m\n\u001b[0m\u001b[1;32m     19\u001b[0m \u001b[0;34m\u001b[0m\u001b[0m\n\u001b[1;32m     20\u001b[0m     \u001b[0;34m@\u001b[0m\u001b[0mproperty\u001b[0m\u001b[0;34m\u001b[0m\u001b[0;34m\u001b[0m\u001b[0m\n",
      "\u001b[0;32m~/.conda/envs/polyfun/lib/python3.6/site-packages/torch/distributions/independent.py\u001b[0m in \u001b[0;36m__init__\u001b[0;34m(self, base_distribution, reinterpreted_batch_ndims, validate_args)\u001b[0m\n\u001b[1;32m     38\u001b[0m             raise ValueError(\"Expected reinterpreted_batch_ndims <= len(base_distribution.batch_shape), \"\n\u001b[1;32m     39\u001b[0m                              \"actual {} vs {}\".format(reinterpreted_batch_ndims,\n\u001b[0;32m---> 40\u001b[0;31m                                                       len(base_distribution.batch_shape)))\n\u001b[0m\u001b[1;32m     41\u001b[0m         \u001b[0mshape\u001b[0m \u001b[0;34m=\u001b[0m \u001b[0mbase_distribution\u001b[0m\u001b[0;34m.\u001b[0m\u001b[0mbatch_shape\u001b[0m \u001b[0;34m+\u001b[0m \u001b[0mbase_distribution\u001b[0m\u001b[0;34m.\u001b[0m\u001b[0mevent_shape\u001b[0m\u001b[0;34m\u001b[0m\u001b[0;34m\u001b[0m\u001b[0m\n\u001b[1;32m     42\u001b[0m         \u001b[0mevent_dim\u001b[0m \u001b[0;34m=\u001b[0m \u001b[0mreinterpreted_batch_ndims\u001b[0m \u001b[0;34m+\u001b[0m \u001b[0mlen\u001b[0m\u001b[0;34m(\u001b[0m\u001b[0mbase_distribution\u001b[0m\u001b[0;34m.\u001b[0m\u001b[0mevent_shape\u001b[0m\u001b[0;34m)\u001b[0m\u001b[0;34m\u001b[0m\u001b[0;34m\u001b[0m\u001b[0m\n",
      "\u001b[0;31mValueError\u001b[0m: Expected reinterpreted_batch_ndims <= len(base_distribution.batch_shape), actual 1 vs 0"
     ]
    }
   ],
   "source": [
    "dist.Normal(0,1).to_event(1)"
   ]
  },
  {
   "cell_type": "code",
   "execution_count": null,
   "id": "febb4b45-2c52-4b32-93b9-16576f079727",
   "metadata": {},
   "outputs": [],
   "source": [
    " def load_annotations_file(self, args, chr_num, use_ridge):\n",
    "        \n",
    "        #load annotations file for this chromosome\n",
    "        if use_ridge:\n",
    "            annot_filenames = get_file_name(args, 'annot', chr_num, allow_multiple=True)\n",
    "        else:\n",
    "            annot_filenames = [get_file_name(args, 'bins', chr_num)]\n",
    "        \n",
    "        #load annotation file(s)\n",
    "        df_annot_chr_list = []\n",
    "        for annot_filename in annot_filenames:\n",
    "            try:\n",
    "                df_annot_chr = pd.read_parquet(annot_filename)\n",
    "            except (ArrowIOError, ArrowInvalid):\n",
    "                df_annot_chr = pd.read_table(annot_filename)\n",
    "            df_annot_chr_list.append(df_annot_chr)\n",
    "        if len(df_annot_chr_list)==1:\n",
    "            df_annot_chr = df_annot_chr_list[0]\n",
    "        else:\n",
    "            for df in df_annot_chr_list[1:]:\n",
    "                for snp_col in SNP_COLUMNS:\n",
    "                    if (df.shape[0] != df_annot_chr_list[0].shape[0]) or (np.any(df[snp_col] != df_annot_chr_list[0][snp_col])):\n",
    "                        raise ValueError('Different annotation files of chromosome %d must be perfectly aligned'%(chr_num))\n",
    "                df.drop(columns=['CM'], inplace=True, errors='ignore')\n",
    "                df.drop(columns=SNP_COLUMNS, inplace=True, errors='raise')\n",
    "            df_annot_chr = pd.concat(df_annot_chr_list, axis=1)\n",
    "        \n",
    "        #make sure all required columns were found\n",
    "        df_annot_chr.drop(columns=['CM'], inplace=True, errors='ignore')\n",
    "        found_missing_col = False\n",
    "        for colname in SNP_COLUMNS:\n",
    "            if colname not in df_annot_chr.columns:\n",
    "                logging.error('%s has a missing column: %s'%(annot_filename, colname))\n",
    "                found_missing_col = True\n",
    "        if found_missing_col:\n",
    "            raise ValueError('Missing columns found in %s'%(annot_filename))\n",
    "            \n",
    "        #subset annotations if requested\n",
    "        if args.anno is not None:\n",
    "            anno_to_use = args.anno.split(',')\n",
    "            assert np.all(np.isin(anno_to_use, df_annot_chr.columns))\n",
    "            df_annot_chr = df_annot_chr[SNP_COLUMNS + anno_to_use]\n",
    "            \n",
    "        #if we have more annotations that ref-ld, it might mean that some annotations were removed, so remove them from here as well\n",
    "        if not np.all(np.isin(self.ref_ld_cnames, df_annot_chr.columns)):\n",
    "            missing_annot = [c for c in self.ref_ld_cnames if c not in df_annot_chr.columns]\n",
    "            raise ValueError('The following annotations have LD-scores but are not in any of the annotation files: %s'%(missing_annot))\n",
    "        if len(self.ref_ld_cnames) < len(df_annot_chr.columns) - len(SNP_COLUMNS):            \n",
    "            df_annot_chr = df_annot_chr[SNP_COLUMNS + self.ref_ld_cnames]\n",
    "\n",
    "        #make sure that we get the same columns as the ones in the LD-score files\n",
    "        if not np.all([c for c in df_annot_chr.columns if c not in SNP_COLUMNS ]== self.ref_ld_cnames):\n",
    "            raise ValueError('Annotation names in annotations file do not match the one in the LD-scores file')            \n",
    "\n",
    "        return df_annot_chr"
   ]
  }
 ],
 "metadata": {
  "kernelspec": {
   "display_name": "polyfun",
   "language": "python",
   "name": "polyfun"
  },
  "language_info": {
   "codemirror_mode": {
    "name": "ipython",
    "version": 3
   },
   "file_extension": ".py",
   "mimetype": "text/x-python",
   "name": "python",
   "nbconvert_exporter": "python",
   "pygments_lexer": "ipython3",
   "version": "3.6.13"
  }
 },
 "nbformat": 4,
 "nbformat_minor": 5
}
